{
 "cells": [
  {
   "cell_type": "code",
   "execution_count": 1,
   "metadata": {},
   "outputs": [],
   "source": [
    "import requests\n",
    "from bs4 import BeautifulSoup\n",
    "import pandas as pd"
   ]
  },
  {
   "cell_type": "code",
   "execution_count": 2,
   "metadata": {},
   "outputs": [
    {
     "name": "stdout",
     "output_type": "stream",
     "text": [
      "http://openapi.data.go.kr/openapi/service/rest/Covid19/getCovid19SidoInfStateJson?serviceKey=c1N7z7KEDvTRSI1eJtuHGiVHaOOlF7yuSjsMNvcd5CsskIzYTNbPuki3ImWbHToiVxBnGacopQcmmZrOjpohPg%3D%3D&pageNo=1&numOfRows=10&startCreateDt=20200410&endCreateDt=20200410\n"
     ]
    }
   ],
   "source": [
    "url1 = 'http://openapi.data.go.kr/openapi/service/rest/Covid19/getCovid19SidoInfStateJson?serviceKey='\n",
    "key = 'c1N7z7KEDvTRSI1eJtuHGiVHaOOlF7yuSjsMNvcd5CsskIzYTNbPuki3ImWbHToiVxBnGacopQcmmZrOjpohPg%3D%3D'\n",
    "url2 = '&pageNo=1&numOfRows=10&startCreateDt=20200410&endCreateDt=20200410'\n",
    "print(url1 + key + url2)"
   ]
  },
  {
   "cell_type": "code",
   "execution_count": 3,
   "metadata": {},
   "outputs": [
    {
     "data": {
      "text/plain": [
       "<Response [200]>"
      ]
     },
     "execution_count": 3,
     "metadata": {},
     "output_type": "execute_result"
    }
   ],
   "source": [
    "# requests 라이브러리의 get 함수를 이용해 url경로에 응답 메시지 요청\n",
    "url = url1+key+url2\n",
    "xml = requests.get(url)\n",
    "xml"
   ]
  },
  {
   "cell_type": "code",
   "execution_count": 4,
   "metadata": {},
   "outputs": [
    {
     "data": {
      "text/plain": [
       "'<?xml version=\"1.0\" encoding=\"UTF-8\" standalone=\"yes\"?><response><header><resultCode>00</resultCode><resultMsg>NORMAL SERVICE.</resultMsg></header><body><items><item><createDt>2020-04-10 11:17:35.35</createDt><deathCnt>0</deathCnt><defCnt>352</defCnt><gubun>검역</gubun><gubunCn>隔離區</gubunCn><gubunEn>Lazaretto</gubunEn><incDec>4</incDec><isolClearCnt>3</isolClearCnt><isolIngCnt>349</isolIngCnt><localOccCnt>0</localOccCnt><overFlowCnt>4</overFlowCnt><qurRate>-</qurRate><seq>1014</seq><stdDay>2020년 04월 10일 00시</stdDay><updateDt>NULL</updateDt></item><item><createDt>2020-04-10 11:17:35.35</createDt><deathCnt>0</deathCnt><defCnt>12</defCnt><gubun>제주</gubun><gubunCn>济州</gubunCn><gubunEn>Jeju</gubunEn><incDec>0</incDec><isolClearCnt>4</isolClearCnt><isolIngCnt>8</isolIngCnt><localOccCnt>0</localOccCnt><overFlowCnt>0</overFlowCnt><qurRate>1.79</qurRate><seq>1013</seq><stdDay>2020년 04월 10일 00시</stdDay><updateDt>NULL</updateDt></item><item><createDt>2020-04-10 11:17:35.35</createDt><deathCnt>0</deathCnt><defCnt>115</defCnt><gubun>경남</gubun><gubunCn>庆南</gubunCn><gubunEn>Gyeongsangnam-do</gubunEn><incDec>0</incDec><isolClearCnt>82</isolClearCnt><isolIngCnt>33</isolIngCnt><localOccCnt>0</localOccCnt><overFlowCnt>0</overFlowCnt><qurRate>3.42</qurRate><seq>1012</seq><stdDay>2020년 04월 10일 00시</stdDay><updateDt>NULL</updateDt></item><item><createDt>2020-04-10 11:17:35.35</createDt><deathCnt>48</deathCnt><defCnt>1327</defCnt><gubun>경북</gubun><gubunCn>庆北</gubunCn><gubunEn>Gyeongsangbuk-do</gubunEn><incDec>7</incDec><isolClearCnt>994</isolClearCnt><isolIngCnt>285</isolIngCnt><localOccCnt>7</localOccCnt><overFlowCnt>0</overFlowCnt><qurRate>49.84</qurRate><seq>1011</seq><stdDay>2020년 04월 10일 00시</stdDay><updateDt>NULL</updateDt></item><item><createDt>2020-04-10 11:17:35.35</createDt><deathCnt>0</deathCnt><defCnt>15</defCnt><gubun>전남</gubun><gubunCn>全南</gubunCn><gubunEn>Jeollanam-do</gubunEn><incDec>0</incDec><isolClearCnt>4</isolClearCnt><isolIngCnt>11</isolIngCnt><localOccCnt>0</localOccCnt><overFlowCnt>0</overFlowCnt><qurRate>0.80</qurRate><seq>1010</seq><stdDay>2020년 04월 10일 00시</stdDay><updateDt>NULL</updateDt></item><item><createDt>2020-04-10 11:17:35.35</createDt><deathCnt>0</deathCnt><defCnt>17</defCnt><gubun>전북</gubun><gubunCn>全北</gubunCn><gubunEn>Jeollabuk-do</gubunEn><incDec>0</incDec><isolClearCnt>8</isolClearCnt><isolIngCnt>9</isolIngCnt><localOccCnt>0</localOccCnt><overFlowCnt>0</overFlowCnt><qurRate>0.94</qurRate><seq>1009</seq><stdDay>2020년 04월 10일 00시</stdDay><updateDt>NULL</updateDt></item><item><createDt>2020-04-10 11:17:35.35</createDt><deathCnt>0</deathCnt><defCnt>138</defCnt><gubun>충남</gubun><gubunCn>忠南</gubunCn><gubunEn>Chungcheongnam-do</gubunEn><incDec>0</incDec><isolClearCnt>105</isolClearCnt><isolIngCnt>33</isolIngCnt><localOccCnt>0</localOccCnt><overFlowCnt>0</overFlowCnt><qurRate>6.50</qurRate><seq>1008</seq><stdDay>2020년 04월 10일 00시</stdDay><updateDt>NULL</updateDt></item><item><createDt>2020-04-10 11:17:35.35</createDt><deathCnt>0</deathCnt><defCnt>45</defCnt><gubun>충북</gubun><gubunCn>忠北</gubunCn><gubunEn>Chungcheongbuk-do</gubunEn><incDec>0</incDec><isolClearCnt>28</isolClearCnt><isolIngCnt>17</isolIngCnt><localOccCnt>0</localOccCnt><overFlowCnt>0</overFlowCnt><qurRate>2.81</qurRate><seq>1007</seq><stdDay>2020년 04월 10일 00시</stdDay><updateDt>NULL</updateDt></item><item><createDt>2020-04-10 11:17:35.35</createDt><deathCnt>1</deathCnt><defCnt>49</defCnt><gubun>강원</gubun><gubunCn>江原</gubunCn><gubunEn>Gangwon-do</gubunEn><incDec>0</incDec><isolClearCnt>26</isolClearCnt><isolIngCnt>22</isolIngCnt><localOccCnt>0</localOccCnt><overFlowCnt>0</overFlowCnt><qurRate>3.18</qurRate><seq>1006</seq><stdDay>2020년 04월 10일 00시</stdDay><updateDt>NULL</updateDt></item><item><createDt>2020-04-10 11:17:35.35</createDt><deathCnt>11</deathCnt><defCnt>615</defCnt><gubun>경기</gubun><gubunCn>京畿</gubunCn><gubunEn>Gyeonggi-do</gubunEn><incDec>9</incDec><isolClearCnt>269</isolClearCnt><isolIngCnt>335</isolIngCnt><localOccCnt>8</localOccCnt><overFlowCnt>1</overFlowCnt><qurRate>4.64</qurRate><seq>1005</seq><stdDay>2020년 04월 10일 00시</stdDay><updateDt>NULL</updateDt></item><item><createDt>2020-04-10 11:17:35.35</createDt><deathCnt>0</deathCnt><defCnt>46</defCnt><gubun>세종</gubun><gubunCn>世宗</gubunCn><gubunEn>Sejong</gubunEn><incDec>0</incDec><isolClearCnt>20</isolClearCnt><isolIngCnt>26</isolIngCnt><localOccCnt>0</localOccCnt><overFlowCnt>0</overFlowCnt><qurRate>13.44</qurRate><seq>1004</seq><stdDay>2020년 04월 10일 00시</stdDay><updateDt>NULL</updateDt></item><item><createDt>2020-04-10 11:17:35.35</createDt><deathCnt>1</deathCnt><defCnt>40</defCnt><gubun>울산</gubun><gubunCn>蔚山</gubunCn><gubunEn>Ulsan</gubunEn><incDec>0</incDec><isolClearCnt>28</isolClearCnt><isolIngCnt>11</isolIngCnt><localOccCnt>0</localOccCnt><overFlowCnt>0</overFlowCnt><qurRate>3.49</qurRate><seq>1003</seq><stdDay>2020년 04월 10일 00시</stdDay><updateDt>NULL</updateDt></item><item><createDt>2020-04-10 11:17:35.35</createDt><deathCnt>0</deathCnt><defCnt>39</defCnt><gubun>대전</gubun><gubunCn>大田</gubunCn><gubunEn>Daejeon</gubunEn><incDec>0</incDec><isolClearCnt>21</isolClearCnt><isolIngCnt>18</isolIngCnt><localOccCnt>0</localOccCnt><overFlowCnt>0</overFlowCnt><qurRate>2.65</qurRate><seq>1002</seq><stdDay>2020년 04월 10일 00시</stdDay><updateDt>NULL</updateDt></item><item><createDt>2020-04-10 11:17:35.35</createDt><deathCnt>0</deathCnt><defCnt>27</defCnt><gubun>광주</gubun><gubunCn>光州</gubunCn><gubunEn>Gwangju</gubunEn><incDec>0</incDec><isolClearCnt>15</isolClearCnt><isolIngCnt>12</isolIngCnt><localOccCnt>0</localOccCnt><overFlowCnt>0</overFlowCnt><qurRate>1.85</qurRate><seq>1001</seq><stdDay>2020년 04월 10일 00시</stdDay><updateDt>NULL</updateDt></item><item><createDt>2020-04-10 11:17:35.35</createDt><deathCnt>0</deathCnt><defCnt>85</defCnt><gubun>인천</gubun><gubunCn>仁川</gubunCn><gubunEn>Incheon</gubunEn><incDec>1</incDec><isolClearCnt>34</isolClearCnt><isolIngCnt>51</isolIngCnt><localOccCnt>1</localOccCnt><overFlowCnt>0</overFlowCnt><qurRate>2.88</qurRate><seq>1000</seq><stdDay>2020년 04월 10일 00시</stdDay><updateDt>NULL</updateDt></item><item><createDt>2020-04-10 11:17:35.35</createDt><deathCnt>142</deathCnt><defCnt>6807</defCnt><gubun>대구</gubun><gubunCn>大邱</gubunCn><gubunEn>Daegu</gubunEn><incDec>0</incDec><isolClearCnt>5193</isolClearCnt><isolIngCnt>1472</isolIngCnt><localOccCnt>0</localOccCnt><overFlowCnt>0</overFlowCnt><qurRate>279.38</qurRate><seq>999</seq><stdDay>2020년 04월 10일 00시</stdDay><updateDt>NULL</updateDt></item><item><createDt>2020-04-10 11:17:35.35</createDt><deathCnt>3</deathCnt><defCnt>126</defCnt><gubun>부산</gubun><gubunCn>釜山</gubunCn><gubunEn>Busan</gubunEn><incDec>1</incDec><isolClearCnt>98</isolClearCnt><isolIngCnt>25</isolIngCnt><localOccCnt>1</localOccCnt><overFlowCnt>0</overFlowCnt><qurRate>3.69</qurRate><seq>998</seq><stdDay>2020년 04월 10일 00시</stdDay><updateDt>NULL</updateDt></item><item><createDt>2020-04-10 11:17:35.35</createDt><deathCnt>2</deathCnt><defCnt>595</defCnt><gubun>서울</gubun><gubunCn>首尔</gubunCn><gubunEn>Seoul</gubunEn><incDec>5</incDec><isolClearCnt>185</isolClearCnt><isolIngCnt>408</isolIngCnt><localOccCnt>5</localOccCnt><overFlowCnt>0</overFlowCnt><qurRate>6.11</qurRate><seq>997</seq><stdDay>2020년 04월 10일 00시</stdDay><updateDt>NULL</updateDt></item><item><createDt>2020-04-10 11:17:35.35</createDt><deathCnt>208</deathCnt><defCnt>10450</defCnt><gubun>합계</gubun><gubunCn>合计</gubunCn><gubunEn>Total</gubunEn><incDec>27</incDec><isolClearCnt>7117</isolClearCnt><isolIngCnt>3125</isolIngCnt><localOccCnt>22</localOccCnt><overFlowCnt>5</overFlowCnt><qurRate>20.16</qurRate><seq>996</seq><stdDay>2020년 04월 10일 00시</stdDay><updateDt>NULL</updateDt></item><item><createDt>2020-04-10 10:52:03.03</createDt><deathCnt>0</deathCnt><defCnt>348</defCnt><gubun>검역</gubun><gubunCn>隔離區</gubunCn><gubunEn>Lazaretto</gubunEn><incDec>10</incDec><isolClearCnt>3</isolClearCnt><isolIngCnt>345</isolIngCnt><localOccCnt>0</localOccCnt><overFlowCnt>10</overFlowCnt><qurRate>-</qurRate><seq>976</seq><stdDay>2020년 4월 09일 00시</stdDay><updateDt>NULL</updateDt></item><item><createDt>2020-04-10 10:52:03.03</createDt><deathCnt>0</deathCnt><defCnt>12</defCnt><gubun>제주</gubun><gubunCn>济州</gubunCn><gubunEn>Jeju</gubunEn><incDec>0</incDec><isolClearCnt>4</isolClearCnt><isolIngCnt>8</isolIngCnt><localOccCnt>0</localOccCnt><overFlowCnt>0</overFlowCnt><qurRate>1.79</qurRate><seq>975</seq><stdDay>2020년 4월 09일 00시</stdDay><updateDt>NULL</updateDt></item><item><createDt>2020-04-10 10:52:03.03</createDt><deathCnt>0</deathCnt><defCnt>115</defCnt><gubun>경남</gubun><gubunCn>庆南</gubunCn><gubunEn>Gyeongsangnam-do</gubunEn><incDec>2</incDec><isolClearCnt>82</isolClearCnt><isolIngCnt>33</isolIngCnt><localOccCnt>1</localOccCnt><overFlowCnt>1</overFlowCnt><qurRate>3.42</qurRate><seq>974</seq><stdDay>2020년 4월 09일 00시</stdDay><updateDt>NULL</updateDt></item><item><createDt>2020-04-10 10:52:03.03</createDt><deathCnt>47</deathCnt><defCnt>1320</defCnt><gubun>경북</gubun><gubunCn>庆北</gubunCn><gubunEn>Gyeongsangbuk-do</gubunEn><incDec>0</incDec><isolClearCnt>968</isolClearCnt><isolIngCnt>305</isolIngCnt><localOccCnt>0</localOccCnt><overFlowCnt>0</overFlowCnt><qurRate>49.58</qurRate><seq>973</seq><stdDay>2020년 4월 09일 00시</stdDay><updateDt>NULL</updateDt></item><item><createDt>2020-04-10 10:52:03.03</createDt><deathCnt>0</deathCnt><defCnt>15</defCnt><gubun>전남</gubun><gubunCn>全南</gubunCn><gubunEn>Jeollanam-do</gubunEn><incDec>0</incDec><isolClearCnt>4</isolClearCnt><isolIngCnt>11</isolIngCnt><localOccCnt>0</localOccCnt><overFlowCnt>0</overFlowCnt><qurRate>0.80</qurRate><seq>972</seq><stdDay>2020년 4월 09일 00시</stdDay><updateDt>NULL</updateDt></item><item><createDt>2020-04-10 10:52:03.03</createDt><deathCnt>0</deathCnt><defCnt>17</defCnt><gubun>전북</gubun><gubunCn>全北</gubunCn><gubunEn>Jeollabuk-do</gubunEn><incDec>0</incDec><isolClearCnt>7</isolClearCnt><isolIngCnt>10</isolIngCnt><localOccCnt>0</localOccCnt><overFlowCnt>0</overFlowCnt><qurRate>0.94</qurRate><seq>971</seq><stdDay>2020년 4월 09일 00시</stdDay><updateDt>NULL</updateDt></item><item><createDt>2020-04-10 10:52:03.03</createDt><deathCnt>0</deathCnt><defCnt>138</defCnt><gubun>충남</gubun><gubunCn>忠南</gubunCn><gubunEn>Chungcheongnam-do</gubunEn><incDec>1</incDec><isolClearCnt>105</isolClearCnt><isolIngCnt>33</isolIngCnt><localOccCnt>1</localOccCnt><overFlowCnt>0</overFlowCnt><qurRate>6.50</qurRate><seq>970</seq><stdDay>2020년 4월 09일 00시</stdDay><updateDt>NULL</updateDt></item><item><createDt>2020-04-10 10:52:03.03</createDt><deathCnt>0</deathCnt><defCnt>45</defCnt><gubun>충북</gubun><gubunCn>忠北</gubunCn><gubunEn>Chungcheongbuk-do</gubunEn><incDec>0</incDec><isolClearCnt>30</isolClearCnt><isolIngCnt>15</isolIngCnt><localOccCnt>0</localOccCnt><overFlowCnt>0</overFlowCnt><qurRate>2.81</qurRate><seq>969</seq><stdDay>2020년 4월 09일 00시</stdDay><updateDt>NULL</updateDt></item><item><createDt>2020-04-10 10:52:03.03</createDt><deathCnt>1</deathCnt><defCnt>49</defCnt><gubun>강원</gubun><gubunCn>江原</gubunCn><gubunEn>Gangwon-do</gubunEn><incDec>0</incDec><isolClearCnt>24</isolClearCnt><isolIngCnt>24</isolIngCnt><localOccCnt>0</localOccCnt><overFlowCnt>0</overFlowCnt><qurRate>3.18</qurRate><seq>968</seq><stdDay>2020년 4월 09일 00시</stdDay><updateDt>NULL</updateDt></item><item><createDt>2020-04-10 10:52:03.03</createDt><deathCnt>11</deathCnt><defCnt>606</defCnt><gubun>경기</gubun><gubunCn>京畿</gubunCn><gubunEn>Gyeonggi-do</gubunEn><incDec>10</incDec><isolClearCnt>259</isolClearCnt><isolIngCnt>336</isolIngCnt><localOccCnt>5</localOccCnt><overFlowCnt>5</overFlowCnt><qurRate>4.57</qurRate><seq>967</seq><stdDay>2020년 4월 09일 00시</stdDay><updateDt>NULL</updateDt></item><item><createDt>2020-04-10 10:52:03.03</createDt><deathCnt>0</deathCnt><defCnt>46</defCnt><gubun>세종</gubun><gubunCn>世宗</gubunCn><gubunEn>Sejong</gubunEn><incDec>0</incDec><isolClearCnt>16</isolClearCnt><isolIngCnt>30</isolIngCnt><localOccCnt>0</localOccCnt><overFlowCnt>0</overFlowCnt><qurRate>13.44</qurRate><seq>966</seq><stdDay>2020년 4월 09일 00시</stdDay><updateDt>NULL</updateDt></item><item><createDt>2020-04-10 10:52:03.03</createDt><deathCnt>1</deathCnt><defCnt>40</defCnt><gubun>울산</gubun><gubunCn>蔚山</gubunCn><gubunEn>Ulsan</gubunEn><incDec>0</incDec><isolClearCnt>28</isolClearCnt><isolIngCnt>11</isolIngCnt><localOccCnt>0</localOccCnt><overFlowCnt>0</overFlowCnt><qurRate>3.49</qurRate><seq>965</seq><stdDay>2020년 4월 09일 00시</stdDay><updateDt>NULL</updateDt></item><item><createDt>2020-04-10 10:52:03.03</createDt><deathCnt>0</deathCnt><defCnt>39</defCnt><gubun>대전</gubun><gubunCn>大田</gubunCn><gubunEn>Daejeon</gubunEn><incDec>0</incDec><isolClearCnt>20</isolClearCnt><isolIngCnt>19</isolIngCnt><localOccCnt>0</localOccCnt><overFlowCnt>0</overFlowCnt><qurRate>2.65</qurRate><seq>964</seq><stdDay>2020년 4월 09일 00시</stdDay><updateDt>NULL</updateDt></item><item><createDt>2020-04-10 10:52:03.03</createDt><deathCnt>0</deathCnt><defCnt>27</defCnt><gubun>광주</gubun><gubunCn>光州</gubunCn><gubunEn>Gwangju</gubunEn><incDec>0</incDec><isolClearCnt>15</isolClearCnt><isolIngCnt>12</isolIngCnt><localOccCnt>0</localOccCnt><overFlowCnt>0</overFlowCnt><qurRate>1.85</qurRate><seq>963</seq><stdDay>2020년 4월 09일 00시</stdDay><updateDt>NULL</updateDt></item><item><createDt>2020-04-10 10:52:03.03</createDt><deathCnt>0</deathCnt><defCnt>84</defCnt><gubun>인천</gubun><gubunCn>仁川</gubunCn><gubunEn>Incheon</gubunEn><incDec>0</incDec><isolClearCnt>31</isolClearCnt><isolIngCnt>53</isolIngCnt><localOccCnt>0</localOccCnt><overFlowCnt>0</overFlowCnt><qurRate>2.84</qurRate><seq>962</seq><stdDay>2020년 4월 09일 00시</stdDay><updateDt>NULL</updateDt></item><item><createDt>2020-04-10 10:52:03.03</createDt><deathCnt>139</deathCnt><defCnt>6807</defCnt><gubun>대구</gubun><gubunCn>大邱</gubunCn><gubunEn>Daegu</gubunEn><incDec>4</incDec><isolClearCnt>5106</isolClearCnt><isolIngCnt>1562</isolIngCnt><localOccCnt>4</localOccCnt><overFlowCnt>0</overFlowCnt><qurRate>279.38</qurRate><seq>961</seq><stdDay>2020년 4월 09일 00시</stdDay><updateDt>NULL</updateDt></item><item><createDt>2020-04-10 10:52:03.03</createDt><deathCnt>3</deathCnt><defCnt>125</defCnt><gubun>부산</gubun><gubunCn>釜山</gubunCn><gubunEn>Busan</gubunEn><incDec>0</incDec><isolClearCnt>97</isolClearCnt><isolIngCnt>25</isolIngCnt><localOccCnt>0</localOccCnt><overFlowCnt>0</overFlowCnt><qurRate>3.66</qurRate><seq>960</seq><stdDay>2020년 4월 09일 00시</stdDay><updateDt>NULL</updateDt></item><item><createDt>2020-04-10 10:52:03.03</createDt><deathCnt>2</deathCnt><defCnt>590</defCnt><gubun>서울</gubun><gubunCn>首尔</gubunCn><gubunEn>Seoul</gubunEn><incDec>12</incDec><isolClearCnt>174</isolClearCnt><isolIngCnt>414</isolIngCnt><localOccCnt>5</localOccCnt><overFlowCnt>7</overFlowCnt><qurRate>6.06</qurRate><seq>959</seq><stdDay>2020년 4월 09일 00시</stdDay><updateDt>NULL</updateDt></item><item><createDt>2020-04-10 10:52:03.03</createDt><deathCnt>204</deathCnt><defCnt>10423</defCnt><gubun>합계</gubun><gubunCn>合计</gubunCn><gubunEn>Total</gubunEn><incDec>39</incDec><isolClearCnt>6973</isolClearCnt><isolIngCnt>3246</isolIngCnt><localOccCnt>16</localOccCnt><overFlowCnt>23</overFlowCnt><qurRate>20.10</qurRate><seq>958</seq><stdDay>2020년 4월 09일 00시</stdDay><updateDt>NULL</updateDt></item></items><numOfRows>10</numOfRows><pageNo>1</pageNo><totalCount>38</totalCount></body></response>'"
      ]
     },
     "execution_count": 4,
     "metadata": {},
     "output_type": "execute_result"
    }
   ],
   "source": [
    "# 디코딩하여 유니코드 변환\n",
    "# 문자열 응답인 것을 알고 있을 경우, html요청을\n",
    "# .text로 사용하면 바로 유니코드 반환\n",
    "\n",
    "xml.text"
   ]
  },
  {
   "cell_type": "code",
   "execution_count": 5,
   "metadata": {},
   "outputs": [
    {
     "data": {
      "text/plain": [
       "<?xml version=\"1.0\" encoding=\"UTF-8\" standalone=\"yes\"?><response><header><resultcode>00</resultcode><resultmsg>NORMAL SERVICE.</resultmsg></header><body><items><item><createdt>2020-04-10 11:17:35.35</createdt><deathcnt>0</deathcnt><defcnt>352</defcnt><gubun>검역</gubun><gubuncn>隔離區</gubuncn><gubunen>Lazaretto</gubunen><incdec>4</incdec><isolclearcnt>3</isolclearcnt><isolingcnt>349</isolingcnt><localocccnt>0</localocccnt><overflowcnt>4</overflowcnt><qurrate>-</qurrate><seq>1014</seq><stdday>2020년 04월 10일 00시</stdday><updatedt>NULL</updatedt></item><item><createdt>2020-04-10 11:17:35.35</createdt><deathcnt>0</deathcnt><defcnt>12</defcnt><gubun>제주</gubun><gubuncn>济州</gubuncn><gubunen>Jeju</gubunen><incdec>0</incdec><isolclearcnt>4</isolclearcnt><isolingcnt>8</isolingcnt><localocccnt>0</localocccnt><overflowcnt>0</overflowcnt><qurrate>1.79</qurrate><seq>1013</seq><stdday>2020년 04월 10일 00시</stdday><updatedt>NULL</updatedt></item><item><createdt>2020-04-10 11:17:35.35</createdt><deathcnt>0</deathcnt><defcnt>115</defcnt><gubun>경남</gubun><gubuncn>庆南</gubuncn><gubunen>Gyeongsangnam-do</gubunen><incdec>0</incdec><isolclearcnt>82</isolclearcnt><isolingcnt>33</isolingcnt><localocccnt>0</localocccnt><overflowcnt>0</overflowcnt><qurrate>3.42</qurrate><seq>1012</seq><stdday>2020년 04월 10일 00시</stdday><updatedt>NULL</updatedt></item><item><createdt>2020-04-10 11:17:35.35</createdt><deathcnt>48</deathcnt><defcnt>1327</defcnt><gubun>경북</gubun><gubuncn>庆北</gubuncn><gubunen>Gyeongsangbuk-do</gubunen><incdec>7</incdec><isolclearcnt>994</isolclearcnt><isolingcnt>285</isolingcnt><localocccnt>7</localocccnt><overflowcnt>0</overflowcnt><qurrate>49.84</qurrate><seq>1011</seq><stdday>2020년 04월 10일 00시</stdday><updatedt>NULL</updatedt></item><item><createdt>2020-04-10 11:17:35.35</createdt><deathcnt>0</deathcnt><defcnt>15</defcnt><gubun>전남</gubun><gubuncn>全南</gubuncn><gubunen>Jeollanam-do</gubunen><incdec>0</incdec><isolclearcnt>4</isolclearcnt><isolingcnt>11</isolingcnt><localocccnt>0</localocccnt><overflowcnt>0</overflowcnt><qurrate>0.80</qurrate><seq>1010</seq><stdday>2020년 04월 10일 00시</stdday><updatedt>NULL</updatedt></item><item><createdt>2020-04-10 11:17:35.35</createdt><deathcnt>0</deathcnt><defcnt>17</defcnt><gubun>전북</gubun><gubuncn>全北</gubuncn><gubunen>Jeollabuk-do</gubunen><incdec>0</incdec><isolclearcnt>8</isolclearcnt><isolingcnt>9</isolingcnt><localocccnt>0</localocccnt><overflowcnt>0</overflowcnt><qurrate>0.94</qurrate><seq>1009</seq><stdday>2020년 04월 10일 00시</stdday><updatedt>NULL</updatedt></item><item><createdt>2020-04-10 11:17:35.35</createdt><deathcnt>0</deathcnt><defcnt>138</defcnt><gubun>충남</gubun><gubuncn>忠南</gubuncn><gubunen>Chungcheongnam-do</gubunen><incdec>0</incdec><isolclearcnt>105</isolclearcnt><isolingcnt>33</isolingcnt><localocccnt>0</localocccnt><overflowcnt>0</overflowcnt><qurrate>6.50</qurrate><seq>1008</seq><stdday>2020년 04월 10일 00시</stdday><updatedt>NULL</updatedt></item><item><createdt>2020-04-10 11:17:35.35</createdt><deathcnt>0</deathcnt><defcnt>45</defcnt><gubun>충북</gubun><gubuncn>忠北</gubuncn><gubunen>Chungcheongbuk-do</gubunen><incdec>0</incdec><isolclearcnt>28</isolclearcnt><isolingcnt>17</isolingcnt><localocccnt>0</localocccnt><overflowcnt>0</overflowcnt><qurrate>2.81</qurrate><seq>1007</seq><stdday>2020년 04월 10일 00시</stdday><updatedt>NULL</updatedt></item><item><createdt>2020-04-10 11:17:35.35</createdt><deathcnt>1</deathcnt><defcnt>49</defcnt><gubun>강원</gubun><gubuncn>江原</gubuncn><gubunen>Gangwon-do</gubunen><incdec>0</incdec><isolclearcnt>26</isolclearcnt><isolingcnt>22</isolingcnt><localocccnt>0</localocccnt><overflowcnt>0</overflowcnt><qurrate>3.18</qurrate><seq>1006</seq><stdday>2020년 04월 10일 00시</stdday><updatedt>NULL</updatedt></item><item><createdt>2020-04-10 11:17:35.35</createdt><deathcnt>11</deathcnt><defcnt>615</defcnt><gubun>경기</gubun><gubuncn>京畿</gubuncn><gubunen>Gyeonggi-do</gubunen><incdec>9</incdec><isolclearcnt>269</isolclearcnt><isolingcnt>335</isolingcnt><localocccnt>8</localocccnt><overflowcnt>1</overflowcnt><qurrate>4.64</qurrate><seq>1005</seq><stdday>2020년 04월 10일 00시</stdday><updatedt>NULL</updatedt></item><item><createdt>2020-04-10 11:17:35.35</createdt><deathcnt>0</deathcnt><defcnt>46</defcnt><gubun>세종</gubun><gubuncn>世宗</gubuncn><gubunen>Sejong</gubunen><incdec>0</incdec><isolclearcnt>20</isolclearcnt><isolingcnt>26</isolingcnt><localocccnt>0</localocccnt><overflowcnt>0</overflowcnt><qurrate>13.44</qurrate><seq>1004</seq><stdday>2020년 04월 10일 00시</stdday><updatedt>NULL</updatedt></item><item><createdt>2020-04-10 11:17:35.35</createdt><deathcnt>1</deathcnt><defcnt>40</defcnt><gubun>울산</gubun><gubuncn>蔚山</gubuncn><gubunen>Ulsan</gubunen><incdec>0</incdec><isolclearcnt>28</isolclearcnt><isolingcnt>11</isolingcnt><localocccnt>0</localocccnt><overflowcnt>0</overflowcnt><qurrate>3.49</qurrate><seq>1003</seq><stdday>2020년 04월 10일 00시</stdday><updatedt>NULL</updatedt></item><item><createdt>2020-04-10 11:17:35.35</createdt><deathcnt>0</deathcnt><defcnt>39</defcnt><gubun>대전</gubun><gubuncn>大田</gubuncn><gubunen>Daejeon</gubunen><incdec>0</incdec><isolclearcnt>21</isolclearcnt><isolingcnt>18</isolingcnt><localocccnt>0</localocccnt><overflowcnt>0</overflowcnt><qurrate>2.65</qurrate><seq>1002</seq><stdday>2020년 04월 10일 00시</stdday><updatedt>NULL</updatedt></item><item><createdt>2020-04-10 11:17:35.35</createdt><deathcnt>0</deathcnt><defcnt>27</defcnt><gubun>광주</gubun><gubuncn>光州</gubuncn><gubunen>Gwangju</gubunen><incdec>0</incdec><isolclearcnt>15</isolclearcnt><isolingcnt>12</isolingcnt><localocccnt>0</localocccnt><overflowcnt>0</overflowcnt><qurrate>1.85</qurrate><seq>1001</seq><stdday>2020년 04월 10일 00시</stdday><updatedt>NULL</updatedt></item><item><createdt>2020-04-10 11:17:35.35</createdt><deathcnt>0</deathcnt><defcnt>85</defcnt><gubun>인천</gubun><gubuncn>仁川</gubuncn><gubunen>Incheon</gubunen><incdec>1</incdec><isolclearcnt>34</isolclearcnt><isolingcnt>51</isolingcnt><localocccnt>1</localocccnt><overflowcnt>0</overflowcnt><qurrate>2.88</qurrate><seq>1000</seq><stdday>2020년 04월 10일 00시</stdday><updatedt>NULL</updatedt></item><item><createdt>2020-04-10 11:17:35.35</createdt><deathcnt>142</deathcnt><defcnt>6807</defcnt><gubun>대구</gubun><gubuncn>大邱</gubuncn><gubunen>Daegu</gubunen><incdec>0</incdec><isolclearcnt>5193</isolclearcnt><isolingcnt>1472</isolingcnt><localocccnt>0</localocccnt><overflowcnt>0</overflowcnt><qurrate>279.38</qurrate><seq>999</seq><stdday>2020년 04월 10일 00시</stdday><updatedt>NULL</updatedt></item><item><createdt>2020-04-10 11:17:35.35</createdt><deathcnt>3</deathcnt><defcnt>126</defcnt><gubun>부산</gubun><gubuncn>釜山</gubuncn><gubunen>Busan</gubunen><incdec>1</incdec><isolclearcnt>98</isolclearcnt><isolingcnt>25</isolingcnt><localocccnt>1</localocccnt><overflowcnt>0</overflowcnt><qurrate>3.69</qurrate><seq>998</seq><stdday>2020년 04월 10일 00시</stdday><updatedt>NULL</updatedt></item><item><createdt>2020-04-10 11:17:35.35</createdt><deathcnt>2</deathcnt><defcnt>595</defcnt><gubun>서울</gubun><gubuncn>首尔</gubuncn><gubunen>Seoul</gubunen><incdec>5</incdec><isolclearcnt>185</isolclearcnt><isolingcnt>408</isolingcnt><localocccnt>5</localocccnt><overflowcnt>0</overflowcnt><qurrate>6.11</qurrate><seq>997</seq><stdday>2020년 04월 10일 00시</stdday><updatedt>NULL</updatedt></item><item><createdt>2020-04-10 11:17:35.35</createdt><deathcnt>208</deathcnt><defcnt>10450</defcnt><gubun>합계</gubun><gubuncn>合计</gubuncn><gubunen>Total</gubunen><incdec>27</incdec><isolclearcnt>7117</isolclearcnt><isolingcnt>3125</isolingcnt><localocccnt>22</localocccnt><overflowcnt>5</overflowcnt><qurrate>20.16</qurrate><seq>996</seq><stdday>2020년 04월 10일 00시</stdday><updatedt>NULL</updatedt></item><item><createdt>2020-04-10 10:52:03.03</createdt><deathcnt>0</deathcnt><defcnt>348</defcnt><gubun>검역</gubun><gubuncn>隔離區</gubuncn><gubunen>Lazaretto</gubunen><incdec>10</incdec><isolclearcnt>3</isolclearcnt><isolingcnt>345</isolingcnt><localocccnt>0</localocccnt><overflowcnt>10</overflowcnt><qurrate>-</qurrate><seq>976</seq><stdday>2020년 4월 09일 00시</stdday><updatedt>NULL</updatedt></item><item><createdt>2020-04-10 10:52:03.03</createdt><deathcnt>0</deathcnt><defcnt>12</defcnt><gubun>제주</gubun><gubuncn>济州</gubuncn><gubunen>Jeju</gubunen><incdec>0</incdec><isolclearcnt>4</isolclearcnt><isolingcnt>8</isolingcnt><localocccnt>0</localocccnt><overflowcnt>0</overflowcnt><qurrate>1.79</qurrate><seq>975</seq><stdday>2020년 4월 09일 00시</stdday><updatedt>NULL</updatedt></item><item><createdt>2020-04-10 10:52:03.03</createdt><deathcnt>0</deathcnt><defcnt>115</defcnt><gubun>경남</gubun><gubuncn>庆南</gubuncn><gubunen>Gyeongsangnam-do</gubunen><incdec>2</incdec><isolclearcnt>82</isolclearcnt><isolingcnt>33</isolingcnt><localocccnt>1</localocccnt><overflowcnt>1</overflowcnt><qurrate>3.42</qurrate><seq>974</seq><stdday>2020년 4월 09일 00시</stdday><updatedt>NULL</updatedt></item><item><createdt>2020-04-10 10:52:03.03</createdt><deathcnt>47</deathcnt><defcnt>1320</defcnt><gubun>경북</gubun><gubuncn>庆北</gubuncn><gubunen>Gyeongsangbuk-do</gubunen><incdec>0</incdec><isolclearcnt>968</isolclearcnt><isolingcnt>305</isolingcnt><localocccnt>0</localocccnt><overflowcnt>0</overflowcnt><qurrate>49.58</qurrate><seq>973</seq><stdday>2020년 4월 09일 00시</stdday><updatedt>NULL</updatedt></item><item><createdt>2020-04-10 10:52:03.03</createdt><deathcnt>0</deathcnt><defcnt>15</defcnt><gubun>전남</gubun><gubuncn>全南</gubuncn><gubunen>Jeollanam-do</gubunen><incdec>0</incdec><isolclearcnt>4</isolclearcnt><isolingcnt>11</isolingcnt><localocccnt>0</localocccnt><overflowcnt>0</overflowcnt><qurrate>0.80</qurrate><seq>972</seq><stdday>2020년 4월 09일 00시</stdday><updatedt>NULL</updatedt></item><item><createdt>2020-04-10 10:52:03.03</createdt><deathcnt>0</deathcnt><defcnt>17</defcnt><gubun>전북</gubun><gubuncn>全北</gubuncn><gubunen>Jeollabuk-do</gubunen><incdec>0</incdec><isolclearcnt>7</isolclearcnt><isolingcnt>10</isolingcnt><localocccnt>0</localocccnt><overflowcnt>0</overflowcnt><qurrate>0.94</qurrate><seq>971</seq><stdday>2020년 4월 09일 00시</stdday><updatedt>NULL</updatedt></item><item><createdt>2020-04-10 10:52:03.03</createdt><deathcnt>0</deathcnt><defcnt>138</defcnt><gubun>충남</gubun><gubuncn>忠南</gubuncn><gubunen>Chungcheongnam-do</gubunen><incdec>1</incdec><isolclearcnt>105</isolclearcnt><isolingcnt>33</isolingcnt><localocccnt>1</localocccnt><overflowcnt>0</overflowcnt><qurrate>6.50</qurrate><seq>970</seq><stdday>2020년 4월 09일 00시</stdday><updatedt>NULL</updatedt></item><item><createdt>2020-04-10 10:52:03.03</createdt><deathcnt>0</deathcnt><defcnt>45</defcnt><gubun>충북</gubun><gubuncn>忠北</gubuncn><gubunen>Chungcheongbuk-do</gubunen><incdec>0</incdec><isolclearcnt>30</isolclearcnt><isolingcnt>15</isolingcnt><localocccnt>0</localocccnt><overflowcnt>0</overflowcnt><qurrate>2.81</qurrate><seq>969</seq><stdday>2020년 4월 09일 00시</stdday><updatedt>NULL</updatedt></item><item><createdt>2020-04-10 10:52:03.03</createdt><deathcnt>1</deathcnt><defcnt>49</defcnt><gubun>강원</gubun><gubuncn>江原</gubuncn><gubunen>Gangwon-do</gubunen><incdec>0</incdec><isolclearcnt>24</isolclearcnt><isolingcnt>24</isolingcnt><localocccnt>0</localocccnt><overflowcnt>0</overflowcnt><qurrate>3.18</qurrate><seq>968</seq><stdday>2020년 4월 09일 00시</stdday><updatedt>NULL</updatedt></item><item><createdt>2020-04-10 10:52:03.03</createdt><deathcnt>11</deathcnt><defcnt>606</defcnt><gubun>경기</gubun><gubuncn>京畿</gubuncn><gubunen>Gyeonggi-do</gubunen><incdec>10</incdec><isolclearcnt>259</isolclearcnt><isolingcnt>336</isolingcnt><localocccnt>5</localocccnt><overflowcnt>5</overflowcnt><qurrate>4.57</qurrate><seq>967</seq><stdday>2020년 4월 09일 00시</stdday><updatedt>NULL</updatedt></item><item><createdt>2020-04-10 10:52:03.03</createdt><deathcnt>0</deathcnt><defcnt>46</defcnt><gubun>세종</gubun><gubuncn>世宗</gubuncn><gubunen>Sejong</gubunen><incdec>0</incdec><isolclearcnt>16</isolclearcnt><isolingcnt>30</isolingcnt><localocccnt>0</localocccnt><overflowcnt>0</overflowcnt><qurrate>13.44</qurrate><seq>966</seq><stdday>2020년 4월 09일 00시</stdday><updatedt>NULL</updatedt></item><item><createdt>2020-04-10 10:52:03.03</createdt><deathcnt>1</deathcnt><defcnt>40</defcnt><gubun>울산</gubun><gubuncn>蔚山</gubuncn><gubunen>Ulsan</gubunen><incdec>0</incdec><isolclearcnt>28</isolclearcnt><isolingcnt>11</isolingcnt><localocccnt>0</localocccnt><overflowcnt>0</overflowcnt><qurrate>3.49</qurrate><seq>965</seq><stdday>2020년 4월 09일 00시</stdday><updatedt>NULL</updatedt></item><item><createdt>2020-04-10 10:52:03.03</createdt><deathcnt>0</deathcnt><defcnt>39</defcnt><gubun>대전</gubun><gubuncn>大田</gubuncn><gubunen>Daejeon</gubunen><incdec>0</incdec><isolclearcnt>20</isolclearcnt><isolingcnt>19</isolingcnt><localocccnt>0</localocccnt><overflowcnt>0</overflowcnt><qurrate>2.65</qurrate><seq>964</seq><stdday>2020년 4월 09일 00시</stdday><updatedt>NULL</updatedt></item><item><createdt>2020-04-10 10:52:03.03</createdt><deathcnt>0</deathcnt><defcnt>27</defcnt><gubun>광주</gubun><gubuncn>光州</gubuncn><gubunen>Gwangju</gubunen><incdec>0</incdec><isolclearcnt>15</isolclearcnt><isolingcnt>12</isolingcnt><localocccnt>0</localocccnt><overflowcnt>0</overflowcnt><qurrate>1.85</qurrate><seq>963</seq><stdday>2020년 4월 09일 00시</stdday><updatedt>NULL</updatedt></item><item><createdt>2020-04-10 10:52:03.03</createdt><deathcnt>0</deathcnt><defcnt>84</defcnt><gubun>인천</gubun><gubuncn>仁川</gubuncn><gubunen>Incheon</gubunen><incdec>0</incdec><isolclearcnt>31</isolclearcnt><isolingcnt>53</isolingcnt><localocccnt>0</localocccnt><overflowcnt>0</overflowcnt><qurrate>2.84</qurrate><seq>962</seq><stdday>2020년 4월 09일 00시</stdday><updatedt>NULL</updatedt></item><item><createdt>2020-04-10 10:52:03.03</createdt><deathcnt>139</deathcnt><defcnt>6807</defcnt><gubun>대구</gubun><gubuncn>大邱</gubuncn><gubunen>Daegu</gubunen><incdec>4</incdec><isolclearcnt>5106</isolclearcnt><isolingcnt>1562</isolingcnt><localocccnt>4</localocccnt><overflowcnt>0</overflowcnt><qurrate>279.38</qurrate><seq>961</seq><stdday>2020년 4월 09일 00시</stdday><updatedt>NULL</updatedt></item><item><createdt>2020-04-10 10:52:03.03</createdt><deathcnt>3</deathcnt><defcnt>125</defcnt><gubun>부산</gubun><gubuncn>釜山</gubuncn><gubunen>Busan</gubunen><incdec>0</incdec><isolclearcnt>97</isolclearcnt><isolingcnt>25</isolingcnt><localocccnt>0</localocccnt><overflowcnt>0</overflowcnt><qurrate>3.66</qurrate><seq>960</seq><stdday>2020년 4월 09일 00시</stdday><updatedt>NULL</updatedt></item><item><createdt>2020-04-10 10:52:03.03</createdt><deathcnt>2</deathcnt><defcnt>590</defcnt><gubun>서울</gubun><gubuncn>首尔</gubuncn><gubunen>Seoul</gubunen><incdec>12</incdec><isolclearcnt>174</isolclearcnt><isolingcnt>414</isolingcnt><localocccnt>5</localocccnt><overflowcnt>7</overflowcnt><qurrate>6.06</qurrate><seq>959</seq><stdday>2020년 4월 09일 00시</stdday><updatedt>NULL</updatedt></item><item><createdt>2020-04-10 10:52:03.03</createdt><deathcnt>204</deathcnt><defcnt>10423</defcnt><gubun>합계</gubun><gubuncn>合计</gubuncn><gubunen>Total</gubunen><incdec>39</incdec><isolclearcnt>6973</isolclearcnt><isolingcnt>3246</isolingcnt><localocccnt>16</localocccnt><overflowcnt>23</overflowcnt><qurrate>20.10</qurrate><seq>958</seq><stdday>2020년 4월 09일 00시</stdday><updatedt>NULL</updatedt></item></items><numofrows>10</numofrows><pageno>1</pageno><totalcount>38</totalcount></body></response>"
      ]
     },
     "execution_count": 5,
     "metadata": {},
     "output_type": "execute_result"
    }
   ],
   "source": [
    "#  BeautifulSoup 생성자에서 xml.text를 파싱하고\n",
    "# 그 결과를 BeautifulSoup 객체로 반환한다.\n",
    "\n",
    "soup =  BeautifulSoup(xml.text, 'html.parser')\n",
    "soup"
   ]
  },
  {
   "cell_type": "code",
   "execution_count": 6,
   "metadata": {},
   "outputs": [
    {
     "data": {
      "text/plain": [
       "<item><createdt>2020-04-10 11:17:35.35</createdt><deathcnt>0</deathcnt><defcnt>352</defcnt><gubun>검역</gubun><gubuncn>隔離區</gubuncn><gubunen>Lazaretto</gubunen><incdec>4</incdec><isolclearcnt>3</isolclearcnt><isolingcnt>349</isolingcnt><localocccnt>0</localocccnt><overflowcnt>4</overflowcnt><qurrate>-</qurrate><seq>1014</seq><stdday>2020년 04월 10일 00시</stdday><updatedt>NULL</updatedt></item>"
      ]
     },
     "execution_count": 6,
     "metadata": {},
     "output_type": "execute_result"
    }
   ],
   "source": [
    "soup.find('item')"
   ]
  },
  {
   "cell_type": "code",
   "execution_count": 7,
   "metadata": {},
   "outputs": [
    {
     "data": {
      "text/plain": [
       "<gubun>검역</gubun>"
      ]
     },
     "execution_count": 7,
     "metadata": {},
     "output_type": "execute_result"
    }
   ],
   "source": [
    "soup.find('item').find('gubun')"
   ]
  },
  {
   "cell_type": "code",
   "execution_count": 8,
   "metadata": {},
   "outputs": [
    {
     "data": {
      "text/plain": [
       "<item><createdt>2020-04-10 11:17:35.35</createdt><deathcnt>0</deathcnt><defcnt>352</defcnt><gubun>검역</gubun><gubuncn>隔離區</gubuncn><gubunen>Lazaretto</gubunen><incdec>4</incdec><isolclearcnt>3</isolclearcnt><isolingcnt>349</isolingcnt><localocccnt>0</localocccnt><overflowcnt>4</overflowcnt><qurrate>-</qurrate><seq>1014</seq><stdday>2020년 04월 10일 00시</stdday><updatedt>NULL</updatedt></item>"
      ]
     },
     "execution_count": 8,
     "metadata": {},
     "output_type": "execute_result"
    }
   ],
   "source": [
    "# find_all함수는 'item'태그를 모두 찾아 리스트 형태로 반환\n",
    "\n",
    "soup.find_all('item')[0]"
   ]
  },
  {
   "cell_type": "code",
   "execution_count": 28,
   "metadata": {},
   "outputs": [
    {
     "data": {
      "text/plain": [
       "<item><createdt>2020-04-10 11:17:35.35</createdt><deathcnt>0</deathcnt><defcnt>352</defcnt><gubun>검역</gubun><gubuncn>隔離區</gubuncn><gubunen>Lazaretto</gubunen><incdec>4</incdec><isolclearcnt>3</isolclearcnt><isolingcnt>349</isolingcnt><localocccnt>0</localocccnt><overflowcnt>4</overflowcnt><qurrate>-</qurrate><seq>1014</seq><stdday>2020년 04월 10일 00시</stdday><updatedt>NULL</updatedt></item>"
      ]
     },
     "execution_count": 28,
     "metadata": {},
     "output_type": "execute_result"
    }
   ],
   "source": [
    "# 리스트에서 0번째 위치 인덱싱\n",
    "soup.find_all('item')[0]"
   ]
  },
  {
   "cell_type": "code",
   "execution_count": 34,
   "metadata": {},
   "outputs": [
    {
     "data": {
      "text/plain": [
       "<gubun>제주</gubun>"
      ]
     },
     "execution_count": 34,
     "metadata": {},
     "output_type": "execute_result"
    }
   ],
   "source": [
    "soup.find_all('item')[1].find('gubun')"
   ]
  },
  {
   "cell_type": "code",
   "execution_count": 9,
   "metadata": {},
   "outputs": [
    {
     "name": "stdout",
     "output_type": "stream",
     "text": [
      "시작날짜를 입력하세요(예:yyyymmdd): 20210504\n",
      "시작날짜를 입력하세요(예:yyyymmdd): 20210504\n"
     ]
    }
   ],
   "source": [
    "# 한 페이지 검색 결과 수를 38개로 지정\n",
    "numOfRows = soup.find('totalcount')\n",
    "# input 함수로 검색 시작 날짜와 종료 날짜 입력\n",
    "startCreateDt = input('시작날짜를 입력하세요(예:yyyymmdd): ')\n",
    "endCreateDt = input('시작날짜를 입력하세요(예:yyyymmdd): ')"
   ]
  },
  {
   "cell_type": "code",
   "execution_count": 10,
   "metadata": {},
   "outputs": [
    {
     "data": {
      "text/plain": [
       "<totalcount>38</totalcount>"
      ]
     },
     "execution_count": 10,
     "metadata": {},
     "output_type": "execute_result"
    }
   ],
   "source": [
    "# <totalcount>38</totalcount>는 문자열이 아님\n",
    "numOfRows"
   ]
  },
  {
   "cell_type": "code",
   "execution_count": 11,
   "metadata": {},
   "outputs": [
    {
     "data": {
      "text/plain": [
       "'38'"
      ]
     },
     "execution_count": 11,
     "metadata": {},
     "output_type": "execute_result"
    }
   ],
   "source": [
    "# text함수를 이용하여 <totalcount>38</totalcount>에서\n",
    "# 태그를 제외한 문자만 추출하여 문자열로 반환\n",
    "numOfRows.text"
   ]
  },
  {
   "cell_type": "code",
   "execution_count": 12,
   "metadata": {},
   "outputs": [
    {
     "name": "stdout",
     "output_type": "stream",
     "text": [
      "시작날짜를 입력하세요(예:yyyymmdd): 20210504\n",
      "시작날짜를 입력하세요(예:yyyymmdd): 20210504\n"
     ]
    }
   ],
   "source": [
    "# 한 페이지 검색 결과 수를 38개로 지정\n",
    "numOfRows = soup.find('totalcount').text\n",
    "# input 함수로 검색 시작 날짜와 종료 날짜 입력\n",
    "startCreateDt = input('시작날짜를 입력하세요(예:yyyymmdd): ')\n",
    "endCreateDt = input('시작날짜를 입력하세요(예:yyyymmdd): ')"
   ]
  },
  {
   "cell_type": "code",
   "execution_count": 13,
   "metadata": {},
   "outputs": [
    {
     "data": {
      "text/plain": [
       "'38'"
      ]
     },
     "execution_count": 13,
     "metadata": {},
     "output_type": "execute_result"
    }
   ],
   "source": [
    "numOfRows"
   ]
  },
  {
   "cell_type": "code",
   "execution_count": 14,
   "metadata": {},
   "outputs": [
    {
     "data": {
      "text/plain": [
       "'20210504'"
      ]
     },
     "execution_count": 14,
     "metadata": {},
     "output_type": "execute_result"
    }
   ],
   "source": [
    "startCreateDt"
   ]
  },
  {
   "cell_type": "code",
   "execution_count": 15,
   "metadata": {},
   "outputs": [
    {
     "data": {
      "text/plain": [
       "'20210504'"
      ]
     },
     "execution_count": 15,
     "metadata": {},
     "output_type": "execute_result"
    }
   ],
   "source": [
    "endCreateDt"
   ]
  },
  {
   "cell_type": "code",
   "execution_count": 16,
   "metadata": {},
   "outputs": [
    {
     "name": "stdout",
     "output_type": "stream",
     "text": [
      "http://openapi.data.go.kr/openapi/service/rest/Covid19/getCovid19SidoInfStateJson?serviceKey=c1N7z7KEDvTRSI1eJtuHGiVHaOOlF7yuSjsMNvcd5CsskIzYTNbPuki3ImWbHToiVxBnGacopQcmmZrOjpohPg%3D%3D&pageNo=1&numOfRows=38&startCreateDt=20210504&endCreateDt=20210504\n"
     ]
    }
   ],
   "source": [
    "# url2 수정\n",
    "url1 = 'http://openapi.data.go.kr/openapi/service/rest/Covid19/getCovid19SidoInfStateJson?serviceKey='\n",
    "key = 'c1N7z7KEDvTRSI1eJtuHGiVHaOOlF7yuSjsMNvcd5CsskIzYTNbPuki3ImWbHToiVxBnGacopQcmmZrOjpohPg%3D%3D'\n",
    "url2 = '&pageNo=1&numOfRows='+numOfRows+'&startCreateDt='+startCreateDt+'&endCreateDt='+endCreateDt\n",
    "url = url1 + key + url2\n",
    "print(url)\n"
   ]
  },
  {
   "cell_type": "code",
   "execution_count": 18,
   "metadata": {},
   "outputs": [
    {
     "data": {
      "text/plain": [
       "<?xml version=\"1.0\" encoding=\"UTF-8\" standalone=\"yes\"?><response><header><resultcode>00</resultcode><resultmsg>NORMAL SERVICE.</resultmsg></header><body><items><item><createdt>2021-05-04 09:52:44.207</createdt><deathcnt>4</deathcnt><defcnt>3507</defcnt><gubun>검역</gubun><gubuncn>隔離區</gubuncn><gubunen>Lazaretto</gubunen><incdec>7</incdec><isolclearcnt>3271</isolclearcnt><isolingcnt>232</isolingcnt><localocccnt>0</localocccnt><overflowcnt>7</overflowcnt><qurrate>-</qurrate><seq>9298</seq><stdday>2021년 05월 04일 00시</stdday><updatedt>null</updatedt></item><item><createdt>2021-05-04 09:52:44.207</createdt><deathcnt>1</deathcnt><defcnt>724</defcnt><gubun>제주</gubun><gubuncn>济州</gubuncn><gubunen>Jeju</gubunen><incdec>8</incdec><isolclearcnt>682</isolclearcnt><isolingcnt>41</isolingcnt><localocccnt>8</localocccnt><overflowcnt>0</overflowcnt><qurrate>107.94</qurrate><seq>9297</seq><stdday>2021년 05월 04일 00시</stdday><updatedt>null</updatedt></item><item><createdt>2021-05-04 09:52:44.207</createdt><deathcnt>18</deathcnt><defcnt>4099</defcnt><gubun>경남</gubun><gubuncn>庆南</gubuncn><gubunen>Gyeongsangnam-do</gubunen><incdec>36</incdec><isolclearcnt>3593</isolclearcnt><isolingcnt>488</isolingcnt><localocccnt>35</localocccnt><overflowcnt>1</overflowcnt><qurrate>121.95</qurrate><seq>9296</seq><stdday>2021년 05월 04일 00시</stdday><updatedt>null</updatedt></item><item><createdt>2021-05-04 09:52:44.207</createdt><deathcnt>78</deathcnt><defcnt>4206</defcnt><gubun>경북</gubun><gubuncn>庆北</gubuncn><gubunen>Gyeongsangbuk-do</gubunen><incdec>22</incdec><isolclearcnt>3819</isolclearcnt><isolingcnt>309</isolingcnt><localocccnt>18</localocccnt><overflowcnt>4</overflowcnt><qurrate>157.97</qurrate><seq>9295</seq><stdday>2021년 05월 04일 00시</stdday><updatedt>null</updatedt></item><item><createdt>2021-05-04 09:52:44.206</createdt><deathcnt>10</deathcnt><defcnt>1089</defcnt><gubun>전남</gubun><gubuncn>全南</gubuncn><gubunen>Jeollanam-do</gubunen><incdec>9</incdec><isolclearcnt>985</isolclearcnt><isolingcnt>94</isolingcnt><localocccnt>9</localocccnt><overflowcnt>0</overflowcnt><qurrate>58.40</qurrate><seq>9294</seq><stdday>2021년 05월 04일 00시</stdday><updatedt>null</updatedt></item><item><createdt>2021-05-04 09:52:44.206</createdt><deathcnt>58</deathcnt><defcnt>1982</defcnt><gubun>전북</gubun><gubuncn>全北</gubuncn><gubunen>Jeollabuk-do</gubunen><incdec>12</incdec><isolclearcnt>1793</isolclearcnt><isolingcnt>131</isolingcnt><localocccnt>12</localocccnt><overflowcnt>0</overflowcnt><qurrate>109.06</qurrate><seq>9293</seq><stdday>2021년 05월 04일 00시</stdday><updatedt>null</updatedt></item><item><createdt>2021-05-04 09:52:44.206</createdt><deathcnt>36</deathcnt><defcnt>3095</defcnt><gubun>충남</gubun><gubuncn>忠南</gubuncn><gubunen>Chungcheongnam-do</gubunen><incdec>19</incdec><isolclearcnt>2866</isolclearcnt><isolingcnt>193</isolingcnt><localocccnt>18</localocccnt><overflowcnt>1</overflowcnt><qurrate>145.82</qurrate><seq>9292</seq><stdday>2021년 05월 04일 00시</stdday><updatedt>null</updatedt></item><item><createdt>2021-05-04 09:52:44.206</createdt><deathcnt>64</deathcnt><defcnt>2660</defcnt><gubun>충북</gubun><gubuncn>忠北</gubuncn><gubunen>Chungcheongbuk-do</gubunen><incdec>7</incdec><isolclearcnt>2437</isolclearcnt><isolingcnt>159</isolingcnt><localocccnt>5</localocccnt><overflowcnt>2</overflowcnt><qurrate>166.31</qurrate><seq>9291</seq><stdday>2021년 05월 04일 00시</stdday><updatedt>null</updatedt></item><item><createdt>2021-05-04 09:52:44.206</createdt><deathcnt>50</deathcnt><defcnt>2724</defcnt><gubun>강원</gubun><gubuncn>江原</gubuncn><gubunen>Gangwon-do</gubunen><incdec>22</incdec><isolclearcnt>2529</isolclearcnt><isolingcnt>145</isolingcnt><localocccnt>22</localocccnt><overflowcnt>0</overflowcnt><qurrate>176.82</qurrate><seq>9290</seq><stdday>2021년 05월 04일 00시</stdday><updatedt>null</updatedt></item><item><createdt>2021-05-04 09:52:44.206</createdt><deathcnt>589</deathcnt><defcnt>34785</defcnt><gubun>경기</gubun><gubuncn>京畿</gubuncn><gubunen>Gyeonggi-do</gubunen><incdec>124</incdec><isolclearcnt>31753</isolclearcnt><isolingcnt>2443</isolingcnt><localocccnt>117</localocccnt><overflowcnt>7</overflowcnt><qurrate>262.52</qurrate><seq>9289</seq><stdday>2021년 05월 04일 00시</stdday><updatedt>null</updatedt></item><item><createdt>2021-05-04 09:52:44.205</createdt><deathcnt>1</deathcnt><defcnt>372</defcnt><gubun>세종</gubun><gubuncn>世宗</gubuncn><gubunen>Sejong</gubunen><incdec>6</incdec><isolclearcnt>348</isolclearcnt><isolingcnt>23</isolingcnt><localocccnt>5</localocccnt><overflowcnt>1</overflowcnt><qurrate>108.67</qurrate><seq>9288</seq><stdday>2021년 05월 04일 00시</stdday><updatedt>null</updatedt></item><item><createdt>2021-05-04 09:52:44.205</createdt><deathcnt>38</deathcnt><defcnt>2033</defcnt><gubun>울산</gubun><gubuncn>蔚山</gubuncn><gubunen>Ulsan</gubunen><incdec>29</incdec><isolclearcnt>1579</isolclearcnt><isolingcnt>416</isolingcnt><localocccnt>29</localocccnt><overflowcnt>0</overflowcnt><qurrate>177.24</qurrate><seq>9287</seq><stdday>2021년 05월 04일 00시</stdday><updatedt>null</updatedt></item><item><createdt>2021-05-04 09:52:44.205</createdt><deathcnt>17</deathcnt><defcnt>1770</defcnt><gubun>대전</gubun><gubuncn>大田</gubuncn><gubunen>Daejeon</gubunen><incdec>13</incdec><isolclearcnt>1637</isolclearcnt><isolingcnt>116</isolingcnt><localocccnt>13</localocccnt><overflowcnt>0</overflowcnt><qurrate>120.07</qurrate><seq>9286</seq><stdday>2021년 05월 04일 00시</stdday><updatedt>null</updatedt></item><item><createdt>2021-05-04 09:52:44.205</createdt><deathcnt>22</deathcnt><defcnt>2437</defcnt><gubun>광주</gubun><gubuncn>光州</gubuncn><gubunen>Gwangju</gubunen><incdec>4</incdec><isolclearcnt>2326</isolclearcnt><isolingcnt>89</isolingcnt><localocccnt>4</localocccnt><overflowcnt>0</overflowcnt><qurrate>167.30</qurrate><seq>9285</seq><stdday>2021년 05월 04일 00시</stdday><updatedt>null</updatedt></item><item><createdt>2021-05-04 09:52:44.205</createdt><deathcnt>59</deathcnt><defcnt>5723</defcnt><gubun>인천</gubun><gubuncn>仁川</gubuncn><gubunen>Incheon</gubunen><incdec>13</incdec><isolclearcnt>5487</isolclearcnt><isolingcnt>177</isolingcnt><localocccnt>12</localocccnt><overflowcnt>1</overflowcnt><qurrate>193.60</qurrate><seq>9284</seq><stdday>2021년 05월 04일 00시</stdday><updatedt>null</updatedt></item><item><createdt>2021-05-04 09:52:44.205</createdt><deathcnt>221</deathcnt><defcnt>9395</defcnt><gubun>대구</gubun><gubuncn>大邱</gubuncn><gubunen>Daegu</gubunen><incdec>10</incdec><isolclearcnt>9017</isolclearcnt><isolingcnt>157</isolingcnt><localocccnt>9</localocccnt><overflowcnt>1</overflowcnt><qurrate>385.60</qurrate><seq>9283</seq><stdday>2021년 05월 04일 00시</stdday><updatedt>null</updatedt></item><item><createdt>2021-05-04 09:52:44.204</createdt><deathcnt>122</deathcnt><defcnt>5143</defcnt><gubun>부산</gubun><gubuncn>釜山</gubuncn><gubunen>Busan</gubunen><incdec>16</incdec><isolclearcnt>4647</isolclearcnt><isolingcnt>374</isolingcnt><localocccnt>16</localocccnt><overflowcnt>0</overflowcnt><qurrate>150.74</qurrate><seq>9282</seq><stdday>2021년 05월 04일 00시</stdday><updatedt>null</updatedt></item><item><createdt>2021-05-04 09:52:44.204</createdt><deathcnt>452</deathcnt><defcnt>38525</defcnt><gubun>서울</gubun><gubuncn>首尔</gubuncn><gubunen>Seoul</gubunen><incdec>184</incdec><isolclearcnt>35359</isolclearcnt><isolingcnt>2714</isolingcnt><localocccnt>182</localocccnt><overflowcnt>2</overflowcnt><qurrate>395.80</qurrate><seq>9281</seq><stdday>2021년 05월 04일 00시</stdday><updatedt>null</updatedt></item><item><createdt>2021-05-04 09:52:44.204</createdt><deathcnt>1840</deathcnt><defcnt>124269</defcnt><gubun>합계</gubun><gubuncn>合计</gubuncn><gubunen>Total</gubunen><incdec>541</incdec><isolclearcnt>114128</isolclearcnt><isolingcnt>8301</isolingcnt><localocccnt>514</localocccnt><overflowcnt>27</overflowcnt><qurrate>239.68</qurrate><seq>9280</seq><stdday>2021년 05월 04일 00시</stdday><updatedt>null</updatedt></item></items><numofrows>38</numofrows><pageno>1</pageno><totalcount>19</totalcount></body></response>"
      ]
     },
     "execution_count": 18,
     "metadata": {},
     "output_type": "execute_result"
    }
   ],
   "source": [
    "# 새로운 url에 요청을 다시 한다.\n",
    "xml = requests.get(url)\n",
    "soup = BeautifulSoup(xml.text, 'html.parser')\n",
    "soup"
   ]
  },
  {
   "cell_type": "code",
   "execution_count": 21,
   "metadata": {},
   "outputs": [],
   "source": [
    "# item 태그 모두 찾기\n",
    "data_lst = soup.find_all('item')"
   ]
  },
  {
   "cell_type": "code",
   "execution_count": 22,
   "metadata": {},
   "outputs": [
    {
     "data": {
      "text/plain": [
       "[<item><createdt>2021-05-04 09:52:44.207</createdt><deathcnt>4</deathcnt><defcnt>3507</defcnt><gubun>검역</gubun><gubuncn>隔離區</gubuncn><gubunen>Lazaretto</gubunen><incdec>7</incdec><isolclearcnt>3271</isolclearcnt><isolingcnt>232</isolingcnt><localocccnt>0</localocccnt><overflowcnt>7</overflowcnt><qurrate>-</qurrate><seq>9298</seq><stdday>2021년 05월 04일 00시</stdday><updatedt>null</updatedt></item>,\n",
       " <item><createdt>2021-05-04 09:52:44.207</createdt><deathcnt>1</deathcnt><defcnt>724</defcnt><gubun>제주</gubun><gubuncn>济州</gubuncn><gubunen>Jeju</gubunen><incdec>8</incdec><isolclearcnt>682</isolclearcnt><isolingcnt>41</isolingcnt><localocccnt>8</localocccnt><overflowcnt>0</overflowcnt><qurrate>107.94</qurrate><seq>9297</seq><stdday>2021년 05월 04일 00시</stdday><updatedt>null</updatedt></item>,\n",
       " <item><createdt>2021-05-04 09:52:44.207</createdt><deathcnt>18</deathcnt><defcnt>4099</defcnt><gubun>경남</gubun><gubuncn>庆南</gubuncn><gubunen>Gyeongsangnam-do</gubunen><incdec>36</incdec><isolclearcnt>3593</isolclearcnt><isolingcnt>488</isolingcnt><localocccnt>35</localocccnt><overflowcnt>1</overflowcnt><qurrate>121.95</qurrate><seq>9296</seq><stdday>2021년 05월 04일 00시</stdday><updatedt>null</updatedt></item>,\n",
       " <item><createdt>2021-05-04 09:52:44.207</createdt><deathcnt>78</deathcnt><defcnt>4206</defcnt><gubun>경북</gubun><gubuncn>庆北</gubuncn><gubunen>Gyeongsangbuk-do</gubunen><incdec>22</incdec><isolclearcnt>3819</isolclearcnt><isolingcnt>309</isolingcnt><localocccnt>18</localocccnt><overflowcnt>4</overflowcnt><qurrate>157.97</qurrate><seq>9295</seq><stdday>2021년 05월 04일 00시</stdday><updatedt>null</updatedt></item>,\n",
       " <item><createdt>2021-05-04 09:52:44.206</createdt><deathcnt>10</deathcnt><defcnt>1089</defcnt><gubun>전남</gubun><gubuncn>全南</gubuncn><gubunen>Jeollanam-do</gubunen><incdec>9</incdec><isolclearcnt>985</isolclearcnt><isolingcnt>94</isolingcnt><localocccnt>9</localocccnt><overflowcnt>0</overflowcnt><qurrate>58.40</qurrate><seq>9294</seq><stdday>2021년 05월 04일 00시</stdday><updatedt>null</updatedt></item>,\n",
       " <item><createdt>2021-05-04 09:52:44.206</createdt><deathcnt>58</deathcnt><defcnt>1982</defcnt><gubun>전북</gubun><gubuncn>全北</gubuncn><gubunen>Jeollabuk-do</gubunen><incdec>12</incdec><isolclearcnt>1793</isolclearcnt><isolingcnt>131</isolingcnt><localocccnt>12</localocccnt><overflowcnt>0</overflowcnt><qurrate>109.06</qurrate><seq>9293</seq><stdday>2021년 05월 04일 00시</stdday><updatedt>null</updatedt></item>,\n",
       " <item><createdt>2021-05-04 09:52:44.206</createdt><deathcnt>36</deathcnt><defcnt>3095</defcnt><gubun>충남</gubun><gubuncn>忠南</gubuncn><gubunen>Chungcheongnam-do</gubunen><incdec>19</incdec><isolclearcnt>2866</isolclearcnt><isolingcnt>193</isolingcnt><localocccnt>18</localocccnt><overflowcnt>1</overflowcnt><qurrate>145.82</qurrate><seq>9292</seq><stdday>2021년 05월 04일 00시</stdday><updatedt>null</updatedt></item>,\n",
       " <item><createdt>2021-05-04 09:52:44.206</createdt><deathcnt>64</deathcnt><defcnt>2660</defcnt><gubun>충북</gubun><gubuncn>忠北</gubuncn><gubunen>Chungcheongbuk-do</gubunen><incdec>7</incdec><isolclearcnt>2437</isolclearcnt><isolingcnt>159</isolingcnt><localocccnt>5</localocccnt><overflowcnt>2</overflowcnt><qurrate>166.31</qurrate><seq>9291</seq><stdday>2021년 05월 04일 00시</stdday><updatedt>null</updatedt></item>,\n",
       " <item><createdt>2021-05-04 09:52:44.206</createdt><deathcnt>50</deathcnt><defcnt>2724</defcnt><gubun>강원</gubun><gubuncn>江原</gubuncn><gubunen>Gangwon-do</gubunen><incdec>22</incdec><isolclearcnt>2529</isolclearcnt><isolingcnt>145</isolingcnt><localocccnt>22</localocccnt><overflowcnt>0</overflowcnt><qurrate>176.82</qurrate><seq>9290</seq><stdday>2021년 05월 04일 00시</stdday><updatedt>null</updatedt></item>,\n",
       " <item><createdt>2021-05-04 09:52:44.206</createdt><deathcnt>589</deathcnt><defcnt>34785</defcnt><gubun>경기</gubun><gubuncn>京畿</gubuncn><gubunen>Gyeonggi-do</gubunen><incdec>124</incdec><isolclearcnt>31753</isolclearcnt><isolingcnt>2443</isolingcnt><localocccnt>117</localocccnt><overflowcnt>7</overflowcnt><qurrate>262.52</qurrate><seq>9289</seq><stdday>2021년 05월 04일 00시</stdday><updatedt>null</updatedt></item>,\n",
       " <item><createdt>2021-05-04 09:52:44.205</createdt><deathcnt>1</deathcnt><defcnt>372</defcnt><gubun>세종</gubun><gubuncn>世宗</gubuncn><gubunen>Sejong</gubunen><incdec>6</incdec><isolclearcnt>348</isolclearcnt><isolingcnt>23</isolingcnt><localocccnt>5</localocccnt><overflowcnt>1</overflowcnt><qurrate>108.67</qurrate><seq>9288</seq><stdday>2021년 05월 04일 00시</stdday><updatedt>null</updatedt></item>,\n",
       " <item><createdt>2021-05-04 09:52:44.205</createdt><deathcnt>38</deathcnt><defcnt>2033</defcnt><gubun>울산</gubun><gubuncn>蔚山</gubuncn><gubunen>Ulsan</gubunen><incdec>29</incdec><isolclearcnt>1579</isolclearcnt><isolingcnt>416</isolingcnt><localocccnt>29</localocccnt><overflowcnt>0</overflowcnt><qurrate>177.24</qurrate><seq>9287</seq><stdday>2021년 05월 04일 00시</stdday><updatedt>null</updatedt></item>,\n",
       " <item><createdt>2021-05-04 09:52:44.205</createdt><deathcnt>17</deathcnt><defcnt>1770</defcnt><gubun>대전</gubun><gubuncn>大田</gubuncn><gubunen>Daejeon</gubunen><incdec>13</incdec><isolclearcnt>1637</isolclearcnt><isolingcnt>116</isolingcnt><localocccnt>13</localocccnt><overflowcnt>0</overflowcnt><qurrate>120.07</qurrate><seq>9286</seq><stdday>2021년 05월 04일 00시</stdday><updatedt>null</updatedt></item>,\n",
       " <item><createdt>2021-05-04 09:52:44.205</createdt><deathcnt>22</deathcnt><defcnt>2437</defcnt><gubun>광주</gubun><gubuncn>光州</gubuncn><gubunen>Gwangju</gubunen><incdec>4</incdec><isolclearcnt>2326</isolclearcnt><isolingcnt>89</isolingcnt><localocccnt>4</localocccnt><overflowcnt>0</overflowcnt><qurrate>167.30</qurrate><seq>9285</seq><stdday>2021년 05월 04일 00시</stdday><updatedt>null</updatedt></item>,\n",
       " <item><createdt>2021-05-04 09:52:44.205</createdt><deathcnt>59</deathcnt><defcnt>5723</defcnt><gubun>인천</gubun><gubuncn>仁川</gubuncn><gubunen>Incheon</gubunen><incdec>13</incdec><isolclearcnt>5487</isolclearcnt><isolingcnt>177</isolingcnt><localocccnt>12</localocccnt><overflowcnt>1</overflowcnt><qurrate>193.60</qurrate><seq>9284</seq><stdday>2021년 05월 04일 00시</stdday><updatedt>null</updatedt></item>,\n",
       " <item><createdt>2021-05-04 09:52:44.205</createdt><deathcnt>221</deathcnt><defcnt>9395</defcnt><gubun>대구</gubun><gubuncn>大邱</gubuncn><gubunen>Daegu</gubunen><incdec>10</incdec><isolclearcnt>9017</isolclearcnt><isolingcnt>157</isolingcnt><localocccnt>9</localocccnt><overflowcnt>1</overflowcnt><qurrate>385.60</qurrate><seq>9283</seq><stdday>2021년 05월 04일 00시</stdday><updatedt>null</updatedt></item>,\n",
       " <item><createdt>2021-05-04 09:52:44.204</createdt><deathcnt>122</deathcnt><defcnt>5143</defcnt><gubun>부산</gubun><gubuncn>釜山</gubuncn><gubunen>Busan</gubunen><incdec>16</incdec><isolclearcnt>4647</isolclearcnt><isolingcnt>374</isolingcnt><localocccnt>16</localocccnt><overflowcnt>0</overflowcnt><qurrate>150.74</qurrate><seq>9282</seq><stdday>2021년 05월 04일 00시</stdday><updatedt>null</updatedt></item>,\n",
       " <item><createdt>2021-05-04 09:52:44.204</createdt><deathcnt>452</deathcnt><defcnt>38525</defcnt><gubun>서울</gubun><gubuncn>首尔</gubuncn><gubunen>Seoul</gubunen><incdec>184</incdec><isolclearcnt>35359</isolclearcnt><isolingcnt>2714</isolingcnt><localocccnt>182</localocccnt><overflowcnt>2</overflowcnt><qurrate>395.80</qurrate><seq>9281</seq><stdday>2021년 05월 04일 00시</stdday><updatedt>null</updatedt></item>,\n",
       " <item><createdt>2021-05-04 09:52:44.204</createdt><deathcnt>1840</deathcnt><defcnt>124269</defcnt><gubun>합계</gubun><gubuncn>合计</gubuncn><gubunen>Total</gubunen><incdec>541</incdec><isolclearcnt>114128</isolclearcnt><isolingcnt>8301</isolingcnt><localocccnt>514</localocccnt><overflowcnt>27</overflowcnt><qurrate>239.68</qurrate><seq>9280</seq><stdday>2021년 05월 04일 00시</stdday><updatedt>null</updatedt></item>]"
      ]
     },
     "execution_count": 22,
     "metadata": {},
     "output_type": "execute_result"
    }
   ],
   "source": [
    "data_lst"
   ]
  },
  {
   "cell_type": "code",
   "execution_count": 23,
   "metadata": {},
   "outputs": [
    {
     "data": {
      "text/plain": [
       "19"
      ]
     },
     "execution_count": 23,
     "metadata": {},
     "output_type": "execute_result"
    }
   ],
   "source": [
    "len(data_lst)"
   ]
  },
  {
   "cell_type": "code",
   "execution_count": 24,
   "metadata": {},
   "outputs": [
    {
     "data": {
      "text/plain": [
       "<item><createdt>2021-05-04 09:52:44.207</createdt><deathcnt>4</deathcnt><defcnt>3507</defcnt><gubun>검역</gubun><gubuncn>隔離區</gubuncn><gubunen>Lazaretto</gubunen><incdec>7</incdec><isolclearcnt>3271</isolclearcnt><isolingcnt>232</isolingcnt><localocccnt>0</localocccnt><overflowcnt>7</overflowcnt><qurrate>-</qurrate><seq>9298</seq><stdday>2021년 05월 04일 00시</stdday><updatedt>null</updatedt></item>"
      ]
     },
     "execution_count": 24,
     "metadata": {},
     "output_type": "execute_result"
    }
   ],
   "source": [
    "data_lst[0]"
   ]
  },
  {
   "cell_type": "code",
   "execution_count": 25,
   "metadata": {},
   "outputs": [
    {
     "data": {
      "text/plain": [
       "<gubun>제주</gubun>"
      ]
     },
     "execution_count": 25,
     "metadata": {},
     "output_type": "execute_result"
    }
   ],
   "source": [
    "test = data_lst[1].find('gubun')\n",
    "test"
   ]
  },
  {
   "cell_type": "code",
   "execution_count": 26,
   "metadata": {},
   "outputs": [
    {
     "data": {
      "text/plain": [
       "'제주'"
      ]
     },
     "execution_count": 26,
     "metadata": {},
     "output_type": "execute_result"
    }
   ],
   "source": [
    "test = data_lst[1].find('gubun').text\n",
    "test"
   ]
  },
  {
   "cell_type": "code",
   "execution_count": 27,
   "metadata": {},
   "outputs": [],
   "source": [
    "test_lst = []\n",
    "for i in data_lst:\n",
    "    DEF_CNT = i.find('defcnt').text\n",
    "    \n",
    "    test_lst.append(DEF_CNT)"
   ]
  },
  {
   "cell_type": "code",
   "execution_count": 59,
   "metadata": {},
   "outputs": [
    {
     "data": {
      "text/plain": [
       "['3519',\n",
       " '737',\n",
       " '4126',\n",
       " '4244',\n",
       " '1101',\n",
       " '1988',\n",
       " '3105',\n",
       " '2671',\n",
       " '2772',\n",
       " '34953',\n",
       " '372',\n",
       " '2055',\n",
       " '1788',\n",
       " '2445',\n",
       " '5739',\n",
       " '9401',\n",
       " '5166',\n",
       " '38763',\n",
       " '124945']"
      ]
     },
     "execution_count": 59,
     "metadata": {},
     "output_type": "execute_result"
    }
   ],
   "source": [
    "test_lst"
   ]
  },
  {
   "cell_type": "code",
   "execution_count": 28,
   "metadata": {},
   "outputs": [
    {
     "data": {
      "text/plain": [
       "<item><createdt>2021-05-04 09:52:44.207</createdt><deathcnt>4</deathcnt><defcnt>3507</defcnt><gubun>검역</gubun><gubuncn>隔離區</gubuncn><gubunen>Lazaretto</gubunen><incdec>7</incdec><isolclearcnt>3271</isolclearcnt><isolingcnt>232</isolingcnt><localocccnt>0</localocccnt><overflowcnt>7</overflowcnt><qurrate>-</qurrate><seq>9298</seq><stdday>2021년 05월 04일 00시</stdday><updatedt>null</updatedt></item>"
      ]
     },
     "execution_count": 28,
     "metadata": {},
     "output_type": "execute_result"
    }
   ],
   "source": [
    "data_lst[0]"
   ]
  },
  {
   "cell_type": "code",
   "execution_count": 29,
   "metadata": {},
   "outputs": [
    {
     "data": {
      "text/plain": [
       "[{'지역': '검역',\n",
       "  '기준일': '2021년 05월 04일 00시',\n",
       "  '격리자수': '232',\n",
       "  '확진자수': '3507',\n",
       "  '전일대비증감': '7',\n",
       "  '지역감염': '0',\n",
       "  '해외유입': '7'},\n",
       " {'지역': '제주',\n",
       "  '기준일': '2021년 05월 04일 00시',\n",
       "  '격리자수': '41',\n",
       "  '확진자수': '724',\n",
       "  '전일대비증감': '8',\n",
       "  '지역감염': '8',\n",
       "  '해외유입': '0'},\n",
       " {'지역': '경남',\n",
       "  '기준일': '2021년 05월 04일 00시',\n",
       "  '격리자수': '488',\n",
       "  '확진자수': '4099',\n",
       "  '전일대비증감': '36',\n",
       "  '지역감염': '35',\n",
       "  '해외유입': '1'},\n",
       " {'지역': '경북',\n",
       "  '기준일': '2021년 05월 04일 00시',\n",
       "  '격리자수': '309',\n",
       "  '확진자수': '4206',\n",
       "  '전일대비증감': '22',\n",
       "  '지역감염': '18',\n",
       "  '해외유입': '4'},\n",
       " {'지역': '전남',\n",
       "  '기준일': '2021년 05월 04일 00시',\n",
       "  '격리자수': '94',\n",
       "  '확진자수': '1089',\n",
       "  '전일대비증감': '9',\n",
       "  '지역감염': '9',\n",
       "  '해외유입': '0'},\n",
       " {'지역': '전북',\n",
       "  '기준일': '2021년 05월 04일 00시',\n",
       "  '격리자수': '131',\n",
       "  '확진자수': '1982',\n",
       "  '전일대비증감': '12',\n",
       "  '지역감염': '12',\n",
       "  '해외유입': '0'},\n",
       " {'지역': '충남',\n",
       "  '기준일': '2021년 05월 04일 00시',\n",
       "  '격리자수': '193',\n",
       "  '확진자수': '3095',\n",
       "  '전일대비증감': '19',\n",
       "  '지역감염': '18',\n",
       "  '해외유입': '1'},\n",
       " {'지역': '충북',\n",
       "  '기준일': '2021년 05월 04일 00시',\n",
       "  '격리자수': '159',\n",
       "  '확진자수': '2660',\n",
       "  '전일대비증감': '7',\n",
       "  '지역감염': '5',\n",
       "  '해외유입': '2'},\n",
       " {'지역': '강원',\n",
       "  '기준일': '2021년 05월 04일 00시',\n",
       "  '격리자수': '145',\n",
       "  '확진자수': '2724',\n",
       "  '전일대비증감': '22',\n",
       "  '지역감염': '22',\n",
       "  '해외유입': '0'},\n",
       " {'지역': '경기',\n",
       "  '기준일': '2021년 05월 04일 00시',\n",
       "  '격리자수': '2443',\n",
       "  '확진자수': '34785',\n",
       "  '전일대비증감': '124',\n",
       "  '지역감염': '117',\n",
       "  '해외유입': '7'},\n",
       " {'지역': '세종',\n",
       "  '기준일': '2021년 05월 04일 00시',\n",
       "  '격리자수': '23',\n",
       "  '확진자수': '372',\n",
       "  '전일대비증감': '6',\n",
       "  '지역감염': '5',\n",
       "  '해외유입': '1'},\n",
       " {'지역': '울산',\n",
       "  '기준일': '2021년 05월 04일 00시',\n",
       "  '격리자수': '416',\n",
       "  '확진자수': '2033',\n",
       "  '전일대비증감': '29',\n",
       "  '지역감염': '29',\n",
       "  '해외유입': '0'},\n",
       " {'지역': '대전',\n",
       "  '기준일': '2021년 05월 04일 00시',\n",
       "  '격리자수': '116',\n",
       "  '확진자수': '1770',\n",
       "  '전일대비증감': '13',\n",
       "  '지역감염': '13',\n",
       "  '해외유입': '0'},\n",
       " {'지역': '광주',\n",
       "  '기준일': '2021년 05월 04일 00시',\n",
       "  '격리자수': '89',\n",
       "  '확진자수': '2437',\n",
       "  '전일대비증감': '4',\n",
       "  '지역감염': '4',\n",
       "  '해외유입': '0'},\n",
       " {'지역': '인천',\n",
       "  '기준일': '2021년 05월 04일 00시',\n",
       "  '격리자수': '177',\n",
       "  '확진자수': '5723',\n",
       "  '전일대비증감': '13',\n",
       "  '지역감염': '12',\n",
       "  '해외유입': '1'},\n",
       " {'지역': '대구',\n",
       "  '기준일': '2021년 05월 04일 00시',\n",
       "  '격리자수': '157',\n",
       "  '확진자수': '9395',\n",
       "  '전일대비증감': '10',\n",
       "  '지역감염': '9',\n",
       "  '해외유입': '1'},\n",
       " {'지역': '부산',\n",
       "  '기준일': '2021년 05월 04일 00시',\n",
       "  '격리자수': '374',\n",
       "  '확진자수': '5143',\n",
       "  '전일대비증감': '16',\n",
       "  '지역감염': '16',\n",
       "  '해외유입': '0'},\n",
       " {'지역': '서울',\n",
       "  '기준일': '2021년 05월 04일 00시',\n",
       "  '격리자수': '2714',\n",
       "  '확진자수': '38525',\n",
       "  '전일대비증감': '184',\n",
       "  '지역감염': '182',\n",
       "  '해외유입': '2'},\n",
       " {'지역': '합계',\n",
       "  '기준일': '2021년 05월 04일 00시',\n",
       "  '격리자수': '8301',\n",
       "  '확진자수': '124269',\n",
       "  '전일대비증감': '541',\n",
       "  '지역감염': '514',\n",
       "  '해외유입': '27'}]"
      ]
     },
     "execution_count": 29,
     "metadata": {},
     "output_type": "execute_result"
    }
   ],
   "source": [
    "con_lst = []\n",
    "for i in data_lst:\n",
    "    DEF_CNT = i.find('defcnt').text           # 확진자 수\n",
    "    GUBUN = i.find('gubun').text              # 시도명(한글)\n",
    "    INC_DEC = i.find('incdec').text           # 전일대비 증감수\n",
    "    ISOL_ING_CNT = i.find('isolingcnt').text  # 격리 중 환자수\n",
    "    LOCAL_OCC_CNT = i.find('localocccnt').text# 지역발생 수\n",
    "    OVER_FLOW_CNT = i.find('overflowcnt').text# 해외유입 수\n",
    "    STD_DAY = i.find('stdday').text           # 기준일시\n",
    "    con_lst.append({'지역':GUBUN, '기준일':STD_DAY, '격리자수':ISOL_ING_CNT,\n",
    "                      '확진자수':DEF_CNT, '전일대비증감':INC_DEC,\n",
    "                      '지역감염':LOCAL_OCC_CNT, '해외유입':OVER_FLOW_CNT})\n",
    "con_lst"
   ]
  },
  {
   "cell_type": "code",
   "execution_count": 30,
   "metadata": {},
   "outputs": [
    {
     "data": {
      "text/html": [
       "<div>\n",
       "<style scoped>\n",
       "    .dataframe tbody tr th:only-of-type {\n",
       "        vertical-align: middle;\n",
       "    }\n",
       "\n",
       "    .dataframe tbody tr th {\n",
       "        vertical-align: top;\n",
       "    }\n",
       "\n",
       "    .dataframe thead th {\n",
       "        text-align: right;\n",
       "    }\n",
       "</style>\n",
       "<table border=\"1\" class=\"dataframe\">\n",
       "  <thead>\n",
       "    <tr style=\"text-align: right;\">\n",
       "      <th></th>\n",
       "      <th>지역</th>\n",
       "      <th>기준일</th>\n",
       "      <th>격리자수</th>\n",
       "      <th>확진자수</th>\n",
       "      <th>전일대비증감</th>\n",
       "      <th>지역감염</th>\n",
       "      <th>해외유입</th>\n",
       "    </tr>\n",
       "  </thead>\n",
       "  <tbody>\n",
       "    <tr>\n",
       "      <th>0</th>\n",
       "      <td>검역</td>\n",
       "      <td>2021년 05월 04일 00시</td>\n",
       "      <td>232</td>\n",
       "      <td>3507</td>\n",
       "      <td>7</td>\n",
       "      <td>0</td>\n",
       "      <td>7</td>\n",
       "    </tr>\n",
       "    <tr>\n",
       "      <th>1</th>\n",
       "      <td>제주</td>\n",
       "      <td>2021년 05월 04일 00시</td>\n",
       "      <td>41</td>\n",
       "      <td>724</td>\n",
       "      <td>8</td>\n",
       "      <td>8</td>\n",
       "      <td>0</td>\n",
       "    </tr>\n",
       "    <tr>\n",
       "      <th>2</th>\n",
       "      <td>경남</td>\n",
       "      <td>2021년 05월 04일 00시</td>\n",
       "      <td>488</td>\n",
       "      <td>4099</td>\n",
       "      <td>36</td>\n",
       "      <td>35</td>\n",
       "      <td>1</td>\n",
       "    </tr>\n",
       "    <tr>\n",
       "      <th>3</th>\n",
       "      <td>경북</td>\n",
       "      <td>2021년 05월 04일 00시</td>\n",
       "      <td>309</td>\n",
       "      <td>4206</td>\n",
       "      <td>22</td>\n",
       "      <td>18</td>\n",
       "      <td>4</td>\n",
       "    </tr>\n",
       "    <tr>\n",
       "      <th>4</th>\n",
       "      <td>전남</td>\n",
       "      <td>2021년 05월 04일 00시</td>\n",
       "      <td>94</td>\n",
       "      <td>1089</td>\n",
       "      <td>9</td>\n",
       "      <td>9</td>\n",
       "      <td>0</td>\n",
       "    </tr>\n",
       "    <tr>\n",
       "      <th>5</th>\n",
       "      <td>전북</td>\n",
       "      <td>2021년 05월 04일 00시</td>\n",
       "      <td>131</td>\n",
       "      <td>1982</td>\n",
       "      <td>12</td>\n",
       "      <td>12</td>\n",
       "      <td>0</td>\n",
       "    </tr>\n",
       "    <tr>\n",
       "      <th>6</th>\n",
       "      <td>충남</td>\n",
       "      <td>2021년 05월 04일 00시</td>\n",
       "      <td>193</td>\n",
       "      <td>3095</td>\n",
       "      <td>19</td>\n",
       "      <td>18</td>\n",
       "      <td>1</td>\n",
       "    </tr>\n",
       "    <tr>\n",
       "      <th>7</th>\n",
       "      <td>충북</td>\n",
       "      <td>2021년 05월 04일 00시</td>\n",
       "      <td>159</td>\n",
       "      <td>2660</td>\n",
       "      <td>7</td>\n",
       "      <td>5</td>\n",
       "      <td>2</td>\n",
       "    </tr>\n",
       "    <tr>\n",
       "      <th>8</th>\n",
       "      <td>강원</td>\n",
       "      <td>2021년 05월 04일 00시</td>\n",
       "      <td>145</td>\n",
       "      <td>2724</td>\n",
       "      <td>22</td>\n",
       "      <td>22</td>\n",
       "      <td>0</td>\n",
       "    </tr>\n",
       "    <tr>\n",
       "      <th>9</th>\n",
       "      <td>경기</td>\n",
       "      <td>2021년 05월 04일 00시</td>\n",
       "      <td>2443</td>\n",
       "      <td>34785</td>\n",
       "      <td>124</td>\n",
       "      <td>117</td>\n",
       "      <td>7</td>\n",
       "    </tr>\n",
       "    <tr>\n",
       "      <th>10</th>\n",
       "      <td>세종</td>\n",
       "      <td>2021년 05월 04일 00시</td>\n",
       "      <td>23</td>\n",
       "      <td>372</td>\n",
       "      <td>6</td>\n",
       "      <td>5</td>\n",
       "      <td>1</td>\n",
       "    </tr>\n",
       "    <tr>\n",
       "      <th>11</th>\n",
       "      <td>울산</td>\n",
       "      <td>2021년 05월 04일 00시</td>\n",
       "      <td>416</td>\n",
       "      <td>2033</td>\n",
       "      <td>29</td>\n",
       "      <td>29</td>\n",
       "      <td>0</td>\n",
       "    </tr>\n",
       "    <tr>\n",
       "      <th>12</th>\n",
       "      <td>대전</td>\n",
       "      <td>2021년 05월 04일 00시</td>\n",
       "      <td>116</td>\n",
       "      <td>1770</td>\n",
       "      <td>13</td>\n",
       "      <td>13</td>\n",
       "      <td>0</td>\n",
       "    </tr>\n",
       "    <tr>\n",
       "      <th>13</th>\n",
       "      <td>광주</td>\n",
       "      <td>2021년 05월 04일 00시</td>\n",
       "      <td>89</td>\n",
       "      <td>2437</td>\n",
       "      <td>4</td>\n",
       "      <td>4</td>\n",
       "      <td>0</td>\n",
       "    </tr>\n",
       "    <tr>\n",
       "      <th>14</th>\n",
       "      <td>인천</td>\n",
       "      <td>2021년 05월 04일 00시</td>\n",
       "      <td>177</td>\n",
       "      <td>5723</td>\n",
       "      <td>13</td>\n",
       "      <td>12</td>\n",
       "      <td>1</td>\n",
       "    </tr>\n",
       "    <tr>\n",
       "      <th>15</th>\n",
       "      <td>대구</td>\n",
       "      <td>2021년 05월 04일 00시</td>\n",
       "      <td>157</td>\n",
       "      <td>9395</td>\n",
       "      <td>10</td>\n",
       "      <td>9</td>\n",
       "      <td>1</td>\n",
       "    </tr>\n",
       "    <tr>\n",
       "      <th>16</th>\n",
       "      <td>부산</td>\n",
       "      <td>2021년 05월 04일 00시</td>\n",
       "      <td>374</td>\n",
       "      <td>5143</td>\n",
       "      <td>16</td>\n",
       "      <td>16</td>\n",
       "      <td>0</td>\n",
       "    </tr>\n",
       "    <tr>\n",
       "      <th>17</th>\n",
       "      <td>서울</td>\n",
       "      <td>2021년 05월 04일 00시</td>\n",
       "      <td>2714</td>\n",
       "      <td>38525</td>\n",
       "      <td>184</td>\n",
       "      <td>182</td>\n",
       "      <td>2</td>\n",
       "    </tr>\n",
       "    <tr>\n",
       "      <th>18</th>\n",
       "      <td>합계</td>\n",
       "      <td>2021년 05월 04일 00시</td>\n",
       "      <td>8301</td>\n",
       "      <td>124269</td>\n",
       "      <td>541</td>\n",
       "      <td>514</td>\n",
       "      <td>27</td>\n",
       "    </tr>\n",
       "  </tbody>\n",
       "</table>\n",
       "</div>"
      ],
      "text/plain": [
       "    지역                기준일  격리자수    확진자수 전일대비증감 지역감염 해외유입\n",
       "0   검역  2021년 05월 04일 00시   232    3507      7    0    7\n",
       "1   제주  2021년 05월 04일 00시    41     724      8    8    0\n",
       "2   경남  2021년 05월 04일 00시   488    4099     36   35    1\n",
       "3   경북  2021년 05월 04일 00시   309    4206     22   18    4\n",
       "4   전남  2021년 05월 04일 00시    94    1089      9    9    0\n",
       "5   전북  2021년 05월 04일 00시   131    1982     12   12    0\n",
       "6   충남  2021년 05월 04일 00시   193    3095     19   18    1\n",
       "7   충북  2021년 05월 04일 00시   159    2660      7    5    2\n",
       "8   강원  2021년 05월 04일 00시   145    2724     22   22    0\n",
       "9   경기  2021년 05월 04일 00시  2443   34785    124  117    7\n",
       "10  세종  2021년 05월 04일 00시    23     372      6    5    1\n",
       "11  울산  2021년 05월 04일 00시   416    2033     29   29    0\n",
       "12  대전  2021년 05월 04일 00시   116    1770     13   13    0\n",
       "13  광주  2021년 05월 04일 00시    89    2437      4    4    0\n",
       "14  인천  2021년 05월 04일 00시   177    5723     13   12    1\n",
       "15  대구  2021년 05월 04일 00시   157    9395     10    9    1\n",
       "16  부산  2021년 05월 04일 00시   374    5143     16   16    0\n",
       "17  서울  2021년 05월 04일 00시  2714   38525    184  182    2\n",
       "18  합계  2021년 05월 04일 00시  8301  124269    541  514   27"
      ]
     },
     "execution_count": 30,
     "metadata": {},
     "output_type": "execute_result"
    }
   ],
   "source": [
    "data_df = pd.DataFrame(con_lst)\n",
    "data_df"
   ]
  },
  {
   "cell_type": "code",
   "execution_count": 31,
   "metadata": {},
   "outputs": [],
   "source": [
    "import matplotlib.pyplot as plt\n",
    "import matplotlib.font_manager as fm    # 파일 경로 지시\n",
    "fl = fm.FontProperties(fname='C:/Windows/Fonts/malgun.ttf').get_name()\n",
    "plt.rc('font',family=fl)\n",
    "\n",
    "\n",
    "data_df['전일대비증감'] = data_df['전일대비증감'].astype('int')\n",
    "data_df.set_index('지역', inplace=True)"
   ]
  },
  {
   "cell_type": "code",
   "execution_count": 33,
   "metadata": {},
   "outputs": [
    {
     "data": {
      "image/png": "[encoded data removed]",
      "text/plain": [
       "<Figure size 720x360 with 1 Axes>"
      ]
     },
     "metadata": {
      "needs_background": "light"
     },
     "output_type": "display_data"
    }
   ],
   "source": [
    "df_bar = data_df['전일대비증감'].plot(kind='bar', figsize=(10,5),\n",
    "                                      title = '20210504 지역별 코로나19 확진자',\n",
    "                                      ylabel = '확진자 수')"
   ]
  },
  {
   "cell_type": "code",
   "execution_count": null,
   "metadata": {},
   "outputs": [],
   "source": []
  }
 ],
 "metadata": {
  "kernelspec": {
   "display_name": "Python 3",
   "language": "python",
   "name": "python3"
  },
  "language_info": {
   "codemirror_mode": {
    "name": "ipython",
    "version": 3
   },
   "file_extension": ".py",
   "mimetype": "text/x-python",
   "name": "python",
   "nbconvert_exporter": "python",
   "pygments_lexer": "ipython3",
   "version": "3.8.5"
  }
 },
 "nbformat": 4,
 "nbformat_minor": 4
}
