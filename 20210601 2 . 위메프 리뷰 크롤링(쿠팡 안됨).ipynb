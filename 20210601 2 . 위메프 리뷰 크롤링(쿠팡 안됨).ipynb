{
 "cells": [
  {
   "cell_type": "code",
   "execution_count": 47,
   "metadata": {},
   "outputs": [],
   "source": [
    "  # import 해줄 것들\n",
    "import pandas as pd\n",
    "from bs4 import BeautifulSoup\n",
    "import re\n",
    "import time\n",
    "from selenium import webdriver\n",
    "import sys\n",
    "from tqdm.notebook import tqdm\n",
    "from selenium.webdriver.common.keys import Keys"
   ]
  },
  {
   "cell_type": "code",
   "execution_count": 48,
   "metadata": {},
   "outputs": [
    {
     "name": "stdout",
     "output_type": "stream",
     "text": [
      "위메프 URL 입력:https://front.wemakeprice.com/deal/607935047?refer=AD\n"
     ]
    }
   ],
   "source": [
    "# 사이트 접속\n",
    "url = input('위메프 URL 입력:')\n",
    "driver = webdriver.Chrome('c:/py_data/chromedriver.exe')\n",
    "driver.get(url)\n",
    "time.sleep(2)\n",
    "\n",
    "html = driver.page_source\n",
    "soup = BeautifulSoup(html, 'html.parser')"
   ]
  },
  {
   "cell_type": "code",
   "execution_count": 49,
   "metadata": {},
   "outputs": [],
   "source": [
    "# 쇼핑몰 리뷰 누르기\n",
    "\n",
    "menu_area = soup.find('ul', class_='tab_info noscript').find_all('li')\n",
    "for i in range(len(menu_area)):\n",
    "    menu = re.sub('[^ㄱ-ㅣ가-힣 ]','',menu_area[i].text)\n",
    "    if menu == '구매후기':\n",
    "        driver.find_element_by_css_selector('#_contents > div.content_main.items > div.dinfo_itemdetail > div.wrap_tab > div > ul > li:nth-child('+str(i+1)+') > a').click()   # 페이지별로 바꿔줘야한다.\n",
    "        review_num = int(re.sub('[^0-9]','',menu_area[i].find('span', class_='num_review').text)) \n",
    "        break"
   ]
  },
  {
   "cell_type": "code",
   "execution_count": 50,
   "metadata": {
    "scrolled": true
   },
   "outputs": [
    {
     "data": {
      "application/vnd.jupyter.widget-view+json": {
       "model_id": "cf85fc41f7e24968bc0ea24e7119fd2f",
       "version_major": 2,
       "version_minor": 0
      },
      "text/plain": [
       "HBox(children=(HTML(value=''), FloatProgress(value=0.0, max=33.0), HTML(value='')))"
      ]
     },
     "metadata": {},
     "output_type": "display_data"
    },
    {
     "name": "stdout",
     "output_type": "stream",
     "text": [
      "\n"
     ]
    }
   ],
   "source": [
    "point_lst=[]\n",
    "doc_lst=[]\n",
    "now_page = 0\n",
    "next_btn_path = '#_contents > div.content_main.items > div.dinfo_itemdetail > div.detail_left > div.prd_detail > div.tab_conts.tab_review > div > div:nth-child(3) > div.review_wrap > div.paging_comm >'\n",
    "next_btn = [' a:nth-child(2)',' a:nth-child(5)',' a:nth-child(6)',' a:nth-child(7)',\n",
    "            ' a:nth-child(8)',' a:nth-child(9)',' a:nth-child(10)',' a:nth-child(11)',\n",
    "           ' a:nth-child(12)']\n",
    "\n",
    "\n",
    "for page in tqdm(range(review_num//len(soup.find_all('div',class_='area_cont'))+1)):\n",
    "    html = driver.page_source\n",
    "    soup = BeautifulSoup(html, \"html.parser\")\n",
    "    review_area = soup.find_all('div',class_='area_cont')\n",
    "    point_area = soup.find_all('div', class_='area_star star')\n",
    "    \n",
    "    for review in review_area:\n",
    "        review_txt = review.text\n",
    "        doc_lst.append(re.sub('[^가-힣 ]','',review_txt).replace(\"포토리뷰\",\"\"))\n",
    "    for point in point_area:\n",
    "        point_num = point.find('strong', class_='grade').text\n",
    "          point_lst.append(point_num)\n",
    "        \n",
    "    try:\n",
    "        driver.find_element_by_css_selector(next_btn_path+next_btn[now_page]).click()\n",
    "        time.sleep(2)\n",
    "    except:\n",
    "        pass\n",
    "    \n",
    "    if next_btn[now_page] == next_btn[-1]:\n",
    "        now_page=0\n",
    "        next_btn = [' a:nth-child(4)',' a:nth-child(4)',' a:nth-child(5)',' a:nth-child(6)',' a:nth-child(7)',\n",
    "            ' a:nth-child(8)',' a:nth-child(9)',' a:nth-child(10)',' a:nth-child(11)',' a:nth-child(12)']\n",
    "    else:\n",
    "        now_page = now_page + 1\n",
    "\n",
    "driver.close()        \n",
    "df = pd.DataFrame({'별점':point_lst, '리뷰': doc_lst})\n",
    "df.to_csv('c:/py_data/위메프 리뷰 크롤링.csv',encoding=\"cp949\")\n",
    "print(len(list(doc_lst)),'개의 게시물을 크롤링 하였습니다.')"
   ]
  },
  {
   "cell_type": "markdown",
   "metadata": {},
   "source": [
    "## 코드정리"
   ]
  },
  {
   "cell_type": "code",
   "execution_count": 52,
   "metadata": {},
   "outputs": [
    {
     "name": "stdout",
     "output_type": "stream",
     "text": [
      "위메프 URL 입력:https://front.wemakeprice.com/deal/620381629\n"
     ]
    },
    {
     "data": {
      "application/vnd.jupyter.widget-view+json": {
       "model_id": "08234ace83c447f785688e8e885d16c2",
       "version_major": 2,
       "version_minor": 0
      },
      "text/plain": [
       "HBox(children=(HTML(value=''), FloatProgress(value=0.0, max=20.0), HTML(value='')))"
      ]
     },
     "metadata": {},
     "output_type": "display_data"
    },
    {
     "name": "stdout",
     "output_type": "stream",
     "text": [
      "\n",
      "192 개의 게시물을 크롤링 하였습니다.\n"
     ]
    }
   ],
   "source": [
    "# import 해줄 것들\n",
    "import pandas as pd\n",
    "from bs4 import BeautifulSoup\n",
    "import re\n",
    "import time\n",
    "from selenium import webdriver\n",
    "import sys\n",
    "from tqdm.notebook import tqdm\n",
    "from selenium.webdriver.common.keys import Keys\n",
    "\n",
    "# 사이트 접속\n",
    "url = input('위메프 URL 입력:')\n",
    "driver = webdriver.Chrome('c:/py_data/chromedriver.exe')\n",
    "driver.get(url)\n",
    "time.sleep(2)\n",
    "\n",
    "html = driver.page_source\n",
    "soup = BeautifulSoup(html, 'html.parser')\n",
    "\n",
    "# 쇼핑몰 리뷰 누르기\n",
    "\n",
    "menu_area = soup.find('ul', class_='tab_info noscript').find_all('li')\n",
    "for i in range(len(menu_area)):\n",
    "    menu = re.sub('[^ㄱ-ㅣ가-힣 ]','',menu_area[i].text)\n",
    "    if menu == '구매후기':\n",
    "        driver.find_element_by_css_selector('#_contents > div.content_main.items > div.dinfo_itemdetail > div.wrap_tab > div > ul > li:nth-child('+str(i+1)+') > a').click()   # 페이지별로 바꿔줘야한다.\n",
    "        review_num = int(re.sub('[^0-9]','',menu_area[i].find('span', class_='num_review').text)) \n",
    "        break\n",
    "        \n",
    "        \n",
    "point_lst=[]\n",
    "doc_lst=[]\n",
    "now_page = 0\n",
    "next_btn_path = '#_contents > div.content_main.items > div.dinfo_itemdetail > div.detail_left > div.prd_detail > div.tab_conts.tab_review > div > div:nth-child(3) > div.review_wrap > div.paging_comm >'\n",
    "next_btn = [' a:nth-child(2)',' a:nth-child(5)',' a:nth-child(6)',' a:nth-child(7)',\n",
    "            ' a:nth-child(8)',' a:nth-child(9)',' a:nth-child(10)',' a:nth-child(11)',\n",
    "           ' a:nth-child(12)']\n",
    "\n",
    "\n",
    "for page in tqdm(range(review_num//len(soup.find_all('div',class_='area_cont'))+1)):\n",
    "    html = driver.page_source\n",
    "    soup = BeautifulSoup(html, \"html.parser\")\n",
    "    review_area = soup.find_all('div',class_='area_cont')\n",
    "    point_area = soup.find_all('div', class_='area_star star')\n",
    "    \n",
    "    for review in review_area:\n",
    "        review_txt = review.text\n",
    "        doc_lst.append(re.sub('[^가-힣 ]','',review_txt).replace(\"포토리뷰\",\"\"))\n",
    "    for point in point_area:\n",
    "        point_num = float(point.find('strong', class_='grade').text)\n",
    "        point_lst.append(point_num)\n",
    "        \n",
    "    try:\n",
    "        driver.find_element_by_css_selector(next_btn_path+next_btn[now_page]).click()\n",
    "        time.sleep(2)\n",
    "    except:\n",
    "        pass\n",
    "    \n",
    "    if next_btn[now_page] == next_btn[-1]:\n",
    "        now_page=0\n",
    "        next_btn = [' a:nth-child(4)',' a:nth-child(4)',' a:nth-child(5)',' a:nth-child(6)',' a:nth-child(7)',\n",
    "            ' a:nth-child(8)',' a:nth-child(9)',' a:nth-child(10)',' a:nth-child(11)',' a:nth-child(12)']\n",
    "    else:\n",
    "        now_page = now_page + 1\n",
    "\n",
    "driver.close()        \n",
    "df = pd.DataFrame({'별점':point_lst, '리뷰': doc_lst})\n",
    "df.to_csv('c:/py_data/위메프 리뷰 크롤링.csv',encoding=\"cp949\")\n",
    "print(len(list(doc_lst)),'개의 게시물을 크롤링 하였습니다.')"
   ]
  },
  {
   "cell_type": "code",
   "execution_count": 54,
   "metadata": {},
   "outputs": [
    {
     "data": {
      "text/html": [
       "<div>\n",
       "<style scoped>\n",
       "    .dataframe tbody tr th:only-of-type {\n",
       "        vertical-align: middle;\n",
       "    }\n",
       "\n",
       "    .dataframe tbody tr th {\n",
       "        vertical-align: top;\n",
       "    }\n",
       "\n",
       "    .dataframe thead th {\n",
       "        text-align: right;\n",
       "    }\n",
       "</style>\n",
       "<table border=\"1\" class=\"dataframe\">\n",
       "  <thead>\n",
       "    <tr style=\"text-align: right;\">\n",
       "      <th></th>\n",
       "      <th>별점</th>\n",
       "      <th>리뷰</th>\n",
       "    </tr>\n",
       "  </thead>\n",
       "  <tbody>\n",
       "    <tr>\n",
       "      <th>0</th>\n",
       "      <td>5.0</td>\n",
       "      <td>아디다스 매장정품 아디다스 남여공용    원래  사이즈인데 후기들을 찾아보니 크게나...</td>\n",
       "    </tr>\n",
       "    <tr>\n",
       "      <th>1</th>\n",
       "      <td>1.0</td>\n",
       "      <td>아디다스 매장정품 아디다스    남성 니트 트레이닝 상하의세트   배송에 문제가 생...</td>\n",
       "    </tr>\n",
       "    <tr>\n",
       "      <th>2</th>\n",
       "      <td>5.0</td>\n",
       "      <td>아디다스 매장정품 아디다스  남성트레이닝복세트      아디다스 트레이닝복을 이가격...</td>\n",
       "    </tr>\n",
       "    <tr>\n",
       "      <th>3</th>\n",
       "      <td>5.0</td>\n",
       "      <td>아디다스 매장정품 아디다스    화이트 생각보다 사이즈가 약간 크네요운동화는 늘 사...</td>\n",
       "    </tr>\n",
       "    <tr>\n",
       "      <th>4</th>\n",
       "      <td>5.0</td>\n",
       "      <td>아디다스 아디다스 남여공용    블랙 아이 신발로 구매했는데역시 아디다스는 사이즈 ...</td>\n",
       "    </tr>\n",
       "    <tr>\n",
       "      <th>...</th>\n",
       "      <td>...</td>\n",
       "      <td>...</td>\n",
       "    </tr>\n",
       "    <tr>\n",
       "      <th>187</th>\n",
       "      <td>5.0</td>\n",
       "      <td>아디다스 아디다스 남여공용     그레이 감사합니다 잘 신어요</td>\n",
       "    </tr>\n",
       "    <tr>\n",
       "      <th>188</th>\n",
       "      <td>5.0</td>\n",
       "      <td>아디다스 매장정품 아디다스    남성 니트 트레이닝 상하의세트   너무 좋아요 대박나세</td>\n",
       "    </tr>\n",
       "    <tr>\n",
       "      <th>189</th>\n",
       "      <td>3.0</td>\n",
       "      <td>아디다스 매장정품 아디다스    남성 니트 트레이닝 상하의세트   좋아요 좋아용 좋...</td>\n",
       "    </tr>\n",
       "    <tr>\n",
       "      <th>190</th>\n",
       "      <td>5.0</td>\n",
       "      <td>아디다스 매장정품 아디다스    여성 니트 트레이닝 상하의세트   너무좋아요 대박나세요</td>\n",
       "    </tr>\n",
       "    <tr>\n",
       "      <th>191</th>\n",
       "      <td>5.0</td>\n",
       "      <td>정품 네파 키즈  트레이닝복 세트      신장기준  색이 좀 거시기 하긴 한데 득...</td>\n",
       "    </tr>\n",
       "  </tbody>\n",
       "</table>\n",
       "<p>192 rows × 2 columns</p>\n",
       "</div>"
      ],
      "text/plain": [
       "      별점                                                 리뷰\n",
       "0    5.0  아디다스 매장정품 아디다스 남여공용    원래  사이즈인데 후기들을 찾아보니 크게나...\n",
       "1    1.0  아디다스 매장정품 아디다스    남성 니트 트레이닝 상하의세트   배송에 문제가 생...\n",
       "2    5.0  아디다스 매장정품 아디다스  남성트레이닝복세트      아디다스 트레이닝복을 이가격...\n",
       "3    5.0  아디다스 매장정품 아디다스    화이트 생각보다 사이즈가 약간 크네요운동화는 늘 사...\n",
       "4    5.0  아디다스 아디다스 남여공용    블랙 아이 신발로 구매했는데역시 아디다스는 사이즈 ...\n",
       "..   ...                                                ...\n",
       "187  5.0                 아디다스 아디다스 남여공용     그레이 감사합니다 잘 신어요\n",
       "188  5.0   아디다스 매장정품 아디다스    남성 니트 트레이닝 상하의세트   너무 좋아요 대박나세\n",
       "189  3.0  아디다스 매장정품 아디다스    남성 니트 트레이닝 상하의세트   좋아요 좋아용 좋...\n",
       "190  5.0   아디다스 매장정품 아디다스    여성 니트 트레이닝 상하의세트   너무좋아요 대박나세요\n",
       "191  5.0  정품 네파 키즈  트레이닝복 세트      신장기준  색이 좀 거시기 하긴 한데 득...\n",
       "\n",
       "[192 rows x 2 columns]"
      ]
     },
     "execution_count": 54,
     "metadata": {},
     "output_type": "execute_result"
    }
   ],
   "source": [
    "df"
   ]
  },
  {
   "cell_type": "markdown",
   "metadata": {},
   "source": [
    "## 모범 답안"
   ]
  },
  {
   "cell_type": "code",
   "execution_count": null,
   "metadata": {},
   "outputs": [],
   "source": [
    "from selenium import webdriver\n",
    "from bs4 import BeautifulSoup\n",
    "import re\n",
    "import pandas as pd\n",
    "import time\n",
    "import sys\n",
    "\n",
    "url = input('특가대표 위메프 url을 입력하세요: ')\n",
    "driver = webdriver.Chrome(\"C:/py_data/chromedriver.exe\",)\n",
    "driver.get(url)\n",
    "time.sleep(1)\n",
    "html = driver.page_source\n",
    "soup = BeautifulSoup(html, \"html.parser\")\n",
    "menu_area = soup.find('ul',class_='tab_info noscript').find_all(\"li\")\n",
    "for i in range(len(menu_area)):\n",
    "    menu = menu_area[i].text\n",
    "    menu_txt = re.sub(\"[^가-힣]\",\"\",menu)\n",
    "    if '구매후기' in menu_txt:\n",
    "        driver.find_element_by_css_selector('#_contents > div.content_main.items > div.dinfo_itemdetail > div.wrap_tab > div > ul > li:nth-child('+str(i+1)+\") > a > span\").click()\n",
    "        time.sleep(1)\n",
    "        review_num = int(re.sub(\"[^0-9]\",\"\",menu))\n",
    "        break\n",
    "review_lst = []\n",
    "point_lst = []\n",
    "for page in range(review_num//len(review_area)):\n",
    "    html = driver.page_source\n",
    "    soup = BeautifulSoup(html, \"html.parser\")\n",
    "    \n",
    "    review_area = soup.find('div',class_='review_list').find_all('p',class_='post')\n",
    "    point_area = soup.find_all('div',class_='area_star star')\n",
    "    \n",
    "    for i in range(len(point_area)):\n",
    "        review = re.sub(\"[^가-힣 ]\",\"\",review_area[i].text)\n",
    "        point = float(re.sub(\"[^0-9.]\",\"\",point_area[i].find('strong').text))\n",
    "        \n",
    "        review_lst.append(review)\n",
    "        point_lst.append(point)\n",
    "    \n",
    "    try:\n",
    "        driver.find_element_by_css_selector('#_contents > div.content_main.items > div.dinfo_itemdetail > div.detail_left > div.prd_detail > div.tab_conts.tab_review > div > div:nth-child(3) > div.review_wrap > div.paging_comm > a.ico.btn_next').click()\n",
    "        time.sleep(1)\n",
    "    except:\n",
    "        pass\n",
    "df = pd.DataFrame({\"평점\":point_lst,\"본문\":review_lst})\n",
    "df.to_csv(\"c:/py_data/위메프 상품 리뷰.csv\",encoding=\"cp949\")\n",
    "print(len(point_lst),'개의 게시물을 크롤링 하였습니다.')\n",
    "driver.close()    "
   ]
  }
 ],
 "metadata": {
  "kernelspec": {
   "display_name": "Python 3",
   "language": "python",
   "name": "python3"
  },
  "language_info": {
   "codemirror_mode": {
    "name": "ipython",
    "version": 3
   },
   "file_extension": ".py",
   "mimetype": "text/x-python",
   "name": "python",
   "nbconvert_exporter": "python",
   "pygments_lexer": "ipython3",
   "version": "3.8.5"
  }
 },
 "nbformat": 4,
 "nbformat_minor": 4
}
