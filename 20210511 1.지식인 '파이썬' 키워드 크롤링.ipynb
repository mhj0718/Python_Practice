{
 "cells": [
  {
   "cell_type": "code",
   "execution_count": 1,
   "metadata": {},
   "outputs": [],
   "source": [
    "import requests\n",
    "from bs4 import BeautifulSoup\n",
    "import pandas as pd\n",
    "import time\n",
    "import re"
   ]
  },
  {
   "cell_type": "code",
   "execution_count": 6,
   "metadata": {},
   "outputs": [],
   "source": [
    "client_id = 'UWHF47Ojv3VPR1mQx_xa'\n",
    "client_secret = 'kvL2c2dFMA'"
   ]
  },
  {
   "cell_type": "code",
   "execution_count": 9,
   "metadata": {},
   "outputs": [
    {
     "name": "stdout",
     "output_type": "stream",
     "text": [
      "검색어 입력: 파이썬\n",
      "https://openapi.naver.com/v1/search/kin.json?query=파이썬\n"
     ]
    }
   ],
   "source": [
    "keyword = input('검색어 입력: ' )\n",
    "url = 'https://openapi.naver.com/v1/search/kin.json?query='+keyword\n",
    "print(url)    "
   ]
  },
  {
   "cell_type": "code",
   "execution_count": 10,
   "metadata": {},
   "outputs": [],
   "source": [
    "# client_ID, client secret >> 요청 headers로 전송\n",
    "headers = {'X-Naver-Client-Id':client_id,\n",
    "           'X-Naver-Client-Secret':client_secret}"
   ]
  },
  {
   "cell_type": "code",
   "execution_count": 11,
   "metadata": {},
   "outputs": [
    {
     "data": {
      "text/plain": [
       "<Response [200]>"
      ]
     },
     "execution_count": 11,
     "metadata": {},
     "output_type": "execute_result"
    }
   ],
   "source": [
    "response_data = requests.get(url,headers=headers)\n",
    "response_data"
   ]
  },
  {
   "cell_type": "code",
   "execution_count": 12,
   "metadata": {},
   "outputs": [
    {
     "data": {
      "text/plain": [
       "{'lastBuildDate': 'Thu, 13 May 2021 17:40:52 +0900',\n",
       " 'total': 180473,\n",
       " 'start': 1,\n",
       " 'display': 10,\n",
       " 'items': [{'title': '<b>파이썬</b>질문입니다',\n",
       "   'link': 'https://kin.naver.com/qna/detail.nhn?d1id=1&dirId=104&docId=388898492&qb=7YyM7J207I2s&enc=utf8&section=kin.qna&rank=1&search_sort=0&spq=0',\n",
       "   'description': '... 이용해서 <b>파이썬</b>으로 바꾸어주실수 있나요? def를 썼더라도 이렇게 쓰면 <b>파이썬</b> 코드는... &quot;) 근데 실제로는 처음 주신 소스의 <b>파이썬</b> 버전은 이렇습니다. def find_str(s:str, f:str): if f in s... '},\n",
       "  {'title': '<b>파이썬</b> 코딩 질문',\n",
       "   'link': 'https://kin.naver.com/qna/detail.nhn?d1id=1&dirId=10402&docId=388995898&qb=7YyM7J207I2s&enc=utf8&section=kin.qna&rank=2&search_sort=0&spq=0',\n",
       "   'description': '<b>파이썬</b> 무료강의 영상을 보고 코딩을 하려고 하는데요 하다가 끊고 다른날 다시 하려면 저장하고 이어서... <b>파이썬</b> 코딩을 할 때 어떤 프로그램을 사용하시나요? cmd 창에서 python 명령으로 들어가서 1줄씩 인터랙티브하게... '},\n",
       "  {'title': '<b>파이썬</b> 뭐죠',\n",
       "   'link': 'https://kin.naver.com/qna/detail.nhn?d1id=11&dirId=11080301&docId=389251828&qb=7YyM7J207I2s&enc=utf8&section=kin.qna&rank=3&search_sort=0&spq=0',\n",
       "   'description': '<b>파이썬</b> 뭐죠 프로그래밍에 사용되는 언어입니다. C언어 java 이런거 들어보셨을까요~? 같은 종류의... ※ 질문주신 내용 이외에도, <b>파이썬</b> 코딩과 관련하여 궁금한 것들이 있다면, 아래 제 블로그에 방문해... '},\n",
       "  {'title': '<b>파이썬</b>인강으로 공부 해보려고해요',\n",
       "   'link': 'https://kin.naver.com/qna/detail.nhn?d1id=1&dirId=10402&docId=384703544&qb=7YyM7J207I2s&enc=utf8&section=kin.qna&rank=4&search_sort=0&spq=0',\n",
       "   'description': '... 해보려고하는데요 <b>파이썬</b>이 쉽고 중요해서 <b>파이썬</b>한번 공부해보려고해요 학원을다니기에는 시간이 안나서 <b>파이썬</b>... 추천부탁드립니다 <b>파이썬</b>인강을 찾고계신모양이네요 사실 아예 기초도 없으신 상태면은 <b>파이썬</b>같은 그나마 쉬운... '},\n",
       "  {'title': '<b>파이썬</b>의 한계',\n",
       "   'link': 'https://kin.naver.com/qna/detail.nhn?d1id=1&dirId=10402&docId=384471325&qb=7YyM7J207I2s&enc=utf8&section=kin.qna&rank=5&search_sort=0&spq=0',\n",
       "   'description': '<b>파이썬</b>이라는 프로그래밍 언어의 한계점은 무엇일까요? <b>파이썬</b>은 범용이죠. 따라서 통계는 R만 못하고 급여관리 같은 경상업무는 DBMS 전용 언어만 못하고 게임이나 턱시도 같은 바탕이나 엔진 개발은 C만 못하고 : 쉽게 이야기하면... '},\n",
       "  {'title': '<b>파이썬</b> 온라인강의 퀄리티 좋은 곳 알',\n",
       "   'link': 'https://kin.naver.com/qna/detail.nhn?d1id=4&dirId=40608&docId=385490949&qb=7YyM7J207I2s&enc=utf8&section=kin.qna&rank=6&search_sort=0&spq=0',\n",
       "   'description': '<b>파이썬</b> 온라인강의 퀄리티 좋은 곳 알려주세요!! 안녕하세요 퀄리티 좋은 <b>파이썬</b> 온라인 강의 알아보시는 것 같아요. 저는 KG에듀원 <b>파이썬</b> 온라인 강의 추천드릴게요. 저렴한... 맞는 <b>파이썬</b> 온라인 강의를 선택하실 수 있으며 모르는... '},\n",
       "  {'title': '<b>파이썬</b> 기초 질문',\n",
       "   'link': 'https://kin.naver.com/qna/detail.nhn?d1id=1&dirId=10402&docId=387521299&qb=7YyM7J207I2s&enc=utf8&section=kin.qna&rank=7&search_sort=0&spq=0',\n",
       "   'description': '... 제가 <b>파이썬</b> 공부를 하다가 이해가 안돼서 질문드립니다. a=&quot;&quot;&quot;<b>파이썬</b> 만세&quot;&quot;&quot; print(a) 를하면 결과가 <b>파이썬</b> 만세... 또, 큰 따옴표가 &quot;&quot;&quot; 이렇게 3 개가 있어야 오류가 안뜨는데 그 이유도 궁금합니다 a= &quot;<b>파이썬</b> 만세&quot; print(a) 라고... '},\n",
       "  {'title': '<b>파이썬</b>배우기 어떤지 궁금해요',\n",
       "   'link': 'https://kin.naver.com/qna/detail.nhn?d1id=1&dirId=111&docId=388208771&qb=7YyM7J207I2s&enc=utf8&section=kin.qna&rank=8&search_sort=0&spq=0',\n",
       "   'description': '... 같아서 <b>파이썬</b>배우기 시작하려구요~ 저처럼 <b>파이썬</b>배우기 막 시작하는... 좋을까요~~  <b>파이썬</b>배우기 어떤지 궁금해요 블록형 코딩부터 배우는게... 같아서 <b>파이썬</b>배우기 시작하려구요~ 저처럼 <b>파이썬</b>배우기 막 시작하는 사람들은 어떤... '},\n",
       "  {'title': '<b>파이썬</b>으로 어떻게 하나요?',\n",
       "   'link': 'https://kin.naver.com/qna/detail.nhn?d1id=1&dirId=10402&docId=385091028&qb=7YyM7J207I2s&enc=utf8&section=kin.qna&rank=9&search_sort=0&spq=0',\n",
       "   'description': 'if 조건문으로 하는거 같은데 생각처럼 안되네요 <b>파이썬</b>으로 어떻게 하나요? <b>파이썬</b>에서 &amp;는 |는 2진수 계산에서는 비트 연산자로 사용되는 것이기 때문에 위의 그대로 사용하셔됩니다만 질문으로 보아서는 이를 논리연산자로... '},\n",
       "  {'title': '<b>파이썬</b> 기초 질문입니다.',\n",
       "   'link': 'https://kin.naver.com/qna/detail.nhn?d1id=1&dirId=10402&docId=386092736&qb=7YyM7J207I2s&enc=utf8&section=kin.qna&rank=10&search_sort=0&spq=0',\n",
       "   'description': '<b>파이썬</b> 기초문제가 있는데 문제자체가 이해가 안되서... print(&quot;<b>파이썬</b> 기초&quot;, &quot;코딩 수업&quot;) print(123, 123) 이렇게 했더니 틀렸다그러고 print(&quot;<b>파이썬</b> 기초&quot;) print(123)... ㅠㅠ print(&quot;<b>파이썬</b> 기초&quot;+&quot;코딩 수업&quot;) print(123+123)... '}]}"
      ]
     },
     "execution_count": 12,
     "metadata": {},
     "output_type": "execute_result"
    }
   ],
   "source": [
    "response_data.json()"
   ]
  },
  {
   "cell_type": "code",
   "execution_count": 13,
   "metadata": {},
   "outputs": [
    {
     "name": "stdout",
     "output_type": "stream",
     "text": [
      "https://openapi.naver.com/v1/search/kin.json?query=파이썬&start=1&display=100\n"
     ]
    }
   ],
   "source": [
    "base_url = 'https://openapi.naver.com/v1/search/kin.json?query='\n",
    "start_url = '&start='\n",
    "dis_url = '&display='\n",
    "url = base_url + keyword + start_url + '1' + dis_url + '100'\n",
    "print(url)"
   ]
  },
  {
   "cell_type": "code",
   "execution_count": 14,
   "metadata": {},
   "outputs": [
    {
     "data": {
      "text/plain": [
       "[{'title': '<b>파이썬</b>질문입니다',\n",
       "  'link': 'https://kin.naver.com/qna/detail.nhn?d1id=1&dirId=104&docId=388898492&qb=7YyM7J207I2s&enc=utf8&section=kin.qna&rank=1&search_sort=0&spq=0',\n",
       "  'description': '... 이용해서 <b>파이썬</b>으로 바꾸어주실수 있나요? def를 썼더라도 이렇게 쓰면 <b>파이썬</b> 코드는... &quot;) 근데 실제로는 처음 주신 소스의 <b>파이썬</b> 버전은 이렇습니다. def find_str(s:str, f:str): if f in s... '},\n",
       " {'title': '<b>파이썬</b> 코딩 질문',\n",
       "  'link': 'https://kin.naver.com/qna/detail.nhn?d1id=1&dirId=10402&docId=388995898&qb=7YyM7J207I2s&enc=utf8&section=kin.qna&rank=2&search_sort=0&spq=0',\n",
       "  'description': '<b>파이썬</b> 무료강의 영상을 보고 코딩을 하려고 하는데요 하다가 끊고 다른날 다시 하려면 저장하고 이어서... <b>파이썬</b> 코딩을 할 때 어떤 프로그램을 사용하시나요? cmd 창에서 python 명령으로 들어가서 1줄씩 인터랙티브하게... '},\n",
       " {'title': '<b>파이썬</b> 뭐죠',\n",
       "  'link': 'https://kin.naver.com/qna/detail.nhn?d1id=11&dirId=11080301&docId=389251828&qb=7YyM7J207I2s&enc=utf8&section=kin.qna&rank=3&search_sort=0&spq=0',\n",
       "  'description': '<b>파이썬</b> 뭐죠 프로그래밍에 사용되는 언어입니다. C언어 java 이런거 들어보셨을까요~? 같은 종류의... ※ 질문주신 내용 이외에도, <b>파이썬</b> 코딩과 관련하여 궁금한 것들이 있다면, 아래 제 블로그에 방문해... '},\n",
       " {'title': '<b>파이썬</b>인강으로 공부 해보려고해요',\n",
       "  'link': 'https://kin.naver.com/qna/detail.nhn?d1id=1&dirId=10402&docId=384703544&qb=7YyM7J207I2s&enc=utf8&section=kin.qna&rank=4&search_sort=0&spq=0',\n",
       "  'description': '... 해보려고하는데요 <b>파이썬</b>이 쉽고 중요해서 <b>파이썬</b>한번 공부해보려고해요 학원을다니기에는 시간이 안나서 <b>파이썬</b>... 추천부탁드립니다 <b>파이썬</b>인강을 찾고계신모양이네요 사실 아예 기초도 없으신 상태면은 <b>파이썬</b>같은 그나마 쉬운... '},\n",
       " {'title': '<b>파이썬</b>의 한계',\n",
       "  'link': 'https://kin.naver.com/qna/detail.nhn?d1id=1&dirId=10402&docId=384471325&qb=7YyM7J207I2s&enc=utf8&section=kin.qna&rank=5&search_sort=0&spq=0',\n",
       "  'description': '<b>파이썬</b>이라는 프로그래밍 언어의 한계점은 무엇일까요? <b>파이썬</b>은 범용이죠. 따라서 통계는 R만 못하고 급여관리 같은 경상업무는 DBMS 전용 언어만 못하고 게임이나 턱시도 같은 바탕이나 엔진 개발은 C만 못하고 : 쉽게 이야기하면... '},\n",
       " {'title': '<b>파이썬</b> 온라인강의 퀄리티 좋은 곳 알',\n",
       "  'link': 'https://kin.naver.com/qna/detail.nhn?d1id=4&dirId=40608&docId=385490949&qb=7YyM7J207I2s&enc=utf8&section=kin.qna&rank=6&search_sort=0&spq=0',\n",
       "  'description': '<b>파이썬</b> 온라인강의 퀄리티 좋은 곳 알려주세요!! 안녕하세요 퀄리티 좋은 <b>파이썬</b> 온라인 강의 알아보시는 것 같아요. 저는 KG에듀원 <b>파이썬</b> 온라인 강의 추천드릴게요. 저렴한... 맞는 <b>파이썬</b> 온라인 강의를 선택하실 수 있으며 모르는... '},\n",
       " {'title': '<b>파이썬</b> 기초 질문',\n",
       "  'link': 'https://kin.naver.com/qna/detail.nhn?d1id=1&dirId=10402&docId=387521299&qb=7YyM7J207I2s&enc=utf8&section=kin.qna&rank=7&search_sort=0&spq=0',\n",
       "  'description': '... 제가 <b>파이썬</b> 공부를 하다가 이해가 안돼서 질문드립니다. a=&quot;&quot;&quot;<b>파이썬</b> 만세&quot;&quot;&quot; print(a) 를하면 결과가 <b>파이썬</b> 만세... 또, 큰 따옴표가 &quot;&quot;&quot; 이렇게 3 개가 있어야 오류가 안뜨는데 그 이유도 궁금합니다 a= &quot;<b>파이썬</b> 만세&quot; print(a) 라고... '},\n",
       " {'title': '<b>파이썬</b>배우기 어떤지 궁금해요',\n",
       "  'link': 'https://kin.naver.com/qna/detail.nhn?d1id=1&dirId=111&docId=388208771&qb=7YyM7J207I2s&enc=utf8&section=kin.qna&rank=8&search_sort=0&spq=0',\n",
       "  'description': '... 같아서 <b>파이썬</b>배우기 시작하려구요~ 저처럼 <b>파이썬</b>배우기 막 시작하는... 좋을까요~~  <b>파이썬</b>배우기 어떤지 궁금해요 블록형 코딩부터 배우는게... 같아서 <b>파이썬</b>배우기 시작하려구요~ 저처럼 <b>파이썬</b>배우기 막 시작하는 사람들은 어떤... '},\n",
       " {'title': '<b>파이썬</b>으로 어떻게 하나요?',\n",
       "  'link': 'https://kin.naver.com/qna/detail.nhn?d1id=1&dirId=10402&docId=385091028&qb=7YyM7J207I2s&enc=utf8&section=kin.qna&rank=9&search_sort=0&spq=0',\n",
       "  'description': 'if 조건문으로 하는거 같은데 생각처럼 안되네요 <b>파이썬</b>으로 어떻게 하나요? <b>파이썬</b>에서 &amp;는 |는 2진수 계산에서는 비트 연산자로 사용되는 것이기 때문에 위의 그대로 사용하셔됩니다만 질문으로 보아서는 이를 논리연산자로... '},\n",
       " {'title': '<b>파이썬</b> 기초 질문입니다.',\n",
       "  'link': 'https://kin.naver.com/qna/detail.nhn?d1id=1&dirId=10402&docId=386092736&qb=7YyM7J207I2s&enc=utf8&section=kin.qna&rank=10&search_sort=0&spq=0',\n",
       "  'description': '<b>파이썬</b> 기초문제가 있는데 문제자체가 이해가 안되서... print(&quot;<b>파이썬</b> 기초&quot;, &quot;코딩 수업&quot;) print(123, 123) 이렇게 했더니 틀렸다그러고 print(&quot;<b>파이썬</b> 기초&quot;) print(123)... ㅠㅠ print(&quot;<b>파이썬</b> 기초&quot;+&quot;코딩 수업&quot;) print(123+123)... '}]"
      ]
     },
     "execution_count": 14,
     "metadata": {},
     "output_type": "execute_result"
    }
   ],
   "source": [
    "response_data.json()['items']"
   ]
  },
  {
   "cell_type": "code",
   "execution_count": 19,
   "metadata": {},
   "outputs": [
    {
     "name": "stdout",
     "output_type": "stream",
     "text": [
      "검색어 입력: 파이썬\n"
     ]
    }
   ],
   "source": [
    "import requests\n",
    "from bs4 import BeautifulSoup\n",
    "import pandas as pd\n",
    "import time\n",
    "import re\n",
    "\n",
    "# 네이버 개발자 센터 검색 API 신청 후 ID와 SECRET 발급\n",
    "# https://tonhnegod.tistory.com/165 참고\n",
    "\n",
    "client_id = 'UWHF47Ojv3VPR1mQx_xa'\n",
    "client_secret = 'kvL2c2dFMA'\n",
    "keyword = input('검색어 입력: ')\n",
    "\n",
    "base_url = 'https://openapi.naver.com/v1/search/kin.json?query='\n",
    "start_url = '&start='\n",
    "dis_url = '&display='\n",
    "\n",
    "headers = {'X-Naver-Client-Id':client_id,\n",
    "           'X-Naver-Client-Secret':client_secret}\n",
    "\n",
    "df = pd.DataFrame({'title':[],'link':[],\n",
    "                  'description':[]})\n",
    "\n",
    "for page_num in range(1,51):\n",
    "    url = base_url + keyword + start_url + str(page_num) + dis_url + '100'\n",
    "    \n",
    "    response_data = requests.get(url,headers=headers)\n",
    "    time.sleep(0.1)\n",
    "    if response_data.status_code == 200:\n",
    "        temp_data = response_data.json()\n",
    "        temp_df = pd.DataFrame(temp_data['items'])\n",
    "        df = pd.concat([df,temp_df])\n",
    "    else:\n",
    "        print(url)\n",
    "        print(response_data, '응답 받지 못함')\n",
    "        \n",
    "df.to_csv('c:/py_data/네이버 openAPI지식인'+keyword+'저장.csv')"
   ]
  },
  {
   "cell_type": "code",
   "execution_count": 20,
   "metadata": {},
   "outputs": [
    {
     "name": "stdout",
     "output_type": "stream",
     "text": [
      "<class 'pandas.core.frame.DataFrame'>\n",
      "Int64Index: 5000 entries, 0 to 99\n",
      "Data columns (total 3 columns):\n",
      " #   Column       Non-Null Count  Dtype \n",
      "---  ------       --------------  ----- \n",
      " 0   title        5000 non-null   object\n",
      " 1   link         5000 non-null   object\n",
      " 2   description  5000 non-null   object\n",
      "dtypes: object(3)\n",
      "memory usage: 156.2+ KB\n"
     ]
    }
   ],
   "source": [
    "df.info()"
   ]
  },
  {
   "cell_type": "code",
   "execution_count": null,
   "metadata": {},
   "outputs": [],
   "source": []
  }
 ],
 "metadata": {
  "kernelspec": {
   "display_name": "Python 3",
   "language": "python",
   "name": "python3"
  },
  "language_info": {
   "codemirror_mode": {
    "name": "ipython",
    "version": 3
   },
   "file_extension": ".py",
   "mimetype": "text/x-python",
   "name": "python",
   "nbconvert_exporter": "python",
   "pygments_lexer": "ipython3",
   "version": "3.8.5"
  }
 },
 "nbformat": 4,
 "nbformat_minor": 4
}
