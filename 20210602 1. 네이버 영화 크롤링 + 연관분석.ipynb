{
 "cells": [
  {
   "cell_type": "markdown",
   "metadata": {},
   "source": [
    "## 데이터 모으기\n",
    "### Selenium"
   ]
  },
  {
   "cell_type": "code",
   "execution_count": 33,
   "metadata": {},
   "outputs": [],
   "source": [
    "# import 해줄 것들\n",
    "import pandas as pd\n",
    "from bs4 import BeautifulSoup\n",
    "import re\n",
    "import time\n",
    "from selenium import webdriver\n",
    "import sys\n",
    "from tqdm.notebook import tqdm\n",
    "from selenium.webdriver.common.keys import Keys"
   ]
  },
  {
   "cell_type": "code",
   "execution_count": 53,
   "metadata": {},
   "outputs": [
    {
     "name": "stdout",
     "output_type": "stream",
     "text": [
      "네이버 스마트 스토어 URL 입력:https://movie.naver.com/movie/point/af/list.nhn?st=mcode&sword=200052&target=after\n"
     ]
    }
   ],
   "source": [
    "# 사이트 접속\n",
    "url = input('네이버 스마트 스토어 URL 입력:')\n",
    "driver = webdriver.Chrome('c:/py_data/chromedriver.exe')\n",
    "driver.get(url)\n",
    "time.sleep(2)\n",
    "\n",
    "html = driver.page_source\n",
    "soup = BeautifulSoup(html, 'html.parser')\n",
    "review_area = soup.find('table',class_='list_netizen').find_all('tr')\n",
    "review_num = int(soup.find('strong', class_='c_88 fs_11').text)"
   ]
  },
  {
   "cell_type": "code",
   "execution_count": 54,
   "metadata": {},
   "outputs": [
    {
     "data": {
      "application/vnd.jupyter.widget-view+json": {
       "model_id": "88c5db7739e948dc9da50ae0646acbc6",
       "version_major": 2,
       "version_minor": 0
      },
      "text/plain": [
       "HBox(children=(HTML(value=''), FloatProgress(value=0.0, max=21.0), HTML(value='')))"
      ]
     },
     "metadata": {},
     "output_type": "display_data"
    },
    {
     "name": "stdout",
     "output_type": "stream",
     "text": [
      "\n"
     ]
    }
   ],
   "source": [
    "review_lst = []\n",
    "point_lst = []\n",
    "id_lst = []\n",
    "\n",
    "for page in tqdm(range(review_num//(len(review_area)-1)+1)):\n",
    "    html = driver.page_source\n",
    "    soup = BeautifulSoup(html, 'html.parser')\n",
    "    review_area1 = soup.find('table',class_='list_netizen').find_all('tr') # =11\n",
    "    \n",
    "    for i in review_area1[1:]:\n",
    "        review = re.sub(\"[^가-힣 ]\",\"\",i.text).replace('도라에몽 스탠바이미 별점  총 점 중','',).replace('신고','')\n",
    "        point = int(i.find('em').text)\n",
    "        id = i.find('td').text\n",
    "        \n",
    "        review_lst.append(review)\n",
    "        point_lst.append(point)\n",
    "        id_lst.append(id)\n",
    "        \n",
    "    try:\n",
    "        driver.find_element_by_css_selector('#old_content > div.paging > div > a.pg_next').click()\n",
    "        time.sleep(1)\n",
    "    except:\n",
    "        pass\n",
    "    \n",
    "        "
   ]
  },
  {
   "cell_type": "code",
   "execution_count": 55,
   "metadata": {},
   "outputs": [
    {
     "data": {
      "text/html": [
       "<div>\n",
       "<style scoped>\n",
       "    .dataframe tbody tr th:only-of-type {\n",
       "        vertical-align: middle;\n",
       "    }\n",
       "\n",
       "    .dataframe tbody tr th {\n",
       "        vertical-align: top;\n",
       "    }\n",
       "\n",
       "    .dataframe thead th {\n",
       "        text-align: right;\n",
       "    }\n",
       "</style>\n",
       "<table border=\"1\" class=\"dataframe\">\n",
       "  <thead>\n",
       "    <tr style=\"text-align: right;\">\n",
       "      <th></th>\n",
       "      <th>ID</th>\n",
       "      <th>평점</th>\n",
       "      <th>리뷰</th>\n",
       "    </tr>\n",
       "  </thead>\n",
       "  <tbody>\n",
       "    <tr>\n",
       "      <th>0</th>\n",
       "      <td>17536955</td>\n",
       "      <td>5</td>\n",
       "      <td>어린이용 테넷인줄 생각보다 스토리가 던져둔 떡밥회수를 잘합니다 근데 감동 포인트가 ...</td>\n",
       "    </tr>\n",
       "    <tr>\n",
       "      <th>1</th>\n",
       "      <td>17536336</td>\n",
       "      <td>10</td>\n",
       "      <td>진구의 현재와 과거의 접점을 정확하게 이어주면서 재미를 주고 할머니를 등장시킨것도 ...</td>\n",
       "    </tr>\n",
       "    <tr>\n",
       "      <th>2</th>\n",
       "      <td>17535872</td>\n",
       "      <td>10</td>\n",
       "      <td>내가 어릴 적 좋아했던 도라에몽어른이 되어서도 감동있고 재밌네요</td>\n",
       "    </tr>\n",
       "    <tr>\n",
       "      <th>3</th>\n",
       "      <td>17535146</td>\n",
       "      <td>7</td>\n",
       "      <td>성장은 언제나 아픈 법</td>\n",
       "    </tr>\n",
       "    <tr>\n",
       "      <th>4</th>\n",
       "      <td>17534975</td>\n",
       "      <td>10</td>\n",
       "      <td>너무너무 재밌고 감동이네요 저도 어린시절에 뛰어놀던 그시절로 돌아 가보고싶어요 엄마...</td>\n",
       "    </tr>\n",
       "    <tr>\n",
       "      <th>...</th>\n",
       "      <td>...</td>\n",
       "      <td>...</td>\n",
       "      <td>...</td>\n",
       "    </tr>\n",
       "    <tr>\n",
       "      <th>203</th>\n",
       "      <td>17517631</td>\n",
       "      <td>10</td>\n",
       "      <td>사랑합니다 노진구 보고 싶어요</td>\n",
       "    </tr>\n",
       "    <tr>\n",
       "      <th>204</th>\n",
       "      <td>17517594</td>\n",
       "      <td>10</td>\n",
       "      <td>개인적으로 가장 좋아하는 캐릭터 한국개봉 첫날 첫회 상영 보았습니다  스토리 영상미...</td>\n",
       "    </tr>\n",
       "    <tr>\n",
       "      <th>205</th>\n",
       "      <td>17517523</td>\n",
       "      <td>10</td>\n",
       "      <td>인생작 그래픽좋고 스토리좋아요</td>\n",
       "    </tr>\n",
       "    <tr>\n",
       "      <th>206</th>\n",
       "      <td>17517505</td>\n",
       "      <td>10</td>\n",
       "      <td>개봉하기전에 감상평작성합니다 재미써요</td>\n",
       "    </tr>\n",
       "    <tr>\n",
       "      <th>207</th>\n",
       "      <td>17517501</td>\n",
       "      <td>10</td>\n",
       "      <td>재미있었다 꼭보세요 강추</td>\n",
       "    </tr>\n",
       "  </tbody>\n",
       "</table>\n",
       "<p>208 rows × 3 columns</p>\n",
       "</div>"
      ],
      "text/plain": [
       "           ID  평점                                                 리뷰\n",
       "0    17536955   5  어린이용 테넷인줄 생각보다 스토리가 던져둔 떡밥회수를 잘합니다 근데 감동 포인트가 ...\n",
       "1    17536336  10  진구의 현재와 과거의 접점을 정확하게 이어주면서 재미를 주고 할머니를 등장시킨것도 ...\n",
       "2    17535872  10               내가 어릴 적 좋아했던 도라에몽어른이 되어서도 감동있고 재밌네요 \n",
       "3    17535146   7                                      성장은 언제나 아픈 법 \n",
       "4    17534975  10  너무너무 재밌고 감동이네요 저도 어린시절에 뛰어놀던 그시절로 돌아 가보고싶어요 엄마...\n",
       "..        ...  ..                                                ...\n",
       "203  17517631  10                                  사랑합니다 노진구 보고 싶어요 \n",
       "204  17517594  10  개인적으로 가장 좋아하는 캐릭터 한국개봉 첫날 첫회 상영 보았습니다  스토리 영상미...\n",
       "205  17517523  10                                  인생작 그래픽좋고 스토리좋아요 \n",
       "206  17517505  10                              개봉하기전에 감상평작성합니다 재미써요 \n",
       "207  17517501  10                                     재미있었다 꼭보세요 강추 \n",
       "\n",
       "[208 rows x 3 columns]"
      ]
     },
     "execution_count": 55,
     "metadata": {},
     "output_type": "execute_result"
    }
   ],
   "source": [
    "df = pd.DataFrame({'ID':id_lst,'평점':point_lst,'리뷰':review_lst})\n",
    "df"
   ]
  },
  {
   "cell_type": "code",
   "execution_count": 56,
   "metadata": {},
   "outputs": [],
   "source": [
    "df.to_csv('c:/py_data/도라에몽 영화 평점,리뷰 크롤링.csv', encoding='cp949')"
   ]
  },
  {
   "cell_type": "markdown",
   "metadata": {},
   "source": [
    "### request"
   ]
  },
  {
   "cell_type": "code",
   "execution_count": 58,
   "metadata": {},
   "outputs": [
    {
     "name": "stdout",
     "output_type": "stream",
     "text": [
      "영화 url 입력:https://movie.naver.com/movie/point/af/list.nhn?st=mcode&sword=201863&target=after\n"
     ]
    }
   ],
   "source": [
    "import requests\n",
    "from bs4 import BeautifulSoup  \n",
    "import pandas as pd\n",
    "import re\n",
    "url = input('영화 url 입력:')\n",
    "page_url = '&page='\n",
    "\n",
    "html = requests.get(url + page_url + '1')\n",
    "soup = BeautifulSoup(html.text,'html.parser')\n",
    "title = re.sub('[^가-힣a-zA-Z ]','',soup.find('h5').text)\n",
    "tbody_area = soup.find('tbody')\n",
    "id_tag = tbody_area.find_all('td',class_='ac num')\n",
    "max_range = int(soup.find('strong',class_='c_88 fs_11').text.replace(',',''))\n",
    "# 121 -> 12\n",
    "id_lst=[]\n",
    "point_lst=[]\n",
    "review_lst=[]\n",
    "for page in range(1,(max_range//len(id_tag))+2):\n",
    "    html = requests.get(url + page_url + str(page))\n",
    "    soup = BeautifulSoup(html.text,'html.parser')\n",
    "    title = re.sub('[^가-힣a-zA-Z ]','',soup.find('h5').text)\n",
    "        \n",
    "    tbody_area = soup.find('tbody')\n",
    "    \n",
    "    id_tag = tbody_area.find_all('td',class_='ac num')\n",
    "    point_tag = tbody_area.find_all('em')\n",
    "    review_tag = tbody_area.find_all('td',class_='title')\n",
    "    \n",
    "    for i in range(len(id_tag)):\n",
    "        id_ = id_tag[i].text\n",
    "        point = int(point_tag[i].text)\n",
    "        review = re.sub('[^가-힣a-zA-Z ]','',review_tag[i].text.split('\\n\\n')[2].replace('신고',''))\n",
    "        \n",
    "        id_lst.append(id_)\n",
    "        point_lst.append(point)\n",
    "        review_lst.append(review)\n",
    "df = pd.DataFrame({'id':id_lst,'point':point_lst,'review':review_lst})\n",
    "df.to_csv('c:/py_data/영화_'+title+'_리뷰.csv',encoding='cp949')"
   ]
  },
  {
   "cell_type": "markdown",
   "metadata": {},
   "source": [
    "## 연관 분석 (장바구니 분석)"
   ]
  },
  {
   "cell_type": "markdown",
   "metadata": {},
   "source": [
    "### support(지지도)\n",
    "\n",
    "전체 거래에서 특정 물품 A와 B가 동시에 거래되는 비중\n",
    "\n",
    "해당 규칙이 얼마나 의미있는지 보여줌.\n",
    "\n",
    " \n",
    "\n",
    "지지도 = P(A∩B)\n",
    "\n",
    ":A와 B가 동시에 일어난 횟수 / 전체 거래 횟수   \n",
    "\n",
    "\n",
    " \n",
    "\n",
    " \n",
    "   \n",
    "      \n",
    "      \n",
    "### confiddence(신뢰도)\n",
    "\n",
    "A를 포함하는 거래 중 A와 B가 동시에 거래되는 비중\n",
    "\n",
    " \n",
    "\n",
    "신뢰도 = P(A∩B) / P(A)\n",
    "\n",
    ":A와 B가 동시에 일어난 횟수 / A가 일어난 횟수   \n",
    "\n",
    "\n",
    " \n",
    "\n",
    "    \n",
    "    \n",
    "\n",
    "### lift(향상도)\n",
    "\n",
    "A라는 상품에서 신뢰도가 동일한 상품 B와 C가 존재할 때, 어떤 상품을 더 추천해야 좋을지 판단.\n",
    "\n",
    "A와 B가 동시에 거래된 비중을 A와 B가 서로 독립된 사건일 때 동시에 거래된 비중으로 나눈 값\n",
    "\n",
    " \n",
    "\n",
    "향상도 = P(A∩B) / P(A)*P(B) = P (B|A) / P (B)\n",
    "\n",
    ": A와 B가 동시에 일어난 횟수 / A, B가 독립된 사건일 때 A,B가 동시에 일어날 확률"
   ]
  },
  {
   "cell_type": "code",
   "execution_count": 60,
   "metadata": {},
   "outputs": [
    {
     "name": "stdout",
     "output_type": "stream",
     "text": [
      "Requirement already satisfied: apyori in c:\\users\\cpb06gamen\\anaconda3\\lib\\site-packages (1.1.2)\n"
     ]
    }
   ],
   "source": [
    "# !pip install apyori"
   ]
  },
  {
   "cell_type": "code",
   "execution_count": 61,
   "metadata": {},
   "outputs": [],
   "source": [
    "dataset = [['아메리카노','카페라떼'],\n",
    "           ['카페라떼','아메리카노','카푸치노'],\n",
    "           ['바닐라라떼','아메리카노'],\n",
    "           ['녹차라떼','카페라떼','아메리카노'],\n",
    "           ['카페모카','아메리카노'],\n",
    "           ['아메리카노','카페라떼'],\n",
    "           ['초콜릿','아메리카노'],\n",
    "           ['아메리카노'],\n",
    "           ['카페모카','카페라떼'],\n",
    "           ['아메리카노','카푸치노']]"
   ]
  },
  {
   "cell_type": "code",
   "execution_count": 62,
   "metadata": {},
   "outputs": [
    {
     "data": {
      "text/plain": [
       "[RelationRecord(items=frozenset({'아메리카노'}), support=0.9, ordered_statistics=[OrderedStatistic(items_base=frozenset(), items_add=frozenset({'아메리카노'}), confidence=0.9, lift=1.0)]),\n",
       " RelationRecord(items=frozenset({'카페라떼'}), support=0.5, ordered_statistics=[OrderedStatistic(items_base=frozenset(), items_add=frozenset({'카페라떼'}), confidence=0.5, lift=1.0)]),\n",
       " RelationRecord(items=frozenset({'카페모카'}), support=0.2, ordered_statistics=[OrderedStatistic(items_base=frozenset(), items_add=frozenset({'카페모카'}), confidence=0.2, lift=1.0)]),\n",
       " RelationRecord(items=frozenset({'카푸치노'}), support=0.2, ordered_statistics=[OrderedStatistic(items_base=frozenset(), items_add=frozenset({'카푸치노'}), confidence=0.2, lift=1.0)]),\n",
       " RelationRecord(items=frozenset({'카페라떼', '아메리카노'}), support=0.4, ordered_statistics=[OrderedStatistic(items_base=frozenset(), items_add=frozenset({'카페라떼', '아메리카노'}), confidence=0.4, lift=1.0)]),\n",
       " RelationRecord(items=frozenset({'카푸치노', '아메리카노'}), support=0.2, ordered_statistics=[OrderedStatistic(items_base=frozenset(), items_add=frozenset({'카푸치노', '아메리카노'}), confidence=0.2, lift=1.0), OrderedStatistic(items_base=frozenset({'아메리카노'}), items_add=frozenset({'카푸치노'}), confidence=0.22222222222222224, lift=1.1111111111111112), OrderedStatistic(items_base=frozenset({'카푸치노'}), items_add=frozenset({'아메리카노'}), confidence=1.0, lift=1.1111111111111112)])]"
      ]
     },
     "execution_count": 62,
     "metadata": {},
     "output_type": "execute_result"
    }
   ],
   "source": [
    "from apyori import apriori\n",
    "results = list(apriori(dataset,\n",
    "             min_support=0.2,    # 지지도\n",
    "             min_confidence=0.1, # 신뢰도\n",
    "             min_lift=1.0,       # 향상도\n",
    "             max_length=2))      # 크기가 2인 규칙\n",
    "results"
   ]
  },
  {
   "cell_type": "code",
   "execution_count": 65,
   "metadata": {},
   "outputs": [
    {
     "data": {
      "text/plain": [
       "RelationRecord(items=frozenset({'카페라떼', '아메리카노'}), support=0.4, ordered_statistics=[OrderedStatistic(items_base=frozenset(), items_add=frozenset({'카페라떼', '아메리카노'}), confidence=0.4, lift=1.0)])"
      ]
     },
     "execution_count": 65,
     "metadata": {},
     "output_type": "execute_result"
    }
   ],
   "source": [
    "results[4]"
   ]
  },
  {
   "cell_type": "code",
   "execution_count": 67,
   "metadata": {},
   "outputs": [
    {
     "data": {
      "text/html": [
       "<div>\n",
       "<style scoped>\n",
       "    .dataframe tbody tr th:only-of-type {\n",
       "        vertical-align: middle;\n",
       "    }\n",
       "\n",
       "    .dataframe tbody tr th {\n",
       "        vertical-align: top;\n",
       "    }\n",
       "\n",
       "    .dataframe thead th {\n",
       "        text-align: right;\n",
       "    }\n",
       "</style>\n",
       "<table border=\"1\" class=\"dataframe\">\n",
       "  <thead>\n",
       "    <tr style=\"text-align: right;\">\n",
       "      <th></th>\n",
       "      <th>source</th>\n",
       "      <th>target</th>\n",
       "      <th>support</th>\n",
       "    </tr>\n",
       "  </thead>\n",
       "  <tbody>\n",
       "    <tr>\n",
       "      <th>0</th>\n",
       "      <td>카페라떼</td>\n",
       "      <td>아메리카노</td>\n",
       "      <td>0.4</td>\n",
       "    </tr>\n",
       "    <tr>\n",
       "      <th>1</th>\n",
       "      <td>카푸치노</td>\n",
       "      <td>아메리카노</td>\n",
       "      <td>0.2</td>\n",
       "    </tr>\n",
       "  </tbody>\n",
       "</table>\n",
       "</div>"
      ],
      "text/plain": [
       "  source target  support\n",
       "0   카페라떼  아메리카노      0.4\n",
       "1   카푸치노  아메리카노      0.2"
      ]
     },
     "execution_count": 67,
     "metadata": {},
     "output_type": "execute_result"
    }
   ],
   "source": [
    "import pandas as pd\n",
    "# 데이터 프레임 형태로 정리합니다.\n",
    "columns = ['source','target','support']\n",
    "network_df = pd.DataFrame(columns=columns)\n",
    "for result in results:\n",
    "    if len(result.items) == 2:\n",
    "        items = [x for x in result.items]   #\n",
    "        row = [items[0],items[1],result.support]\n",
    "        series = pd.Series(row, index=network_df.columns)\n",
    "        network_df = network_df.append(series, ignore_index=True)\n",
    "network_df"
   ]
  },
  {
   "cell_type": "code",
   "execution_count": null,
   "metadata": {},
   "outputs": [],
   "source": [
    "# items = [x for x in result.items]\n",
    "# = \n",
    "# items = []\n",
    "# "
   ]
  },
  {
   "cell_type": "code",
   "execution_count": 68,
   "metadata": {},
   "outputs": [],
   "source": [
    "# 2차원 리스트를 1차원으로 변경\n",
    "one_dataset = []\n",
    "for i in dataset:\n",
    "    one_dataset = one_dataset + i"
   ]
  },
  {
   "cell_type": "code",
   "execution_count": 69,
   "metadata": {},
   "outputs": [
    {
     "data": {
      "text/plain": [
       "['아메리카노',\n",
       " '카페라떼',\n",
       " '카페라떼',\n",
       " '아메리카노',\n",
       " '카푸치노',\n",
       " '바닐라라떼',\n",
       " '아메리카노',\n",
       " '녹차라떼',\n",
       " '카페라떼',\n",
       " '아메리카노',\n",
       " '카페모카',\n",
       " '아메리카노',\n",
       " '아메리카노',\n",
       " '카페라떼',\n",
       " '초콜릿',\n",
       " '아메리카노',\n",
       " '아메리카노',\n",
       " '카페모카',\n",
       " '카페라떼',\n",
       " '아메리카노',\n",
       " '카푸치노']"
      ]
     },
     "execution_count": 69,
     "metadata": {},
     "output_type": "execute_result"
    }
   ],
   "source": [
    "one_dataset"
   ]
  },
  {
   "cell_type": "code",
   "execution_count": 70,
   "metadata": {},
   "outputs": [
    {
     "data": {
      "text/plain": [
       "Counter({'아메리카노': 9,\n",
       "         '카페라떼': 5,\n",
       "         '카푸치노': 2,\n",
       "         '바닐라라떼': 1,\n",
       "         '녹차라떼': 1,\n",
       "         '카페모카': 2,\n",
       "         '초콜릿': 1})"
      ]
     },
     "execution_count": 70,
     "metadata": {},
     "output_type": "execute_result"
    }
   ],
   "source": [
    "from collections import Counter\n",
    "count = Counter(one_dataset)\n",
    "count"
   ]
  },
  {
   "cell_type": "code",
   "execution_count": 71,
   "metadata": {},
   "outputs": [
    {
     "data": {
      "text/html": [
       "<div>\n",
       "<style scoped>\n",
       "    .dataframe tbody tr th:only-of-type {\n",
       "        vertical-align: middle;\n",
       "    }\n",
       "\n",
       "    .dataframe tbody tr th {\n",
       "        vertical-align: top;\n",
       "    }\n",
       "\n",
       "    .dataframe thead th {\n",
       "        text-align: right;\n",
       "    }\n",
       "</style>\n",
       "<table border=\"1\" class=\"dataframe\">\n",
       "  <thead>\n",
       "    <tr style=\"text-align: right;\">\n",
       "      <th></th>\n",
       "      <th>node</th>\n",
       "      <th>nodesize</th>\n",
       "    </tr>\n",
       "  </thead>\n",
       "  <tbody>\n",
       "    <tr>\n",
       "      <th>0</th>\n",
       "      <td>아메리카노</td>\n",
       "      <td>9</td>\n",
       "    </tr>\n",
       "    <tr>\n",
       "      <th>1</th>\n",
       "      <td>카페라떼</td>\n",
       "      <td>5</td>\n",
       "    </tr>\n",
       "    <tr>\n",
       "      <th>2</th>\n",
       "      <td>카푸치노</td>\n",
       "      <td>2</td>\n",
       "    </tr>\n",
       "  </tbody>\n",
       "</table>\n",
       "</div>"
      ],
      "text/plain": [
       "    node  nodesize\n",
       "0  아메리카노         9\n",
       "1   카페라떼         5\n",
       "2   카푸치노         2"
      ]
     },
     "execution_count": 71,
     "metadata": {},
     "output_type": "execute_result"
    }
   ],
   "source": [
    "node_df = pd.DataFrame(count.items(), columns=['node','nodesize'])\n",
    "node_df.head(3)"
   ]
  },
  {
   "cell_type": "code",
   "execution_count": 72,
   "metadata": {},
   "outputs": [
    {
     "data": {
      "text/plain": [
       "'2.5'"
      ]
     },
     "execution_count": 72,
     "metadata": {},
     "output_type": "execute_result"
    }
   ],
   "source": [
    "import networkx as nx\n",
    "\n",
    "nx.__version__"
   ]
  },
  {
   "cell_type": "code",
   "execution_count": 78,
   "metadata": {},
   "outputs": [
    {
     "data": {
      "image/png": "[encoded data removed]",
      "text/plain": [
       "<Figure size 1440x720 with 1 Axes>"
      ]
     },
     "metadata": {},
     "output_type": "display_data"
    }
   ],
   "source": [
    "import networkx as nx\n",
    "import matplotlib.pyplot as plt\n",
    "import matplotlib.font_manager as fm\n",
    "\n",
    "plt.figure(figsize=(20,10)) \n",
    "\n",
    "# networkx 그래프 객체를 생성합니다.\n",
    "G = nx.Graph() \n",
    "\n",
    "# node_df의 키워드 빈도수를 데이터로 하여, 네트워크 그래프의 \n",
    "# ‘노드’ 역할을 하는 원을 생성합니다.\n",
    "\n",
    "for index, row in node_df.iterrows():\n",
    "    G.add_node(row['node'], nodesize=row['nodesize'])    \n",
    "\n",
    "# network_df의 연관 분석 데이터를 기반으로, 네트워크 그래프의 ‘\n",
    "# 관계’ 역할을 하는 선을 생성합니다.\n",
    "for index, row in network_df.iterrows():\n",
    "    G.add_weighted_edges_from([(row['source'], row['target'], row['support'])])\n",
    "    \n",
    "\n",
    "# 그래프 디자인과 관련된 파라미터를 설정합니다.\n",
    "# https://networkx.org/documentation/networkx-1.9/reference/generated/networkx.drawing.layout.spring_layout.html\n",
    "\n",
    "pos = nx.spring_layout(G, k=0.5, iterations=40)\n",
    "sizes = [G.nodes[node]['nodesize']*200 for node in G]\n",
    "nx.draw(G, pos=pos, node_size=sizes,with_labels=False, \n",
    "        edge_color='#FF0000',node_color = '#ebc7f0')\n",
    " \n",
    "\n",
    "# 한글폰트 설정\n",
    "font_path = \"C:/Windows/Fonts/malgun.ttf\"\n",
    "fname = fm.FontProperties(fname=font_path).get_name()\n",
    "nx.draw_networkx_labels(G, pos=pos, font_size=15,font_family=fname) \n",
    "\n",
    "# 그래프를 출력합니다.\n",
    "ax = plt.gca()\n",
    "plt.show()"
   ]
  }
 ],
 "metadata": {
  "kernelspec": {
   "display_name": "Python 3",
   "language": "python",
   "name": "python3"
  },
  "language_info": {
   "codemirror_mode": {
    "name": "ipython",
    "version": 3
   },
   "file_extension": ".py",
   "mimetype": "text/x-python",
   "name": "python",
   "nbconvert_exporter": "python",
   "pygments_lexer": "ipython3",
   "version": "3.8.5"
  }
 },
 "nbformat": 4,
 "nbformat_minor": 4
}
