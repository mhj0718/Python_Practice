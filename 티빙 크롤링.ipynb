{
 "cells": [
  {
   "cell_type": "code",
   "execution_count": 1,
   "metadata": {},
   "outputs": [],
   "source": [
    "# 셀리니움 \n",
    "from bs4 import BeautifulSoup\n",
    "from selenium import webdriver\n",
    "import pandas as pd\n",
    "import time\n",
    "import re\n",
    "from tqdm.notebook import tqdm\n",
    "from datetime import date, timedelta\n",
    "\n",
    "def driver_close():\n",
    "    driver.close()\n",
    "    driver.switch_to.window(driver.window_handles[0])"
   ]
  },
  {
   "cell_type": "code",
   "execution_count": 3,
   "metadata": {},
   "outputs": [
    {
     "name": "stdout",
     "output_type": "stream",
     "text": [
      "검색어 입력:티빙\n"
     ]
    },
    {
     "data": {
      "application/vnd.jupyter.widget-view+json": {
       "model_id": "f57c03e29fa349608a75f06e969869e2",
       "version_major": 2,
       "version_minor": 0
      },
      "text/plain": [
       "HBox(children=(HTML(value=''), FloatProgress(value=0.0, max=200.0), HTML(value='')))"
      ]
     },
     "metadata": {},
     "output_type": "display_data"
    },
    {
     "name": "stderr",
     "output_type": "stream",
     "text": [
      "<ipython-input-3-c32e02f5b038>:23: DeprecationWarning: use driver.switch_to.frame instead\n",
      "  driver.switch_to_frame('mainFrame')\n"
     ]
    },
    {
     "name": "stdout",
     "output_type": "stream",
     "text": [
      "\n"
     ]
    }
   ],
   "source": [
    "driver = webdriver.Chrome('c:/py_data/chromedriver.exe')\n",
    "keyword = input('검색어 입력:')\n",
    "main_url = 'https://section.blog.naver.com/Search/Post.nhn?pageNo='\n",
    "sub_url = '&rangeType=PERIOD&orderBy=sim&startDate=2020-05-18&endDate=2021-05-18&keyword='\n",
    "\n",
    "tit_lst = []\n",
    "cont_lst = []\n",
    "comm_lst = []\n",
    "err_lst = []\n",
    "dt_lst = []\n",
    "\n",
    "\n",
    "for pagenum in tqdm(range(1,201)):\n",
    "    driver.get(main_url + str(pagenum) + sub_url + keyword)\n",
    "    time.sleep(0.5)\n",
    "    html =driver.page_source\n",
    "    soup = BeautifulSoup(html, 'html.parser')\n",
    "    link_len = len(soup.find_all('strong', class_='title_post'))+1\n",
    "    for golink in range(1,link_len):\n",
    "        driver.find_element_by_css_selector('#content > section > div.area_list_search > div:nth-child('+str(golink)+') > div > div.info_post > div.desc > a.desc_inner').click()\n",
    "        time.sleep(0.5)\n",
    "        driver.switch_to.window(driver.window_handles[-1])\n",
    "        driver.switch_to_frame('mainFrame')                             \n",
    "        html = driver.page_source\n",
    "        soup = BeautifulSoup(html, 'html.parser')\n",
    "        try:\n",
    "            title = soup.find('p', class_='se-text-paragraph se-text-paragraph-align-center').text\n",
    "            cont = soup.find('div', class_='se-main-container').text\n",
    "            \n",
    "        except:\n",
    "            err_lst.append(driver.current_url)\n",
    "            driver_close()\n",
    "            continue\n",
    "            \n",
    "        title = re.sub('[^ㄱ-ㅣ가-힣]',' ',title)\n",
    "        tit_lst.append(title)\n",
    "        cont = re.sub('[^ㄱ-ㅣ가-힣]',' ',cont)\n",
    "        cont_lst.append(cont)\n",
    "        driver_close()\n",
    "    \n",
    "        \n",
    "Tving_df = pd.DataFrame({'title':tit_lst,'content':cont_lst})\n",
    "Tving_df.to_csv('c:/py_data/Tving_df.csv', encoding='cp949')\n",
    "\n",
    "# 1050개 블로그 검색결과"
   ]
  },
  {
   "cell_type": "code",
   "execution_count": 4,
   "metadata": {},
   "outputs": [
    {
     "data": {
      "text/html": [
       "<div>\n",
       "<style scoped>\n",
       "    .dataframe tbody tr th:only-of-type {\n",
       "        vertical-align: middle;\n",
       "    }\n",
       "\n",
       "    .dataframe tbody tr th {\n",
       "        vertical-align: top;\n",
       "    }\n",
       "\n",
       "    .dataframe thead th {\n",
       "        text-align: right;\n",
       "    }\n",
       "</style>\n",
       "<table border=\"1\" class=\"dataframe\">\n",
       "  <thead>\n",
       "    <tr style=\"text-align: right;\">\n",
       "      <th></th>\n",
       "      <th>title</th>\n",
       "      <th>content</th>\n",
       "    </tr>\n",
       "  </thead>\n",
       "  <tbody>\n",
       "    <tr>\n",
       "      <th>0</th>\n",
       "      <td>네이버 맴버십 플러스 가입하고     원 받고 티빙보자</td>\n",
       "      <td>네이버...</td>\n",
       "    </tr>\n",
       "    <tr>\n",
       "      <th>1</th>\n",
       "      <td>네이버 플러스 멤버십 혜택 받기  가입  해지 방법  티빙 무료로 보는 법까지</td>\n",
       "      <td>안녕하세요  코예커플입니다  여러분들은 어디에서 인터넷 쇼핑을 하시나요  ...</td>\n",
       "    </tr>\n",
       "    <tr>\n",
       "      <th>2</th>\n",
       "      <td>티빙 한달무료 완벽정리 했어요 아이폰가능</td>\n",
       "      <td>티빙 한달무료       완벽정리 했어요       아이...</td>\n",
       "    </tr>\n",
       "    <tr>\n",
       "      <th>3</th>\n",
       "      <td>네이버 플러스 멤버십  천원 받자      티빙  콘텐츠  뭐가 좋지</td>\n",
       "      <td>어느덧 네이버 플러스 멤버십 서비스가 출시된 지  년이...</td>\n",
       "    </tr>\n",
       "    <tr>\n",
       "      <th>4</th>\n",
       "      <td>유명가수전 히든트랙   네이버 플러스 멤버십으로 티빙 이용하기</td>\n",
       "      <td>안녕하세요 이오스타 인천송도점 제니에요     저는       유명가수전 ...</td>\n",
       "    </tr>\n",
       "    <tr>\n",
       "      <th>...</th>\n",
       "      <td>...</td>\n",
       "      <td>...</td>\n",
       "    </tr>\n",
       "    <tr>\n",
       "      <th>376</th>\n",
       "      <td>티빙 프로필 잠금 설정 방법</td>\n",
       "      <td>티빙 프로필 잠금 설정이용권 개편 가격        ...</td>\n",
       "    </tr>\n",
       "    <tr>\n",
       "      <th>377</th>\n",
       "      <td>네이버  월말부터 티빙 공짜</td>\n",
       "      <td>네이버플러스 멤버십 월     원에 이용중임     원...</td>\n",
       "    </tr>\n",
       "    <tr>\n",
       "      <th>378</th>\n",
       "      <td>티빙 드라마 추천   이선균 출연작  편</td>\n",
       "      <td>티빙 드라마 추천이선균 출연작             ...</td>\n",
       "    </tr>\n",
       "    <tr>\n",
       "      <th>379</th>\n",
       "      <td>티빙무료쿠폰 받기와   티비로 보기</td>\n",
       "      <td>요즘 다들                  에빠져계시나요  갈곳도 없고 그쵸...</td>\n",
       "    </tr>\n",
       "    <tr>\n",
       "      <th>380</th>\n",
       "      <td>아이폰 티빙 해지</td>\n",
       "      <td>오늘도 아이폰은 나를 빡치게해    안그래도 아이폰은 티빙 구독권 비싸다는...</td>\n",
       "    </tr>\n",
       "  </tbody>\n",
       "</table>\n",
       "<p>381 rows × 2 columns</p>\n",
       "</div>"
      ],
      "text/plain": [
       "                                            title  \\\n",
       "0                  네이버 맴버십 플러스 가입하고     원 받고 티빙보자   \n",
       "1    네이버 플러스 멤버십 혜택 받기  가입  해지 방법  티빙 무료로 보는 법까지    \n",
       "2                          티빙 한달무료 완벽정리 했어요 아이폰가능   \n",
       "3         네이버 플러스 멤버십  천원 받자      티빙  콘텐츠  뭐가 좋지    \n",
       "4            유명가수전 히든트랙   네이버 플러스 멤버십으로 티빙 이용하기     \n",
       "..                                            ...   \n",
       "376                               티빙 프로필 잠금 설정 방법   \n",
       "377                              네이버  월말부터 티빙 공짜    \n",
       "378                       티빙 드라마 추천   이선균 출연작  편    \n",
       "379                           티빙무료쿠폰 받기와   티비로 보기   \n",
       "380                                     아이폰 티빙 해지   \n",
       "\n",
       "                                               content  \n",
       "0                                               네이버...  \n",
       "1         안녕하세요  코예커플입니다  여러분들은 어디에서 인터넷 쇼핑을 하시나요  ...  \n",
       "2                   티빙 한달무료       완벽정리 했어요       아이...  \n",
       "3                    어느덧 네이버 플러스 멤버십 서비스가 출시된 지  년이...  \n",
       "4         안녕하세요 이오스타 인천송도점 제니에요     저는       유명가수전 ...  \n",
       "..                                                 ...  \n",
       "376                   티빙 프로필 잠금 설정이용권 개편 가격        ...  \n",
       "377                  네이버플러스 멤버십 월     원에 이용중임     원...  \n",
       "378                   티빙 드라마 추천이선균 출연작             ...  \n",
       "379       요즘 다들                  에빠져계시나요  갈곳도 없고 그쵸...  \n",
       "380       오늘도 아이폰은 나를 빡치게해    안그래도 아이폰은 티빙 구독권 비싸다는...  \n",
       "\n",
       "[381 rows x 2 columns]"
      ]
     },
     "execution_count": 4,
     "metadata": {},
     "output_type": "execute_result"
    }
   ],
   "source": [
    "Tving_df"
   ]
  },
  {
   "cell_type": "code",
   "execution_count": null,
   "metadata": {},
   "outputs": [],
   "source": [
    " "
   ]
  }
 ],
 "metadata": {
  "kernelspec": {
   "display_name": "Python 3",
   "language": "python",
   "name": "python3"
  },
  "language_info": {
   "codemirror_mode": {
    "name": "ipython",
    "version": 3
   },
   "file_extension": ".py",
   "mimetype": "text/x-python",
   "name": "python",
   "nbconvert_exporter": "python",
   "pygments_lexer": "ipython3",
   "version": "3.8.5"
  }
 },
 "nbformat": 4,
 "nbformat_minor": 4
}
