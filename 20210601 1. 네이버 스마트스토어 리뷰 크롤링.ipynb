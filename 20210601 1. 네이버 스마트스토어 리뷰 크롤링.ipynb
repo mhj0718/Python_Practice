{
 "cells": [
  {
   "cell_type": "code",
   "execution_count": 1,
   "metadata": {},
   "outputs": [],
   "source": [
    "# import 해줄 것들\n",
    "import pandas as pd\n",
    "from bs4 import BeautifulSoup\n",
    "import re\n",
    "import time\n",
    "from selenium import webdriver\n",
    "import sys\n",
    "from tqdm.notebook import tqdm\n",
    "from selenium.webdriver.common.keys import Keys"
   ]
  },
  {
   "cell_type": "code",
   "execution_count": 32,
   "metadata": {},
   "outputs": [
    {
     "name": "stdout",
     "output_type": "stream",
     "text": [
      "네이버 스마트 스토어 URL 입력:https://smartstore.naver.com/launhing/products/4620838392?NaPm=ct%3Dkpdj7cf4%7Cci%3D9e445ae91bbee43f44460aa30f7a6467dbcb6dfb%7Ctr%3Dslsl%7Csn%3D793098%7Chk%3D33de6e9b488c94785abde8696316adb61ad17fd7\n"
     ]
    }
   ],
   "source": [
    "# 사이트 접속\n",
    "url = input('네이버 스마트 스토어 URL 입력:')\n",
    "driver = webdriver.Chrome('c:/py_data/chromedriver.exe')\n",
    "driver.get(url)\n",
    "time.sleep(2)\n",
    "\n",
    "html = driver.page_source\n",
    "soup = BeautifulSoup(html, 'html.parser')"
   ]
  },
  {
   "cell_type": "code",
   "execution_count": 8,
   "metadata": {},
   "outputs": [
    {
     "data": {
      "text/plain": [
       "'291'"
      ]
     },
     "execution_count": 8,
     "metadata": {},
     "output_type": "execute_result"
    }
   ],
   "source": [
    "soup.find('ul', class_='_1YrqjEd5tF').find_all('li')[1].find('span').text"
   ]
  },
  {
   "cell_type": "code",
   "execution_count": 33,
   "metadata": {},
   "outputs": [],
   "source": [
    "# 쇼핑몰 리뷰 누르기\n",
    "\n",
    "menu_area = soup.find('ul', class_='_1YrqjEd5tF').find_all('li')\n",
    "for i in range(len(menu_area)):\n",
    "    menu = re.sub('[^ㄱ-ㅣ가-힣 ]','',menu_area[i].text)\n",
    "    if menu == '리뷰':\n",
    "        driver.find_element_by_css_selector('#content > div > div.z7cS6-TO7X > div._27jmWaPaKy > ul > li:nth-child('+str(i+1)+')').click()   # 페이지별로 바꿔줘야한다.\n",
    "        review_num = int(menu_area[i].find('span').text) \n",
    "        break"
   ]
  },
  {
   "cell_type": "code",
   "execution_count": 38,
   "metadata": {
    "scrolled": true
   },
   "outputs": [
    {
     "data": {
      "application/vnd.jupyter.widget-view+json": {
       "model_id": "1910069e68e9483baea74906e7a55b4b",
       "version_major": 2,
       "version_minor": 0
      },
      "text/plain": [
       "HBox(children=(HTML(value=''), FloatProgress(value=0.0, max=15.0), HTML(value='')))"
      ]
     },
     "metadata": {},
     "output_type": "display_data"
    },
    {
     "name": "stdout",
     "output_type": "stream",
     "text": [
      "\n"
     ]
    }
   ],
   "source": [
    "point_lst=[]\n",
    "doc_lst=[]\n",
    "now_page = 0\n",
    "next_btn = [' a:nth-child(3)',' a:nth-child(4)',' a:nth-child(5)',\n",
    "                    ' a:nth-child(6)',' a:nth-child(7)',' a:nth-child(8)',' a:nth-child(9)',\n",
    "                    ' a:nth-child(10)',' a:nth-child(11)',' a.fAUKm1ewwo._2Ar8-aEUTq']\n",
    "next_btn_path = '#REVIEW > div > div._2y6yIawL6t > div > div.cv6id6JEkg > div > div >'\n",
    "\n",
    "# 페이지 수 구해서 \n",
    "for page in tqdm(range(review_num//len(soup.find('ul',class_='TsOLil1PRz').find_all('li'))+1)):\n",
    "    html = driver.page_source\n",
    "    soup = BeautifulSoup(html, \"html.parser\")\n",
    "    review_area = soup.find('ul',class_='TsOLil1PRz').find_all('li')\n",
    "    \n",
    "    for review in review_area:\n",
    "        point = int(review.find('em', class_='_15NU42F3kT').text)\n",
    "        point_lst.append(point)\n",
    "        \n",
    "        review_txt = review.find('div', class_='YEtwtZFLDz').text\n",
    "        doc_lst.append(re.sub('[^가-힣 ]','',review_txt).replace(\"포토리뷰\",\"\"))\n",
    "    \n",
    "    try:    \n",
    "        driver.find_element_by_css_selector(next_btn_path+next_btn[now_page]).click()\n",
    "        time.sleep(1)\n",
    "    except:\n",
    "        pass\n",
    "    \n",
    "    if next_btn[now_page] == next_btn[-1]:\n",
    "        now_page = 0\n",
    "        next_btn = [' a:nth-child(3)',' a:nth-child(4)',' a:nth-child(5)',\n",
    "                    ' a:nth-child(6)',' a:nth-child(7)',' a:nth-child(8)',' a:nth-child(9)',\n",
    "                    ' a:nth-child(10)',' a:nth-child(11)',' a.fAUKm1ewwo._2Ar8-aEUTq']\n",
    "    else:\n",
    "        now_page = now_page + 1\n",
    "        "
   ]
  },
  {
   "cell_type": "markdown",
   "metadata": {},
   "source": [
    "## 코드 정리"
   ]
  },
  {
   "cell_type": "code",
   "execution_count": 41,
   "metadata": {},
   "outputs": [
    {
     "name": "stdout",
     "output_type": "stream",
     "text": [
      "네이버 스마트 스토어 URL 입력:https://smartstore.naver.com/launhing/products/4620838392?NaPm=ct%3Dkpdj7cf4%7Cci%3D9e445ae91bbee43f44460aa30f7a6467dbcb6dfb%7Ctr%3Dslsl%7Csn%3D793098%7Chk%3D33de6e9b488c94785abde8696316adb61ad17fd7\n"
     ]
    },
    {
     "data": {
      "application/vnd.jupyter.widget-view+json": {
       "model_id": "6ae1010e68ce4b1fbc19a0051c9292d1",
       "version_major": 2,
       "version_minor": 0
      },
      "text/plain": [
       "HBox(children=(HTML(value=''), FloatProgress(value=0.0, max=15.0), HTML(value='')))"
      ]
     },
     "metadata": {},
     "output_type": "display_data"
    },
    {
     "name": "stdout",
     "output_type": "stream",
     "text": [
      "\n",
      "291 개의 게시물을 크롤링 하였습니다.\n"
     ]
    }
   ],
   "source": [
    "# import 해줄 것들\n",
    "import pandas as pd\n",
    "from bs4 import BeautifulSoup\n",
    "import re\n",
    "import time\n",
    "from selenium import webdriver\n",
    "import sys\n",
    "from tqdm.notebook import tqdm\n",
    "from selenium.webdriver.common.keys import Keys\n",
    "\n",
    "# 사이트 접속\n",
    "url = input('네이버 스마트 스토어 URL 입력:')\n",
    "driver = webdriver.Chrome('c:/py_data/chromedriver.exe')\n",
    "driver.get(url)\n",
    "time.sleep(2)\n",
    "\n",
    "html = driver.page_source\n",
    "soup = BeautifulSoup(html, 'html.parser')\n",
    "\n",
    "# 쇼핑몰 리뷰 누르기\n",
    "\n",
    "menu_area = soup.find('ul', class_='_1YrqjEd5tF').find_all('li')\n",
    "for i in range(len(menu_area)):\n",
    "    menu = re.sub('[^ㄱ-ㅣ가-힣 ]','',menu_area[i].text)\n",
    "    if menu == '리뷰':\n",
    "        driver.find_element_by_css_selector('#content > div > div.z7cS6-TO7X > div._27jmWaPaKy > ul > li:nth-child('+str(i+1)+')').click()   # 페이지별로 바꿔줘야한다.\n",
    "        review_num = int(menu_area[i].find('span').text) \n",
    "        break\n",
    "        \n",
    "\n",
    "\n",
    "point_lst=[]\n",
    "doc_lst=[]\n",
    "now_page = 0\n",
    "next_btn = [' a:nth-child(3)',' a:nth-child(4)',' a:nth-child(5)',\n",
    "                    ' a:nth-child(6)',' a:nth-child(7)',' a:nth-child(8)',' a:nth-child(9)',\n",
    "                    ' a:nth-child(10)',' a:nth-child(11)',' a.fAUKm1ewwo._2Ar8-aEUTq']\n",
    "next_btn_path = '#REVIEW > div > div._2y6yIawL6t > div > div.cv6id6JEkg > div > div >'\n",
    "\n",
    "# 페이지 수 구해서 \n",
    "for page in tqdm(range(review_num//len(soup.find('ul',class_='TsOLil1PRz').find_all('li'))+1)):\n",
    "    html = driver.page_source\n",
    "    soup = BeautifulSoup(html, \"html.parser\")\n",
    "    review_area = soup.find('ul',class_='TsOLil1PRz').find_all('li')\n",
    "    \n",
    "    for review in review_area:\n",
    "        point = int(review.find('em', class_='_15NU42F3kT').text)\n",
    "        point_lst.append(point)\n",
    "        \n",
    "        review_txt = review.find('div', class_='YEtwtZFLDz').text\n",
    "        doc_lst.append(re.sub('[^가-힣 ]','',review_txt).replace(\"포토리뷰\",\"\"))\n",
    "    \n",
    "    try:    \n",
    "        driver.find_element_by_css_selector(next_btn_path+next_btn[now_page]).click()\n",
    "        time.sleep(1)\n",
    "    except:\n",
    "        pass\n",
    "# 1~10페이지 태그 /  11~~~~ 태그    다를 때 코드 \n",
    "    if next_btn[now_page] == next_btn[-1]:\n",
    "        now_page = 0\n",
    "        next_btn = [' a:nth-child(3)',' a:nth-child(4)',' a:nth-child(5)',\n",
    "                    ' a:nth-child(6)',' a:nth-child(7)',' a:nth-child(8)',' a:nth-child(9)',\n",
    "                    ' a:nth-child(10)',' a:nth-child(11)',' a.fAUKm1ewwo._2Ar8-aEUTq']\n",
    "    else:\n",
    "        now_page = now_page + 1\n",
    "        \n",
    "driver.close()        \n",
    "df = pd.DataFrame({'별점':point_lst, '리뷰': doc_lst})\n",
    "df.to_csv('c:/py_data/네이버 스마트 스토어 리뷰.csv',encoding=\"cp949\")\n",
    "print(len(list(doc_lst)),'개의 게시물을 크롤링 하였습니다.')"
   ]
  },
  {
   "cell_type": "markdown",
   "metadata": {},
   "source": [
    "## 모범답안"
   ]
  },
  {
   "cell_type": "code",
   "execution_count": null,
   "metadata": {},
   "outputs": [],
   "source": [
    "from bs4 import BeautifulSoup\n",
    "from selenium import webdriver \n",
    "import pandas as pd\n",
    "from tqdm.notebook import tqdm\n",
    "import time\n",
    "import re\n",
    "import sys\n",
    "\n",
    "url = input(\"네이버 스마트 스토어 상품 URL 입력:\")\n",
    "driver = webdriver.Chrome(\"C:/py_data/chromedriver.exe\")\n",
    "driver.get(url)\n",
    "time.sleep(2)\n",
    "\n",
    "html = driver.page_source\n",
    "soup = BeautifulSoup(html, \"html.parser\")\n",
    "\n",
    "next_btn_lst = [' a:nth-child(3)',' a:nth-child(4)',' a:nth-child(5)',' a:nth-child(6)',' a:nth-child(7)',' a:nth-child(8)',\n",
    "            ' a:nth-child(9)',' a:nth-child(10)',' a:nth-child(11)',' a.fAUKm1ewwo._2Ar8-aEUTq']\n",
    "next_btn = '#REVIEW > div > div._2y6yIawL6t > div > div.cv6id6JEkg > div > div >'\n",
    "# 리뷰버튼 클릭\n",
    "menu_area = soup.find('div',class_='_27jmWaPaKy _1dDHKD1iiX').find_all(\"li\")\n",
    "for i in range(len(menu_area)):\n",
    "    menu = re.sub('[^가-힣]','',menu_area[i].text)\n",
    "    if menu == '리뷰':\n",
    "        driver.find_element_by_css_selector(\"#content > div > div.z7cS6-TO7X > div._27jmWaPaKy > ul > li:nth-child(\"+str(i+1)+\") > a\").click()\n",
    "        review_num = int(soup.find('span',class_='_3HJHJjSrNK').text.replace(\",\",\"\"))\n",
    "        break\n",
    "\n",
    "point_lst=[]\n",
    "doc_lst=[]\n",
    "now_page = 0\n",
    "for page in tqdm(range((review_num//len(soup.find_all('div',class_='YEtwtZFLDz')))+1)):\n",
    "    html = driver.page_source\n",
    "    soup = BeautifulSoup(html, \"html.parser\")\n",
    "    review_area = soup.find_all('div',class_='YEtwtZFLDz')\n",
    "\n",
    "    # 리뷰 더보기 클릭\n",
    "    for num in range(1,len(review_area)+1):\n",
    "        try:\n",
    "            driver.find_element_by_css_selector('#REVIEW > div > div._2y6yIawL6t > div > div.cv6id6JEkg > ul > li:nth-child('+str(num)+') > div > div._30o7PGmsIy > a').click()\n",
    "            time.sleep(1)\n",
    "        except:\n",
    "            pass\n",
    "        \n",
    "    review_area = soup.find_all('div',class_='YEtwtZFLDz')\n",
    "    for i in review_area:\n",
    "        doc_lst.append(re.sub('[^a-zA-Zㄱ-ㅣ가-힣0-9?!# ]',\"\",i.text))\n",
    "        \n",
    "    try:\n",
    "        driver.find_element_by_css_selector(next_btn+next_btn_lst[now_page]).click()\n",
    "        time.sleep(1)\n",
    "    except:\n",
    "        pass\n",
    "\n",
    "    if next_btn_lst[now_page] == ' a.fAUKm1ewwo._2Ar8-aEUTq':  \n",
    "        now_page = 0\n",
    "    else:\n",
    "        now_page = now_page + 1\n",
    "df = pd.DataFrame({\"본문\":list(set(doc_lst))})\n",
    "df.to_csv(\"c:/py_data/네이버 스마트 스토어 상품.csv\",encoding=\"cp949\")\n",
    "print(len(list(set(doc_lst))),'개의 게시물을 크롤링 하였습니다.')\n",
    "driver.close()"
   ]
  }
 ],
 "metadata": {
  "kernelspec": {
   "display_name": "Python 3",
   "language": "python",
   "name": "python3"
  },
  "language_info": {
   "codemirror_mode": {
    "name": "ipython",
    "version": 3
   },
   "file_extension": ".py",
   "mimetype": "text/x-python",
   "name": "python",
   "nbconvert_exporter": "python",
   "pygments_lexer": "ipython3",
   "version": "3.8.5"
  }
 },
 "nbformat": 4,
 "nbformat_minor": 4
}
