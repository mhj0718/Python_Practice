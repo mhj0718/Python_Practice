{
 "cells": [
  {
   "cell_type": "code",
   "execution_count": 1,
   "metadata": {},
   "outputs": [],
   "source": [
    "import pandas as pd\n",
    "from bs4 import BeautifulSoup\n",
    "from selenium import webdriver\n",
    "import time\n",
    "import re\n",
    "import sys"
   ]
  },
  {
   "cell_type": "code",
   "execution_count": 19,
   "metadata": {},
   "outputs": [
    {
     "name": "stdout",
     "output_type": "stream",
     "text": [
      "접속하기 원하는 카페 url을 입력하세요:https://cafe.naver.com/formsunmyeong\n"
     ]
    }
   ],
   "source": [
    "url = input('접속하기 원하는 카페 url을 입력하세요:')"
   ]
  },
  {
   "cell_type": "code",
   "execution_count": 4,
   "metadata": {},
   "outputs": [
    {
     "name": "stdout",
     "output_type": "stream",
     "text": [
      "키워드를 입력:비타민\n",
      "아이디를 입력:godhj95\n",
      "비밀번호를 입력:agw2539nhh!\n"
     ]
    }
   ],
   "source": [
    "keyword = input('키워드를 입력:')\n",
    "id_ = input('아이디를 입력:')\n",
    "pw = input('비밀번호를 입력:')"
   ]
  },
  {
   "cell_type": "code",
   "execution_count": 5,
   "metadata": {},
   "outputs": [],
   "source": [
    "main_url = 'https://cafe.naver.com/ArticleSearchList.nhn?search.clubid='\n",
    "date_url = '&search.media=0&search.searchdate='\n",
    "q_url = '&search.defaultValue=1&search.exact=&search.include=&userDisplay=15&search.exclude=&search.option=0&search.sortBy=date&search.searchBy=0&search.includeAll=&search.query='\n",
    "page_url = '&search.viewtype=title&search.page='"
   ]
  },
  {
   "cell_type": "code",
   "execution_count": 10,
   "metadata": {},
   "outputs": [
    {
     "data": {
      "text/plain": [
       "'https://cafe.naver.com/ArticleSearchList.nhn?search.clubid=11100373&search.media=0&search.searchdate=2021-05-102021-05-26&search.defaultValue=1&search.exact=&search.include=&userDisplay=15&search.exclude=&search.option=0&search.sortBy=date&search.searchBy=0&search.includeAll=&search.query=%BA%F1%C5%B8%B9%CE&search.viewtype=title&search.page=1'"
      ]
     },
     "execution_count": 10,
     "metadata": {},
     "output_type": "execute_result"
    }
   ],
   "source": [
    "# url 테스트\n",
    "main_url + '11100373' + date_url + '2021-05-102021-05-26' + q_url + '%BA%F1%C5%B8%B9%CE' + page_url + '1'"
   ]
  },
  {
   "cell_type": "code",
   "execution_count": 11,
   "metadata": {},
   "outputs": [],
   "source": [
    "cafe_url = 'https://cafe.naver.com'"
   ]
  },
  {
   "cell_type": "code",
   "execution_count": 12,
   "metadata": {},
   "outputs": [
    {
     "name": "stdout",
     "output_type": "stream",
     "text": [
      "검색시작 기간 입력(예:2020-01-03):2021-05-10\n",
      "검색시작 기간 입력(예:2020-01-03):2021-05-26\n",
      "시작 페이지 입력(MIN:1):1\n",
      "시작 페이지 입력(MIN:100):100\n"
     ]
    }
   ],
   "source": [
    "start_date = input('검색시작 기간 입력(예:2020-01-03):')\n",
    "end_date = input('검색시작 기간 입력(예:2020-01-03):')\n",
    "min_page = int(input('시작 페이지 입력(MIN:1):'))\n",
    "max_page = int(input('시작 페이지 입력(MIN:100):'))+1"
   ]
  },
  {
   "cell_type": "code",
   "execution_count": 89,
   "metadata": {},
   "outputs": [],
   "source": [
    "driver = webdriver.Chrome('c:/py_data/chromedriver.exe')\n",
    "driver.get('https://nid.naver.com/nidlogin.login?mode=form&url=https%3A%2F%2Fwww.naver.com')\n",
    "time.sleep(1)"
   ]
  },
  {
   "cell_type": "code",
   "execution_count": 90,
   "metadata": {},
   "outputs": [],
   "source": [
    "# 로그인\n",
    "driver.execute_script(\"document.getElementsByName('id')[0].value=\\'\"+ id_ + \"\\'\")\n",
    "driver.execute_script(\"document.getElementsByName('pw')[0].value=\\'\"+ pw + \"\\'\")\n",
    "driver.find_element_by_css_selector(\"#frmNIDLogin > fieldset > input\").click()\n",
    "time.sleep(1) "
   ]
  },
  {
   "cell_type": "code",
   "execution_count": 91,
   "metadata": {},
   "outputs": [],
   "source": [
    "# 카페 접속\n",
    "driver.get(url)\n",
    "time.sleep(2)"
   ]
  },
  {
   "cell_type": "code",
   "execution_count": 92,
   "metadata": {},
   "outputs": [],
   "source": [
    "# 키워드 입력\n",
    "driver.find_element_by_css_selector('#topLayerQueryInput').click()\n",
    "driver.find_element_by_css_selector('#topLayerQueryInput').send_keys(keyword)\n",
    "driver.find_element_by_css_selector('#info-search > form > button').click()\n",
    "time.sleep(1)"
   ]
  },
  {
   "cell_type": "code",
   "execution_count": 93,
   "metadata": {},
   "outputs": [
    {
     "name": "stderr",
     "output_type": "stream",
     "text": [
      "<ipython-input-93-1d0961a0f8cb>:2: DeprecationWarning: use driver.switch_to.frame instead\n",
      "  driver.switch_to_frame('cafe_main')\n"
     ]
    }
   ],
   "source": [
    "# iframe 깨고 소스 가져오기\n",
    "driver.switch_to_frame('cafe_main')\n",
    "html = driver.page_source\n",
    "soup = BeautifulSoup(html, 'html.parser')"
   ]
  },
  {
   "cell_type": "code",
   "execution_count": 94,
   "metadata": {},
   "outputs": [
    {
     "data": {
      "text/plain": [
       "'%BA%F1%C5%B8%B9%CE'"
      ]
     },
     "execution_count": 94,
     "metadata": {},
     "output_type": "execute_result"
    }
   ],
   "source": [
    "# 검색어 쿼리 찾기\n",
    "page_navi = soup.find('div', class_='prev-next')\n",
    "query = page_navi.find('a')['href'].split('query=')[1].split('&search')[0]\n",
    "query"
   ]
  },
  {
   "cell_type": "code",
   "execution_count": 95,
   "metadata": {},
   "outputs": [
    {
     "data": {
      "text/plain": [
       "'11100373'"
      ]
     },
     "execution_count": 95,
     "metadata": {},
     "output_type": "execute_result"
    }
   ],
   "source": [
    "page_navi.find('a')['href']\n",
    "# 카페 고유번호 추출\n",
    "cafe_id = page_navi.find('a')['href'].split('clubid=')[1].split('&search')[0]\n",
    "cafe_id"
   ]
  },
  {
   "cell_type": "code",
   "execution_count": 96,
   "metadata": {},
   "outputs": [
    {
     "data": {
      "text/plain": [
       "'https://cafe.naver.com/ArticleSearchList.nhn?search.clubid=11100373&search.media=0&search.searchdate=2021-05-102021-05-26&search.defaultValue=1&search.exact=&search.include=&userDisplay=15&search.exclude=&search.option=0&search.sortBy=date&search.searchBy=0&search.includeAll=&search.query=%BA%F1%C5%B8%B9%CE&search.viewtype=title&search.page=1'"
      ]
     },
     "execution_count": 96,
     "metadata": {},
     "output_type": "execute_result"
    }
   ],
   "source": [
    "# url 확인\n",
    "main_url + cafe_id + date_url +start_date + end_date + q_url + query + page_url + '1'"
   ]
  },
  {
   "cell_type": "code",
   "execution_count": 97,
   "metadata": {},
   "outputs": [],
   "source": [
    "# \n",
    "for page in range(44,45):\n",
    "    cafe_url = main_url + cafe_id + date_url +start_date + end_date + q_url + query + page_url + str(page)\n",
    "    # 카페접속\n",
    "    driver.get(cafe_url)\n",
    "    time.sleep(2)"
   ]
  },
  {
   "cell_type": "code",
   "execution_count": 98,
   "metadata": {},
   "outputs": [
    {
     "name": "stderr",
     "output_type": "stream",
     "text": [
      "<ipython-input-98-7cd2d0c062f8>:2: DeprecationWarning: use driver.switch_to.frame instead\n",
      "  driver.switch_to_frame('cafe_main')\n"
     ]
    }
   ],
   "source": [
    "# 페이지 소스 가져오기\n",
    "driver.switch_to_frame('cafe_main')\n",
    "html_page = driver.page_source\n",
    "soup_page = BeautifulSoup(html_page, 'html.parser')"
   ]
  },
  {
   "cell_type": "code",
   "execution_count": 99,
   "metadata": {},
   "outputs": [
    {
     "data": {
      "text/plain": [
       "15"
      ]
     },
     "execution_count": 99,
     "metadata": {},
     "output_type": "execute_result"
    }
   ],
   "source": [
    "# 페이지 게시글 갯수\n",
    "len_content = len(soup_page.find_all('div', class_='inner_list')) + 1\n",
    "len_content"
   ]
  },
  {
   "cell_type": "markdown",
   "metadata": {},
   "source": [
    "## 네이버 카페 로그인 -> 크롤링 -> 저장까지 정리"
   ]
  },
  {
   "cell_type": "code",
   "execution_count": 104,
   "metadata": {},
   "outputs": [
    {
     "name": "stdout",
     "output_type": "stream",
     "text": [
      "접속하기 원하는 카페 url을 입력하세요:https://cafe.naver.com/formsunmyeong\n",
      "키워드를 입력:초코\n",
      "아이디를 입력:godhj95\n",
      "비밀번호를 입력:agw2539nhh!\n",
      "검색시작 기간 입력(예:2020-01-03):2021-05-10\n",
      "검색시작 기간 입력(예:2020-01-03):2021-05-26\n",
      "시작 페이지 입력(MIN:1):1\n",
      "마지막 페이지 입력(MIN:100):1\n"
     ]
    },
    {
     "name": "stderr",
     "output_type": "stream",
     "text": [
      "<ipython-input-104-0fa36ec68aed>:45: DeprecationWarning: use driver.switch_to.frame instead\n",
      "  driver.switch_to_frame('cafe_main')\n",
      "<ipython-input-104-0fa36ec68aed>:68: DeprecationWarning: use driver.switch_to.frame instead\n",
      "  driver.switch_to_frame('cafe_main')\n",
      "<ipython-input-104-0fa36ec68aed>:80: DeprecationWarning: use driver.switch_to.frame instead\n",
      "  driver.switch_to_frame('cafe_main')\n"
     ]
    },
    {
     "name": "stdout",
     "output_type": "stream",
     "text": [
      "47 개의 게시물을 크롤링 하였습니다.\n"
     ]
    },
    {
     "ename": "SystemExit",
     "evalue": "",
     "output_type": "error",
     "traceback": [
      "An exception has occurred, use %tb to see the full traceback.\n",
      "\u001b[1;31mSystemExit\u001b[0m\n"
     ]
    },
    {
     "name": "stderr",
     "output_type": "stream",
     "text": [
      "C:\\Users\\CPB06GameN\\anaconda3\\lib\\site-packages\\IPython\\core\\interactiveshell.py:3426: UserWarning: To exit: use 'exit', 'quit', or Ctrl-D.\n",
      "  warn(\"To exit: use 'exit', 'quit', or Ctrl-D.\", stacklevel=1)\n"
     ]
    }
   ],
   "source": [
    "import pandas as pd\n",
    "from bs4 import BeautifulSoup\n",
    "from selenium import webdriver\n",
    "import time\n",
    "import re\n",
    "import sys\n",
    "\n",
    "\n",
    "url = input('접속하기 원하는 카페 url을 입력하세요:')\n",
    "keyword = input('키워드를 입력:')\n",
    "id_ = input('아이디를 입력:')\n",
    "pw = input('비밀번호를 입력:')\n",
    "\n",
    "start_date = input('검색시작 기간 입력(예:2020-01-03):')\n",
    "end_date = input('검색시작 기간 입력(예:2020-01-03):')\n",
    "min_page = int(input('시작 페이지 입력(MIN:1):'))\n",
    "max_page = int(input('마지막 페이지 입력(MIN:100):'))+1\n",
    "\n",
    "main_url = 'https://cafe.naver.com/ArticleSearchList.nhn?search.clubid='\n",
    "date_url = '&search.media=0&search.searchdate='\n",
    "q_url = '&search.defaultValue=1&search.exact=&search.include=&userDisplay=15&search.exclude=&search.option=0&search.sortBy=date&search.searchBy=0&search.includeAll=&search.query='\n",
    "page_url = '&search.viewtype=title&search.page='\n",
    "\n",
    "# 로그인\n",
    "driver = webdriver.Chrome('c:/py_data/chromedriver.exe')\n",
    "driver.get('https://nid.naver.com/nidlogin.login?mode=form&url=https%3A%2F%2Fwww.naver.com')\n",
    "time.sleep(1)\n",
    "\n",
    "driver.execute_script(\"document.getElementsByName('id')[0].value=\\'\"+ id_ + \"\\'\")\n",
    "driver.execute_script(\"document.getElementsByName('pw')[0].value=\\'\"+ pw + \"\\'\")\n",
    "driver.find_element_by_css_selector(\"#frmNIDLogin > fieldset > input\").click()\n",
    "time.sleep(1) \n",
    "\n",
    "# 카페 접속\n",
    "driver.get(url)\n",
    "time.sleep(2)\n",
    "\n",
    "# 키워드 입력\n",
    "driver.find_element_by_css_selector('#topLayerQueryInput').click()\n",
    "driver.find_element_by_css_selector('#topLayerQueryInput').send_keys(keyword)\n",
    "driver.find_element_by_css_selector('#info-search > form > button').click()\n",
    "time.sleep(1)\n",
    "\n",
    "# iframe 깨고 소스 가져오기\n",
    "driver.switch_to_frame('cafe_main')\n",
    "html = driver.page_source\n",
    "soup = BeautifulSoup(html, 'html.parser')\n",
    "\n",
    "# 검색어 쿼리 찾기\n",
    "page_navi = soup.find('div', class_='prev-next')\n",
    "query = page_navi.find('a')['href'].split('query=')[1].split('&search')[0]\n",
    "query\n",
    "\n",
    "\n",
    "# 카페 고유번호 추출\n",
    "page_navi.find('a')['href']\n",
    "cafe_id = page_navi.find('a')['href'].split('clubid=')[1].split('&search')[0]\n",
    "cafe_id\n",
    "\n",
    "\n",
    "for page in range(min_page,max_page):\n",
    "    cafe_url = main_url + cafe_id + date_url +start_date + end_date + q_url + query + page_url + str(page)\n",
    "    # 카페접속\n",
    "    driver.get(cafe_url)\n",
    "    time.sleep(2)\n",
    "    \n",
    "    # 페이지 소스 가져오기\n",
    "    driver.switch_to_frame('cafe_main')\n",
    "    html_page = driver.page_source\n",
    "    soup_page = BeautifulSoup(html_page, 'html.parser')\n",
    "    ㅗ\n",
    "    # 페이지 게시글 갯수\n",
    "    len_content = len(soup_page.find_all('div', class_='inner_list')) + 1\n",
    "    len_content\n",
    "    \n",
    "    if len_content != 1: \n",
    "        for doc_num in range(1,len_content):\n",
    "            driver.refresh()   # 새로고침하면  페이지 번호 있는 url로 다시 돌아감 (뒤로가기 필요없음)ㅎㄷㅎㄷ\n",
    "            time.sleep(1)\n",
    "            driver.switch_to_frame('cafe_main')\n",
    "            # 게시물 클릭\n",
    "            click_ = '#main-area > div.article-board.result-board.m-tcol-c > table > tbody > tr:nth-child('+str(doc_num)+') > td.td_article > div.board-list > div > a.article'\n",
    "            driver.find_element_by_css_selector(click_).click()\n",
    "            time.sleep(3)\n",
    "\n",
    "            html_sub = driver.page_source\n",
    "            soup_sub = BeautifulSoup(html_sub, 'html.parser')\n",
    "\n",
    "            # 제목\n",
    "            try:\n",
    "                tit = soup_sub.find('h3',class_='title_text').text\n",
    "                tit_lst.append(re.sub('[^a-zA-Zㄱ-ㅣ가-힣-0-9?!# ]','',tit))\n",
    "            except:\n",
    "                continue\n",
    "                \n",
    "            # 본문\n",
    "            try:\n",
    "                doc = soup_sub.find('div',class_='content CafeViewer').text\n",
    "            except:\n",
    "                doc = soup_sub.find('div', class_='ContentRenderer').text\n",
    "            doc_lst.append(re.sub('[^a-zA-Zㄱ-ㅣ가-힣-0-9?!# ]','',doc))\n",
    "\n",
    "            # 댓글\n",
    "            comment = ''\n",
    "            try:\n",
    "                comment_tag = soup_sub.find_all('span', class_='text_comment')\n",
    "                for j in comment_tag:\n",
    "                    comment = comment + j.text\n",
    "            except:\n",
    "                pass\n",
    "            comment_lst.append(re.sub('[^a-zA-Zㄱ-ㅣ가-힣-0-9?!# ]','',tit))\n",
    "            \n",
    "    elif len_content == 1:\n",
    "            driver.close()\n",
    "            df = pd.DataFrame({'제목':tit_lst, '본문':doc_lst,\n",
    "                               '댓글':comment_lst})\n",
    "            df.to_csv('c:/py_data/'+start_date +\n",
    "                     '-'+end_date+keyword+'네이버 카페 크롤링.csv', endcoding = 'cp949')\n",
    "            print(len(tit_lst),'개의 게시물을 크롤링 하였습니다.')\n",
    "            sys.exit()            \n",
    "            \n",
    "driver.close()\n",
    "df = pd.DataFrame({'제목':tit_lst, '본문':doc_lst,\n",
    "                               '댓글':comment_lst})\n",
    "df.to_csv('c:/py_data/'+start_date +'-'+end_date+keyword+'네이버 카페 크롤링.csv')\n",
    "print(len(tit_lst),'개의 게시물을 크롤링 하였습니다.')\n",
    "sys.exit()\n",
    "            \n",
    "    \n",
    "        "
   ]
  },
  {
   "cell_type": "code",
   "execution_count": null,
   "metadata": {},
   "outputs": [],
   "source": []
  }
 ],
 "metadata": {
  "kernelspec": {
   "display_name": "Python 3",
   "language": "python",
   "name": "python3"
  },
  "language_info": {
   "codemirror_mode": {
    "name": "ipython",
    "version": 3
   },
   "file_extension": ".py",
   "mimetype": "text/x-python",
   "name": "python",
   "nbconvert_exporter": "python",
   "pygments_lexer": "ipython3",
   "version": "3.8.5"
  }
 },
 "nbformat": 4,
 "nbformat_minor": 4
}
