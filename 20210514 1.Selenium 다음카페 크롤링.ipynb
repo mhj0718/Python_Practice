{
 "cells": [
  {
   "cell_type": "code",
   "execution_count": 42,
   "metadata": {},
   "outputs": [
    {
     "data": {
      "text/plain": [
       "[]"
      ]
     },
     "execution_count": 42,
     "metadata": {},
     "output_type": "execute_result"
    }
   ],
   "source": [
    "from selenium import webdriver\n",
    "from selenium.webdriver.common.keys import Keys # 키보드 키를 제어하는 라이브러리\n",
    "import re\n",
    "import requests\n",
    "from bs4 import BeautifulSoup\n",
    "\n",
    "\n",
    "keys = Keys()\n",
    "keyword = ['빅데이터']\n",
    "\n",
    "# 1. 크롬드라이버 실행\n",
    "driver = webdriver.Chrome('c:/py_data/chromedriver.exe') # 실수로 끄면 restart\n",
    "driver.find_elements_by_css_selector('iframe')\n"
   ]
  },
  {
   "cell_type": "code",
   "execution_count": 43,
   "metadata": {},
   "outputs": [],
   "source": [
    "# 2. get함수로 사이트로 이동\n",
    "driver.get('http://daum.net')"
   ]
  },
  {
   "cell_type": "code",
   "execution_count": 44,
   "metadata": {},
   "outputs": [
    {
     "data": {
      "text/plain": [
       "<selenium.webdriver.remote.webelement.WebElement (session=\"99ef3bb74600384217d12ea7b6a8718f\", element=\"cdf76f09-0ef2-4dc6-a174-8588c2130c7c\")>"
      ]
     },
     "execution_count": 44,
     "metadata": {},
     "output_type": "execute_result"
    }
   ],
   "source": [
    "# 3. 검색창 클릭\n",
    "Q_input = driver.find_element_by_css_selector('#q')\n",
    "Q_input"
   ]
  },
  {
   "cell_type": "code",
   "execution_count": 45,
   "metadata": {},
   "outputs": [],
   "source": [
    "# 4. 검색어 입력\n",
    "Q_input.send_keys(keyword)"
   ]
  },
  {
   "cell_type": "code",
   "execution_count": 46,
   "metadata": {},
   "outputs": [],
   "source": [
    "# 5. 엔터 클릭\n",
    "Q_input.send_keys(keys.ENTER)"
   ]
  },
  {
   "cell_type": "code",
   "execution_count": 47,
   "metadata": {},
   "outputs": [],
   "source": [
    "# 6. '전체글 더보기' 클릭\n",
    "driver.find_element_by_css_selector('#cafeWrapExtend > a.expender.more > span').click()"
   ]
  },
  {
   "cell_type": "code",
   "execution_count": 7,
   "metadata": {},
   "outputs": [],
   "source": [
    "# 제목, 본문, 댓글 들어갈 리스트 만들고\n",
    "tit_lst = []\n",
    "con_lst = []\n",
    "com_lst = []"
   ]
  },
  {
   "cell_type": "code",
   "execution_count": 8,
   "metadata": {},
   "outputs": [],
   "source": [
    "# 7. (반복) page 변경 1~5"
   ]
  },
  {
   "cell_type": "code",
   "execution_count": 36,
   "metadata": {
    "scrolled": true
   },
   "outputs": [
    {
     "ename": "IndexError",
     "evalue": "list index out of range",
     "output_type": "error",
     "traceback": [
      "\u001b[1;31m---------------------------------------------------------------------------\u001b[0m",
      "\u001b[1;31mIndexError\u001b[0m                                Traceback (most recent call last)",
      "\u001b[1;32m<ipython-input-36-472f0d297125>\u001b[0m in \u001b[0;36m<module>\u001b[1;34m\u001b[0m\n\u001b[0;32m     38\u001b[0m         \u001b[0mdriver\u001b[0m\u001b[1;33m.\u001b[0m\u001b[0mswitch_to\u001b[0m\u001b[1;33m.\u001b[0m\u001b[0mwindow\u001b[0m\u001b[1;33m(\u001b[0m\u001b[0mdriver\u001b[0m\u001b[1;33m.\u001b[0m\u001b[0mwindow_handles\u001b[0m\u001b[1;33m[\u001b[0m\u001b[1;33m-\u001b[0m\u001b[1;36m1\u001b[0m\u001b[1;33m]\u001b[0m\u001b[1;33m)\u001b[0m\u001b[1;33m\u001b[0m\u001b[1;33m\u001b[0m\u001b[0m\n\u001b[0;32m     39\u001b[0m         \u001b[1;31m# 8-2. iframe 전환\u001b[0m\u001b[1;33m\u001b[0m\u001b[1;33m\u001b[0m\u001b[1;33m\u001b[0m\u001b[0m\n\u001b[1;32m---> 40\u001b[1;33m         \u001b[0maaa\u001b[0m \u001b[1;33m=\u001b[0m \u001b[0mdriver\u001b[0m\u001b[1;33m.\u001b[0m\u001b[0mfind_elements_by_tag_name\u001b[0m\u001b[1;33m(\u001b[0m\u001b[1;34m'frame'\u001b[0m\u001b[1;33m)\u001b[0m\u001b[1;33m[\u001b[0m\u001b[1;36m0\u001b[0m\u001b[1;33m]\u001b[0m\u001b[1;33m\u001b[0m\u001b[1;33m\u001b[0m\u001b[0m\n\u001b[0m\u001b[0;32m     41\u001b[0m         \u001b[0mdriver\u001b[0m\u001b[1;33m.\u001b[0m\u001b[0mswitch_to_frame\u001b[0m\u001b[1;33m(\u001b[0m\u001b[0maaa\u001b[0m\u001b[1;33m)\u001b[0m\u001b[1;33m\u001b[0m\u001b[1;33m\u001b[0m\u001b[0m\n\u001b[0;32m     42\u001b[0m         \u001b[1;31m# 8-3 html Doc 가지고 오고\u001b[0m\u001b[1;33m\u001b[0m\u001b[1;33m\u001b[0m\u001b[1;33m\u001b[0m\u001b[0m\n",
      "\u001b[1;31mIndexError\u001b[0m: list index out of range"
     ]
    }
   ],
   "source": [
    "from selenium import webdriver\n",
    "from selenium.webdriver.common.keys import Keys # 키보드 키를 제어하는 라이브러리\n",
    "import re\n",
    "import requests\n",
    "from bs4 import BeautifulSoup\n",
    "import time\n",
    "keys = Keys()\n",
    "keyword = ['빅데이터']\n",
    "\n",
    "# 1. 크롬드라이버 실행\n",
    "driver = webdriver.Chrome('c:/py_data/chromedriver.exe')   # 실수로 끄면 restart\n",
    "# 2. get함수로 사이트로 이동\n",
    "driver.get('http://daum.net')\n",
    "# 3. 검색창 클릭\n",
    "Q_input = driver.find_element_by_css_selector('#q')\n",
    "# 4. 검색어 입력\n",
    "Q_input.send_keys(keyword)\n",
    "# 5. 엔터 클릭\n",
    "Q_input.send_keys(keys.ENTER)\n",
    "# 6. '전체글 더보기' 클릭\n",
    "driver.find_element_by_css_selector('#cafeWrapExtend > a.expender.more > span').click()\n",
    "# 제목, 본문, 댓글 들어갈 리스트 만들고\n",
    "tit_lst = []\n",
    "con_lst = []\n",
    "com_lst = []\n",
    "\n",
    "# 7. (반복) page 변경 1~5\n",
    "query_url = 'https://search.daum.net/search?w=cafe&DA=PGD&q=%EB%B9%85%EB%8D%B0%EC%9D%B4%ED%84%B0&sort=accuracy&ASearchType=1&lpp=10&rlang=0&req=cafe&p='\n",
    "\n",
    "for SearchPageNum in range(1,2):\n",
    "    driver.get(query_url + str(SearchPageNum))\n",
    "    time.sleep(1.5)\n",
    "    # 8. (반복) 해당 페이지 n번째 제목 클릭\n",
    "    for ArticlePageNum in range(1,6):\n",
    "        driver.find_element_by_css_selector('#cafeResultUL > li:nth-child('+str(ArticlePageNum)+') > div.wrap_cont > div > div.wrap_tit.mg_tit > a')\n",
    "        time.sleep(1.5)\n",
    "        # 8-1 탭 위치를 [-1]로 변경\n",
    "        driver.switch_to.window(driver.window_handles[-1])\n",
    "        # 8-2. iframe 전환\n",
    "        driver.switch_to_frame()\n",
    "        # 8-3 html Doc 가지고 오고\n",
    "        sub_html = driver.page_source\n",
    "        sub_soup = BeautifulSoup(sub_html,\"html.parser\")\n",
    "        sub_soup\n",
    "        # 8-4 제목 태그 및 텍스트 추출\n",
    "        title = sub_soup.find('strong', class_ = 'tit_info').text\n",
    "        # 8-5. 본문 태그 및 텍스트 추출\n",
    "        try:\n",
    "            content = sub_soup.find('div', class_='board_post tx-content-container').text\n",
    "        except:\n",
    "            pass\n",
    "        # 8-6. 댓글들 태그 추출\n",
    "        comment_lst = sub_soup.find_all('span', class_='original_comment')\n",
    "        # 8-6-1. n개의 댓글 하나로 합치고\n",
    "        comment = ''\n",
    "        for i in comment_lst:\n",
    "            comment = comment + ' ' + re.sub('[^ㄱ-ㅣ가-힣]','',i.text)\n",
    "         # 8-7. 제목 re.sub 실행\n",
    "        title = re.sub('[^ㄱ-ㅣ가-힣 ]','',title)\n",
    "        # 8-8. 본문 re.sub 실행\n",
    "        content = re.sub('[^ㄱ-ㅣ가-힣 ]','',content)\n",
    "        \n",
    "        tit_lst.append(title)\n",
    "        con_lst.append(content)\n",
    "        com_lst.append(comment)\n",
    "        # 8-10. 현재 탭 닫고\n",
    "        driver.close()\n",
    "        # 8-11. 이전 탭으로 이동\n",
    "        driver.switch_to.window(driver.window_handles[0])\n",
    "        \n",
    "cafe_selenium_df = pd.DataFrame({'제목':tit_lst,'본문':con_lst,'댓글':com_lst})\n",
    "cafe_selenium_df.to_csv('c:/py_data/다음카페' + keyword + '셀레니움 크롤링 저장.csv', encoding='cp949')"
   ]
  },
  {
   "cell_type": "code",
   "execution_count": 1,
   "metadata": {},
   "outputs": [],
   "source": [
    "# 셀리니움 \n",
    "from bs4 import BeautifulSoup\n",
    "from selenium import webdriver\n",
    "import pandas as pd\n",
    "import time\n",
    "import re"
   ]
  },
  {
   "cell_type": "code",
   "execution_count": 2,
   "metadata": {},
   "outputs": [],
   "source": [
    "def driver_close():\n",
    "    driver.close()\n",
    "    driver.switch_to.window(driver.window_handlews[0])   #????"
   ]
  },
  {
   "cell_type": "code",
   "execution_count": 5,
   "metadata": {},
   "outputs": [
    {
     "name": "stdout",
     "output_type": "stream",
     "text": [
      "검색어 입력:에단호크\n",
      "시작 페이지를 입력하세요:1\n",
      "마지막 페이지를 입력하세요:2\n"
     ]
    }
   ],
   "source": [
    "driver = webdriver.Chrome('c:/py_data/chromedriver.exe')\n",
    "keyword = input('검색어 입력:')\n",
    "main_url = 'https://top.cafe.daum.net/_c21_/search?search_opt=board&SearchType=tab&sort_type=accuracy&q='\n",
    "page_url = '&p='\n",
    "min_page = int(input('시작 페이지를 입력하세요:'))\n",
    "max_page = int(input('마지막 페이지를 입력하세요:'))+1\n",
    "\n",
    "tit_lst = []\n",
    "cont_lst = []\n",
    "comm_lst = []\n",
    "err_lst = []"
   ]
  },
  {
   "cell_type": "code",
   "execution_count": 13,
   "metadata": {},
   "outputs": [
    {
     "name": "stdout",
     "output_type": "stream",
     "text": [
      "검색어 입력:유재석\n",
      "시작 페이지를 입력하세요:1\n",
      "마지막 페이지를 입력하세요:2\n"
     ]
    },
    {
     "name": "stderr",
     "output_type": "stream",
     "text": [
      "<ipython-input-13-f05c7a1f6a0f>:33: DeprecationWarning: use driver.switch_to.frame instead\n",
      "  driver.switch_to_frame('down')                              #?????\n"
     ]
    },
    {
     "ename": "ValueError",
     "evalue": "arrays must all be same length",
     "output_type": "error",
     "traceback": [
      "\u001b[1;31m---------------------------------------------------------------------------\u001b[0m",
      "\u001b[1;31mValueError\u001b[0m                                Traceback (most recent call last)",
      "\u001b[1;32m<ipython-input-13-f05c7a1f6a0f>\u001b[0m in \u001b[0;36m<module>\u001b[1;34m\u001b[0m\n\u001b[0;32m     53\u001b[0m         \u001b[0mdriver_close\u001b[0m\u001b[1;33m(\u001b[0m\u001b[1;33m)\u001b[0m\u001b[1;33m\u001b[0m\u001b[1;33m\u001b[0m\u001b[0m\n\u001b[0;32m     54\u001b[0m \u001b[1;33m\u001b[0m\u001b[0m\n\u001b[1;32m---> 55\u001b[1;33m \u001b[0mcafe_df\u001b[0m \u001b[1;33m=\u001b[0m \u001b[0mpd\u001b[0m\u001b[1;33m.\u001b[0m\u001b[0mDataFrame\u001b[0m\u001b[1;33m(\u001b[0m\u001b[1;33m{\u001b[0m\u001b[1;34m'제목'\u001b[0m\u001b[1;33m:\u001b[0m\u001b[0mtit_lst\u001b[0m\u001b[1;33m,\u001b[0m\u001b[1;34m'본문'\u001b[0m\u001b[1;33m:\u001b[0m\u001b[0mcont_lst\u001b[0m\u001b[1;33m,\u001b[0m\u001b[1;34m'댓글'\u001b[0m\u001b[1;33m:\u001b[0m\u001b[0mcomm_lst\u001b[0m\u001b[1;33m}\u001b[0m\u001b[1;33m)\u001b[0m\u001b[1;33m\u001b[0m\u001b[1;33m\u001b[0m\u001b[0m\n\u001b[0m\u001b[0;32m     56\u001b[0m \u001b[0mcafe_df\u001b[0m\u001b[1;33m.\u001b[0m\u001b[0mto_csv\u001b[0m\u001b[1;33m(\u001b[0m\u001b[1;34m\"c:/py_data/\"\u001b[0m\u001b[1;33m+\u001b[0m\u001b[0mkeyword\u001b[0m\u001b[1;33m+\u001b[0m\u001b[1;34m' 다음카페'\u001b[0m\u001b[1;33m+\u001b[0m \u001b[0mstr\u001b[0m\u001b[1;33m(\u001b[0m\u001b[0mmin_page\u001b[0m\u001b[1;33m)\u001b[0m\u001b[1;33m+\u001b[0m\u001b[1;34m'~'\u001b[0m\u001b[1;33m+\u001b[0m\u001b[0mstr\u001b[0m\u001b[1;33m(\u001b[0m\u001b[0mmax_page\u001b[0m\u001b[1;33m)\u001b[0m\u001b[1;33m+\u001b[0m\u001b[1;34m'.csv'\u001b[0m\u001b[1;33m)\u001b[0m\u001b[1;33m\u001b[0m\u001b[1;33m\u001b[0m\u001b[0m\n\u001b[0;32m     57\u001b[0m \u001b[0mdriver\u001b[0m\u001b[1;33m.\u001b[0m\u001b[0mclose\u001b[0m\u001b[1;33m(\u001b[0m\u001b[1;33m)\u001b[0m\u001b[1;33m\u001b[0m\u001b[1;33m\u001b[0m\u001b[0m\n",
      "\u001b[1;32m~\\anaconda3\\lib\\site-packages\\pandas\\core\\frame.py\u001b[0m in \u001b[0;36m__init__\u001b[1;34m(self, data, index, columns, dtype, copy)\u001b[0m\n\u001b[0;32m    466\u001b[0m \u001b[1;33m\u001b[0m\u001b[0m\n\u001b[0;32m    467\u001b[0m         \u001b[1;32melif\u001b[0m \u001b[0misinstance\u001b[0m\u001b[1;33m(\u001b[0m\u001b[0mdata\u001b[0m\u001b[1;33m,\u001b[0m \u001b[0mdict\u001b[0m\u001b[1;33m)\u001b[0m\u001b[1;33m:\u001b[0m\u001b[1;33m\u001b[0m\u001b[1;33m\u001b[0m\u001b[0m\n\u001b[1;32m--> 468\u001b[1;33m             \u001b[0mmgr\u001b[0m \u001b[1;33m=\u001b[0m \u001b[0minit_dict\u001b[0m\u001b[1;33m(\u001b[0m\u001b[0mdata\u001b[0m\u001b[1;33m,\u001b[0m \u001b[0mindex\u001b[0m\u001b[1;33m,\u001b[0m \u001b[0mcolumns\u001b[0m\u001b[1;33m,\u001b[0m \u001b[0mdtype\u001b[0m\u001b[1;33m=\u001b[0m\u001b[0mdtype\u001b[0m\u001b[1;33m)\u001b[0m\u001b[1;33m\u001b[0m\u001b[1;33m\u001b[0m\u001b[0m\n\u001b[0m\u001b[0;32m    469\u001b[0m         \u001b[1;32melif\u001b[0m \u001b[0misinstance\u001b[0m\u001b[1;33m(\u001b[0m\u001b[0mdata\u001b[0m\u001b[1;33m,\u001b[0m \u001b[0mma\u001b[0m\u001b[1;33m.\u001b[0m\u001b[0mMaskedArray\u001b[0m\u001b[1;33m)\u001b[0m\u001b[1;33m:\u001b[0m\u001b[1;33m\u001b[0m\u001b[1;33m\u001b[0m\u001b[0m\n\u001b[0;32m    470\u001b[0m             \u001b[1;32mimport\u001b[0m \u001b[0mnumpy\u001b[0m\u001b[1;33m.\u001b[0m\u001b[0mma\u001b[0m\u001b[1;33m.\u001b[0m\u001b[0mmrecords\u001b[0m \u001b[1;32mas\u001b[0m \u001b[0mmrecords\u001b[0m\u001b[1;33m\u001b[0m\u001b[1;33m\u001b[0m\u001b[0m\n",
      "\u001b[1;32m~\\anaconda3\\lib\\site-packages\\pandas\\core\\internals\\construction.py\u001b[0m in \u001b[0;36minit_dict\u001b[1;34m(data, index, columns, dtype)\u001b[0m\n\u001b[0;32m    281\u001b[0m             \u001b[0marr\u001b[0m \u001b[1;32mif\u001b[0m \u001b[1;32mnot\u001b[0m \u001b[0mis_datetime64tz_dtype\u001b[0m\u001b[1;33m(\u001b[0m\u001b[0marr\u001b[0m\u001b[1;33m)\u001b[0m \u001b[1;32melse\u001b[0m \u001b[0marr\u001b[0m\u001b[1;33m.\u001b[0m\u001b[0mcopy\u001b[0m\u001b[1;33m(\u001b[0m\u001b[1;33m)\u001b[0m \u001b[1;32mfor\u001b[0m \u001b[0marr\u001b[0m \u001b[1;32min\u001b[0m \u001b[0marrays\u001b[0m\u001b[1;33m\u001b[0m\u001b[1;33m\u001b[0m\u001b[0m\n\u001b[0;32m    282\u001b[0m         ]\n\u001b[1;32m--> 283\u001b[1;33m     \u001b[1;32mreturn\u001b[0m \u001b[0marrays_to_mgr\u001b[0m\u001b[1;33m(\u001b[0m\u001b[0marrays\u001b[0m\u001b[1;33m,\u001b[0m \u001b[0mdata_names\u001b[0m\u001b[1;33m,\u001b[0m \u001b[0mindex\u001b[0m\u001b[1;33m,\u001b[0m \u001b[0mcolumns\u001b[0m\u001b[1;33m,\u001b[0m \u001b[0mdtype\u001b[0m\u001b[1;33m=\u001b[0m\u001b[0mdtype\u001b[0m\u001b[1;33m)\u001b[0m\u001b[1;33m\u001b[0m\u001b[1;33m\u001b[0m\u001b[0m\n\u001b[0m\u001b[0;32m    284\u001b[0m \u001b[1;33m\u001b[0m\u001b[0m\n\u001b[0;32m    285\u001b[0m \u001b[1;33m\u001b[0m\u001b[0m\n",
      "\u001b[1;32m~\\anaconda3\\lib\\site-packages\\pandas\\core\\internals\\construction.py\u001b[0m in \u001b[0;36marrays_to_mgr\u001b[1;34m(arrays, arr_names, index, columns, dtype, verify_integrity)\u001b[0m\n\u001b[0;32m     76\u001b[0m         \u001b[1;31m# figure out the index, if necessary\u001b[0m\u001b[1;33m\u001b[0m\u001b[1;33m\u001b[0m\u001b[1;33m\u001b[0m\u001b[0m\n\u001b[0;32m     77\u001b[0m         \u001b[1;32mif\u001b[0m \u001b[0mindex\u001b[0m \u001b[1;32mis\u001b[0m \u001b[1;32mNone\u001b[0m\u001b[1;33m:\u001b[0m\u001b[1;33m\u001b[0m\u001b[1;33m\u001b[0m\u001b[0m\n\u001b[1;32m---> 78\u001b[1;33m             \u001b[0mindex\u001b[0m \u001b[1;33m=\u001b[0m \u001b[0mextract_index\u001b[0m\u001b[1;33m(\u001b[0m\u001b[0marrays\u001b[0m\u001b[1;33m)\u001b[0m\u001b[1;33m\u001b[0m\u001b[1;33m\u001b[0m\u001b[0m\n\u001b[0m\u001b[0;32m     79\u001b[0m         \u001b[1;32melse\u001b[0m\u001b[1;33m:\u001b[0m\u001b[1;33m\u001b[0m\u001b[1;33m\u001b[0m\u001b[0m\n\u001b[0;32m     80\u001b[0m             \u001b[0mindex\u001b[0m \u001b[1;33m=\u001b[0m \u001b[0mensure_index\u001b[0m\u001b[1;33m(\u001b[0m\u001b[0mindex\u001b[0m\u001b[1;33m)\u001b[0m\u001b[1;33m\u001b[0m\u001b[1;33m\u001b[0m\u001b[0m\n",
      "\u001b[1;32m~\\anaconda3\\lib\\site-packages\\pandas\\core\\internals\\construction.py\u001b[0m in \u001b[0;36mextract_index\u001b[1;34m(data)\u001b[0m\n\u001b[0;32m    395\u001b[0m             \u001b[0mlengths\u001b[0m \u001b[1;33m=\u001b[0m \u001b[0mlist\u001b[0m\u001b[1;33m(\u001b[0m\u001b[0mset\u001b[0m\u001b[1;33m(\u001b[0m\u001b[0mraw_lengths\u001b[0m\u001b[1;33m)\u001b[0m\u001b[1;33m)\u001b[0m\u001b[1;33m\u001b[0m\u001b[1;33m\u001b[0m\u001b[0m\n\u001b[0;32m    396\u001b[0m             \u001b[1;32mif\u001b[0m \u001b[0mlen\u001b[0m\u001b[1;33m(\u001b[0m\u001b[0mlengths\u001b[0m\u001b[1;33m)\u001b[0m \u001b[1;33m>\u001b[0m \u001b[1;36m1\u001b[0m\u001b[1;33m:\u001b[0m\u001b[1;33m\u001b[0m\u001b[1;33m\u001b[0m\u001b[0m\n\u001b[1;32m--> 397\u001b[1;33m                 \u001b[1;32mraise\u001b[0m \u001b[0mValueError\u001b[0m\u001b[1;33m(\u001b[0m\u001b[1;34m\"arrays must all be same length\"\u001b[0m\u001b[1;33m)\u001b[0m\u001b[1;33m\u001b[0m\u001b[1;33m\u001b[0m\u001b[0m\n\u001b[0m\u001b[0;32m    398\u001b[0m \u001b[1;33m\u001b[0m\u001b[0m\n\u001b[0;32m    399\u001b[0m             \u001b[1;32mif\u001b[0m \u001b[0mhave_dicts\u001b[0m\u001b[1;33m:\u001b[0m\u001b[1;33m\u001b[0m\u001b[1;33m\u001b[0m\u001b[0m\n",
      "\u001b[1;31mValueError\u001b[0m: arrays must all be same length"
     ]
    }
   ],
   "source": [
    "# 셀리니움 \n",
    "from bs4 import BeautifulSoup\n",
    "from selenium import webdriver\n",
    "import pandas as pd\n",
    "import time\n",
    "import re\n",
    "\n",
    "def driver_close():\n",
    "    driver.close()\n",
    "    driver.switch_to.window(driver.window_handles[0])   #????\n",
    "    \n",
    "driver = webdriver.Chrome('c:/py_data/chromedriver.exe')  \n",
    "keyword = input('검색어 입력:')\n",
    "main_url = 'https://top.cafe.daum.net/_c21_/search?search_opt=board&SearchType=tab&sort_type=accuracy&q='\n",
    "page_url = '&p='\n",
    "min_page = int(input('시작 페이지를 입력하세요:'))\n",
    "max_page = int(input('마지막 페이지를 입력하세요:'))+1\n",
    "\n",
    "tit_lst = []\n",
    "cont_lst = []\n",
    "comm_lst = []\n",
    "err_lst = []\n",
    "for pagenum in range(min_page, max_page):\n",
    "    driver.get(main_url + keyword + page_url + str(pagenum))\n",
    "    time.sleep(2)\n",
    "    html =driver.page_source\n",
    "    soup = BeautifulSoup(html, 'html.parser')\n",
    "    link_len = len(soup.find_all('strong', class_='tit_list'))+1\n",
    "    for golink in range(1,link_len):\n",
    "        driver.find_element_by_css_selector('#articleContentWrap'+str(golink)+' > div.scafe_cont > strong > a').click()\n",
    "        time.sleep(2)\n",
    "        driver.switch_to.window(driver.window_handles[-1])\n",
    "        driver.switch_to_frame('down')                              #?????\n",
    "        html = driver.page_source\n",
    "        soup = BeautifulSoup(html, 'html.parser')\n",
    "        try:\n",
    "            title = soup.find('strong', class_='tit_info').text\n",
    "            cont = soup.find('div',class_='board_post tx-content-container').text\n",
    "            comment_lst = soup.find_all('span', class_='original_comment')\n",
    "            commen = ''\n",
    "            for txt in comment_lst:\n",
    "                commen = commen + ' ' + txt.text\n",
    "        except:\n",
    "            err_lst.append(driver.current_url)\n",
    "            driver_close()    # 사용자 정의 함수\n",
    "            continue\n",
    "        title = re.sub('[^ㄱ-ㅣ가-힣]','',title)\n",
    "        tit_lst.append(title)\n",
    "        cont = re.sub('[^ㄱ-ㅣ가-힣]','',cont)\n",
    "        cont_lst.append(cont)\n",
    "        commen = re.sub('[^ㄱ-ㅣ가-힣]','',commen)\n",
    "        comment_lst.append(commen)\n",
    "        driver_close()\n",
    "\n",
    "cafe_df = pd.DataFrame({'제목':tit_lst,'본문':cont_lst,'댓글':comm_lst})\n",
    "cafe_df.to_csv(\"c:/py_data/\"+keyword+' 다음카페'+ str(min_page)+'~'+str(max_page)+'.csv')\n",
    "driver.close()\n",
    "        "
   ]
  },
  {
   "cell_type": "code",
   "execution_count": null,
   "metadata": {},
   "outputs": [],
   "source": []
  }
 ],
 "metadata": {
  "kernelspec": {
   "display_name": "Python 3",
   "language": "python",
   "name": "python3"
  },
  "language_info": {
   "codemirror_mode": {
    "name": "ipython",
    "version": 3
   },
   "file_extension": ".py",
   "mimetype": "text/x-python",
   "name": "python",
   "nbconvert_exporter": "python",
   "pygments_lexer": "ipython3",
   "version": "3.8.5"
  }
 },
 "nbformat": 4,
 "nbformat_minor": 4
}
